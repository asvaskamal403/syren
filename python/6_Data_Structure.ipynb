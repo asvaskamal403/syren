{
  "nbformat": 4,
  "nbformat_minor": 0,
  "metadata": {
    "colab": {
      "provenance": [],
      "include_colab_link": true
    },
    "kernelspec": {
      "name": "python3",
      "display_name": "Python 3"
    },
    "language_info": {
      "name": "python"
    }
  },
  "cells": [
    {
      "cell_type": "markdown",
      "metadata": {
        "id": "view-in-github",
        "colab_type": "text"
      },
      "source": [
        "<a href=\"https://colab.research.google.com/github/asvaskamal403/python/blob/kamal/6_Data_Structure.ipynb\" target=\"_parent\"><img src=\"https://colab.research.google.com/assets/colab-badge.svg\" alt=\"Open In Colab\"/></a>"
      ]
    },
    {
      "cell_type": "code",
      "execution_count": null,
      "metadata": {
        "colab": {
          "base_uri": "https://localhost:8080/"
        },
        "id": "1eV7WEozsk5d",
        "outputId": "1a798fb9-0d6f-407a-f9df-851f873f30b3"
      },
      "outputs": [
        {
          "output_type": "stream",
          "name": "stdout",
          "text": [
            "=========Date 19 May ===========\n"
          ]
        }
      ],
      "source": [
        "print('=========Date 19 May ===========')"
      ]
    },
    {
      "cell_type": "code",
      "source": [
        "!python --version"
      ],
      "metadata": {
        "colab": {
          "base_uri": "https://localhost:8080/"
        },
        "id": "hU1YGneusr0E",
        "outputId": "8ace76fa-a311-46ee-ca1a-82c26fc18cb5"
      },
      "execution_count": null,
      "outputs": [
        {
          "output_type": "stream",
          "name": "stdout",
          "text": [
            "Python 3.10.11\n"
          ]
        }
      ]
    },
    {
      "cell_type": "code",
      "source": [
        "# how  to create blank list \n",
        "list1= []"
      ],
      "metadata": {
        "id": "lcC-b9Vcsyla"
      },
      "execution_count": null,
      "outputs": []
    },
    {
      "cell_type": "code",
      "source": [
        "type(list1)"
      ],
      "metadata": {
        "colab": {
          "base_uri": "https://localhost:8080/"
        },
        "id": "AOfAES1ks5W5",
        "outputId": "5c6c0b13-6474-4d9f-83e6-1b32ce47a5be"
      },
      "execution_count": null,
      "outputs": [
        {
          "output_type": "execute_result",
          "data": {
            "text/plain": [
              "list"
            ]
          },
          "metadata": {},
          "execution_count": 4
        }
      ]
    },
    {
      "cell_type": "code",
      "source": [
        "list1"
      ],
      "metadata": {
        "colab": {
          "base_uri": "https://localhost:8080/"
        },
        "id": "oSnlqEoAs7iL",
        "outputId": "1f1e5260-c2ac-4b4c-a1b0-966cd9401741"
      },
      "execution_count": null,
      "outputs": [
        {
          "output_type": "execute_result",
          "data": {
            "text/plain": [
              "[]"
            ]
          },
          "metadata": {},
          "execution_count": 5
        }
      ]
    },
    {
      "cell_type": "code",
      "source": [
        "# list of string\n",
        "country = ['Anerica','Brazil','Canada','Denmark']"
      ],
      "metadata": {
        "id": "UtF4pBOrs9zm"
      },
      "execution_count": null,
      "outputs": []
    },
    {
      "cell_type": "code",
      "source": [
        "country"
      ],
      "metadata": {
        "colab": {
          "base_uri": "https://localhost:8080/"
        },
        "id": "msBOZKu4tQMJ",
        "outputId": "900c11e7-f99b-4ab6-b4d1-eb4065cba389"
      },
      "execution_count": null,
      "outputs": [
        {
          "output_type": "execute_result",
          "data": {
            "text/plain": [
              "['Anerica', 'Brazil', 'Canada', 'Denmark']"
            ]
          },
          "metadata": {},
          "execution_count": 7
        }
      ]
    },
    {
      "cell_type": "code",
      "source": [
        "# length of string list\n",
        "len(country)"
      ],
      "metadata": {
        "colab": {
          "base_uri": "https://localhost:8080/"
        },
        "id": "fLCZOTpEtRy-",
        "outputId": "3ce9096b-3619-4322-f524-9bc4520443f1"
      },
      "execution_count": null,
      "outputs": [
        {
          "output_type": "execute_result",
          "data": {
            "text/plain": [
              "4"
            ]
          },
          "metadata": {},
          "execution_count": 8
        }
      ]
    },
    {
      "cell_type": "code",
      "source": [
        "for i in country:\n",
        "  print(i , end =', ')"
      ],
      "metadata": {
        "colab": {
          "base_uri": "https://localhost:8080/"
        },
        "id": "Xg7YJi2ftYIa",
        "outputId": "646716fe-4e1c-4ccc-cadd-d09ad8b1ce6c"
      },
      "execution_count": null,
      "outputs": [
        {
          "output_type": "stream",
          "name": "stdout",
          "text": [
            "Anerica, Brazil, Canada, Denmark, "
          ]
        }
      ]
    },
    {
      "cell_type": "code",
      "source": [
        "# numeric list\n",
        "list2=[2,4,5,6,7,8,9]"
      ],
      "metadata": {
        "id": "mjweKILbtcyZ"
      },
      "execution_count": null,
      "outputs": []
    },
    {
      "cell_type": "code",
      "source": [
        "list2"
      ],
      "metadata": {
        "colab": {
          "base_uri": "https://localhost:8080/"
        },
        "id": "e8oHVyQQti9f",
        "outputId": "424628c3-b4f8-41f9-db86-c0cd0785c79a"
      },
      "execution_count": null,
      "outputs": [
        {
          "output_type": "execute_result",
          "data": {
            "text/plain": [
              "[2, 4, 5, 6, 7, 8, 9]"
            ]
          },
          "metadata": {},
          "execution_count": 11
        }
      ]
    },
    {
      "cell_type": "code",
      "source": [
        "# hybrid  list\n",
        "list3=['Rajesh', 45, 54000.67,'Delhi',False]"
      ],
      "metadata": {
        "id": "sD8soBWetkVA"
      },
      "execution_count": null,
      "outputs": []
    },
    {
      "cell_type": "code",
      "source": [
        "list3"
      ],
      "metadata": {
        "colab": {
          "base_uri": "https://localhost:8080/"
        },
        "id": "VlwJAmkutv_X",
        "outputId": "9d988b62-0d67-443c-bd4e-932350302bdc"
      },
      "execution_count": null,
      "outputs": [
        {
          "output_type": "execute_result",
          "data": {
            "text/plain": [
              "['Rajesh', 45, 54000.67, 'Delhi', False]"
            ]
          },
          "metadata": {},
          "execution_count": 15
        }
      ]
    },
    {
      "cell_type": "code",
      "source": [
        "# nested list\n",
        "list4= [['A','B','C'],['D','E','F']]\n",
        "list4"
      ],
      "metadata": {
        "colab": {
          "base_uri": "https://localhost:8080/"
        },
        "id": "e8o2X1PZt26A",
        "outputId": "5b42dfdd-8eff-4430-cc72-cacfbe2572e5"
      },
      "execution_count": null,
      "outputs": [
        {
          "output_type": "execute_result",
          "data": {
            "text/plain": [
              "[['A', 'B', 'C'], ['D', 'E', 'F']]"
            ]
          },
          "metadata": {},
          "execution_count": 16
        }
      ]
    },
    {
      "cell_type": "code",
      "source": [
        "for i in list4:\n",
        "  for j in i:\n",
        "    print(j, end =', ')"
      ],
      "metadata": {
        "colab": {
          "base_uri": "https://localhost:8080/"
        },
        "id": "DI-n7e78uEBd",
        "outputId": "a3b7a00d-0470-4f33-f8c8-796f248a89b8"
      },
      "execution_count": null,
      "outputs": [
        {
          "output_type": "stream",
          "name": "stdout",
          "text": [
            "A, B, C, D, E, F, "
          ]
        }
      ]
    },
    {
      "cell_type": "markdown",
      "source": [
        "## **LIST indexing**"
      ],
      "metadata": {
        "id": "X9t5OapQuuGf"
      }
    },
    {
      "cell_type": "code",
      "source": [
        "list5 = [5,3,4,5,6,7,8,9,5,4,3]"
      ],
      "metadata": {
        "id": "fnoYXrEjutWM"
      },
      "execution_count": null,
      "outputs": []
    },
    {
      "cell_type": "code",
      "source": [
        "list5[1]"
      ],
      "metadata": {
        "colab": {
          "base_uri": "https://localhost:8080/"
        },
        "id": "fRc_giz1vF7l",
        "outputId": "3ab64756-7e60-44da-f3c9-486023121d0c"
      },
      "execution_count": null,
      "outputs": [
        {
          "output_type": "execute_result",
          "data": {
            "text/plain": [
              "3"
            ]
          },
          "metadata": {},
          "execution_count": 22
        }
      ]
    },
    {
      "cell_type": "code",
      "source": [
        "# +ve\n",
        "for i in range(len(list5)):\n",
        "  print('list5[',i,']->',list5[i])"
      ],
      "metadata": {
        "colab": {
          "base_uri": "https://localhost:8080/"
        },
        "id": "hud68F1CutZR",
        "outputId": "4b1b4c9f-151c-4fc6-eee2-30b1776035f0"
      },
      "execution_count": null,
      "outputs": [
        {
          "output_type": "stream",
          "name": "stdout",
          "text": [
            "list5[ 0 ]-> 5\n",
            "list5[ 1 ]-> 3\n",
            "list5[ 2 ]-> 4\n",
            "list5[ 3 ]-> 5\n",
            "list5[ 4 ]-> 6\n",
            "list5[ 5 ]-> 7\n",
            "list5[ 6 ]-> 8\n",
            "list5[ 7 ]-> 9\n",
            "list5[ 8 ]-> 5\n",
            "list5[ 9 ]-> 4\n",
            "list5[ 10 ]-> 3\n"
          ]
        }
      ]
    },
    {
      "cell_type": "code",
      "source": [
        "#-ve \n",
        "for i in range(-len(list5) ,0):\n",
        "  print('list5[',i,']->',list5[i])"
      ],
      "metadata": {
        "colab": {
          "base_uri": "https://localhost:8080/"
        },
        "id": "Ktb8xowcuIvO",
        "outputId": "d374dddc-353f-4d9c-feb7-f7174b70b708"
      },
      "execution_count": null,
      "outputs": [
        {
          "output_type": "stream",
          "name": "stdout",
          "text": [
            "list5[ -11 ]-> 5\n",
            "list5[ -10 ]-> 3\n",
            "list5[ -9 ]-> 4\n",
            "list5[ -8 ]-> 5\n",
            "list5[ -7 ]-> 6\n",
            "list5[ -6 ]-> 7\n",
            "list5[ -5 ]-> 8\n",
            "list5[ -4 ]-> 9\n",
            "list5[ -3 ]-> 5\n",
            "list5[ -2 ]-> 4\n",
            "list5[ -1 ]-> 3\n"
          ]
        }
      ]
    },
    {
      "cell_type": "code",
      "source": [
        "# list are mutable\n",
        "country"
      ],
      "metadata": {
        "colab": {
          "base_uri": "https://localhost:8080/"
        },
        "id": "3t-dpvOIvgbg",
        "outputId": "8ea2e12b-3e9d-4b9a-d91b-45f91c27101a"
      },
      "execution_count": null,
      "outputs": [
        {
          "output_type": "execute_result",
          "data": {
            "text/plain": [
              "['Anerica', 'Brazil', 'Canada', 'Denmark']"
            ]
          },
          "metadata": {},
          "execution_count": 25
        }
      ]
    },
    {
      "cell_type": "code",
      "source": [
        "country[1]='India'"
      ],
      "metadata": {
        "id": "Du9Bw0Bovgem"
      },
      "execution_count": null,
      "outputs": []
    },
    {
      "cell_type": "code",
      "source": [
        "country"
      ],
      "metadata": {
        "colab": {
          "base_uri": "https://localhost:8080/"
        },
        "id": "NhkJgcJtvgh1",
        "outputId": "ec9f6f53-e31f-418e-c493-d5e57b171bd4"
      },
      "execution_count": null,
      "outputs": [
        {
          "output_type": "execute_result",
          "data": {
            "text/plain": [
              "['Anerica', 'India', 'Canada', 'Denmark']"
            ]
          },
          "metadata": {},
          "execution_count": 27
        }
      ]
    },
    {
      "cell_type": "code",
      "source": [
        "# Session Assignment\n",
        "# take a list of 7 numbers\n",
        "# perform any 5 slicing opeartion +ve\n",
        "# perform any 5 slicing opeartion -ve"
      ],
      "metadata": {
        "id": "88wV-ljvvnzm"
      },
      "execution_count": null,
      "outputs": []
    },
    {
      "cell_type": "markdown",
      "source": [
        "## **List Library Method**"
      ],
      "metadata": {
        "id": "hKY4GxkHyE9V"
      }
    },
    {
      "cell_type": "code",
      "source": [
        "#1. append(value):this method will appned the value in this list\n",
        "list6= [3,4,5,6]\n",
        "list6.append(9)"
      ],
      "metadata": {
        "id": "fMxXdAQ4vr1C"
      },
      "execution_count": null,
      "outputs": []
    },
    {
      "cell_type": "code",
      "source": [
        "list6"
      ],
      "metadata": {
        "colab": {
          "base_uri": "https://localhost:8080/"
        },
        "id": "Ka7V71gvvr3-",
        "outputId": "01af931f-31f1-4b55-dd6e-df877b89d3bc"
      },
      "execution_count": null,
      "outputs": [
        {
          "output_type": "execute_result",
          "data": {
            "text/plain": [
              "[3, 4, 5, 6, 9]"
            ]
          },
          "metadata": {},
          "execution_count": 30
        }
      ]
    },
    {
      "cell_type": "code",
      "source": [
        "# WAP to store cubes from 1 to 10 in the blank list\n",
        "cube=[]\n",
        "for i in range(1,11):\n",
        "  cube.append(i**3)"
      ],
      "metadata": {
        "id": "HKmy7K0Fvr68"
      },
      "execution_count": null,
      "outputs": []
    },
    {
      "cell_type": "code",
      "source": [
        "cube"
      ],
      "metadata": {
        "colab": {
          "base_uri": "https://localhost:8080/"
        },
        "id": "kwt14ZD6vr9y",
        "outputId": "ec22fa7b-d704-47db-af84-27b3b65b7519"
      },
      "execution_count": null,
      "outputs": [
        {
          "output_type": "execute_result",
          "data": {
            "text/plain": [
              "[1, 8, 27, 64, 125, 216, 343, 512, 729, 1000]"
            ]
          },
          "metadata": {},
          "execution_count": 32
        }
      ]
    },
    {
      "cell_type": "code",
      "source": [
        "# WAP to store even values  from the given list into the blank list"
      ],
      "metadata": {
        "id": "ToixKN4AvsAw"
      },
      "execution_count": null,
      "outputs": []
    },
    {
      "cell_type": "markdown",
      "source": [
        "## Assignment : WAP to check that name given in the list start with 'R' , if yes store those name in another list"
      ],
      "metadata": {
        "id": "VBNnvjVizs0K"
      }
    },
    {
      "cell_type": "code",
      "source": [
        "#2.insert(index , value):\n",
        "cube"
      ],
      "metadata": {
        "colab": {
          "base_uri": "https://localhost:8080/"
        },
        "id": "VSF6VdIbzZ-E",
        "outputId": "f298b494-24d2-4edf-a0b7-aa40eb45747e"
      },
      "execution_count": null,
      "outputs": [
        {
          "output_type": "execute_result",
          "data": {
            "text/plain": [
              "[1, 8, 27, 64, 125, 216, 343, 512, 729, 1000]"
            ]
          },
          "metadata": {},
          "execution_count": 33
        }
      ]
    },
    {
      "cell_type": "code",
      "source": [
        "cube.insert(1,100)\n",
        "cube"
      ],
      "metadata": {
        "colab": {
          "base_uri": "https://localhost:8080/"
        },
        "id": "gtlLPL-Kzqgo",
        "outputId": "ad958501-78a4-4656-b3cb-886c0e8cbcbf"
      },
      "execution_count": null,
      "outputs": [
        {
          "output_type": "execute_result",
          "data": {
            "text/plain": [
              "[1, 100, 8, 27, 64, 125, 216, 343, 512, 729, 1000]"
            ]
          },
          "metadata": {},
          "execution_count": 34
        }
      ]
    },
    {
      "cell_type": "code",
      "source": [
        "#3 count(): this will return frequency of any value\n",
        "list5"
      ],
      "metadata": {
        "colab": {
          "base_uri": "https://localhost:8080/"
        },
        "id": "GGY6FNCTzqj2",
        "outputId": "d7ade97e-18d1-4fc7-f318-455fe4f55827"
      },
      "execution_count": null,
      "outputs": [
        {
          "output_type": "execute_result",
          "data": {
            "text/plain": [
              "[5, 3, 4, 5, 6, 7, 8, 9, 5, 4, 3]"
            ]
          },
          "metadata": {},
          "execution_count": 35
        }
      ]
    },
    {
      "cell_type": "code",
      "source": [
        "list5.count(5)"
      ],
      "metadata": {
        "colab": {
          "base_uri": "https://localhost:8080/"
        },
        "id": "PM_0n4ZKzqnW",
        "outputId": "6e644c26-0683-44a4-b2ae-dfc333df157d"
      },
      "execution_count": null,
      "outputs": [
        {
          "output_type": "execute_result",
          "data": {
            "text/plain": [
              "3"
            ]
          },
          "metadata": {},
          "execution_count": 36
        }
      ]
    },
    {
      "cell_type": "code",
      "source": [
        "list5.count(51)"
      ],
      "metadata": {
        "colab": {
          "base_uri": "https://localhost:8080/"
        },
        "id": "KMvHw7Qf0WKI",
        "outputId": "daa80a15-9b50-4ac9-f39c-1936a1ca3219"
      },
      "execution_count": null,
      "outputs": [
        {
          "output_type": "execute_result",
          "data": {
            "text/plain": [
              "0"
            ]
          },
          "metadata": {},
          "execution_count": 37
        }
      ]
    },
    {
      "cell_type": "code",
      "source": [
        "#4. index(value) : this will give lowest index of the value\n",
        "list5"
      ],
      "metadata": {
        "colab": {
          "base_uri": "https://localhost:8080/"
        },
        "id": "kbGaFQpt0asN",
        "outputId": "a1de256e-9bd5-4f6a-a2cf-3b3242825e7c"
      },
      "execution_count": null,
      "outputs": [
        {
          "output_type": "execute_result",
          "data": {
            "text/plain": [
              "[5, 3, 4, 5, 6, 7, 8, 9, 5, 4, 3]"
            ]
          },
          "metadata": {},
          "execution_count": 38
        }
      ]
    },
    {
      "cell_type": "code",
      "source": [
        "list5.index(5)"
      ],
      "metadata": {
        "colab": {
          "base_uri": "https://localhost:8080/"
        },
        "id": "oTGxlGvG0tsw",
        "outputId": "06e02cd1-1973-4ef5-efac-557401806f15"
      },
      "execution_count": null,
      "outputs": [
        {
          "output_type": "execute_result",
          "data": {
            "text/plain": [
              "0"
            ]
          },
          "metadata": {},
          "execution_count": 39
        }
      ]
    },
    {
      "cell_type": "code",
      "source": [
        "#5 pop(): this will remove last , printthe last item\n",
        "# pop(index)\n",
        "\n",
        "list5"
      ],
      "metadata": {
        "colab": {
          "base_uri": "https://localhost:8080/"
        },
        "id": "1YVZHCrW0ygA",
        "outputId": "b3cf0703-171f-4263-9f21-6babcc148bb8"
      },
      "execution_count": null,
      "outputs": [
        {
          "output_type": "execute_result",
          "data": {
            "text/plain": [
              "[5, 3, 4, 5, 6, 7, 8, 9, 5, 4, 3]"
            ]
          },
          "metadata": {},
          "execution_count": 40
        }
      ]
    },
    {
      "cell_type": "code",
      "source": [
        "list5.pop()"
      ],
      "metadata": {
        "colab": {
          "base_uri": "https://localhost:8080/"
        },
        "id": "V3lNRWby1C1u",
        "outputId": "036be101-bbaa-4663-f41c-50325be00b8e"
      },
      "execution_count": null,
      "outputs": [
        {
          "output_type": "execute_result",
          "data": {
            "text/plain": [
              "3"
            ]
          },
          "metadata": {},
          "execution_count": 41
        }
      ]
    },
    {
      "cell_type": "code",
      "source": [
        "list5"
      ],
      "metadata": {
        "colab": {
          "base_uri": "https://localhost:8080/"
        },
        "id": "YtCf0FFu1Fad",
        "outputId": "7e5ad30f-a5dc-4da5-9b28-a9ac4ba1a853"
      },
      "execution_count": null,
      "outputs": [
        {
          "output_type": "execute_result",
          "data": {
            "text/plain": [
              "[5, 3, 4, 5, 6, 7, 8, 9, 5, 4]"
            ]
          },
          "metadata": {},
          "execution_count": 42
        }
      ]
    },
    {
      "cell_type": "code",
      "source": [
        "list5.pop(1)"
      ],
      "metadata": {
        "colab": {
          "base_uri": "https://localhost:8080/"
        },
        "id": "fFwazZQU1IF2",
        "outputId": "f973c7be-6eb0-46d8-bc46-48bc1ff6e90e"
      },
      "execution_count": null,
      "outputs": [
        {
          "output_type": "execute_result",
          "data": {
            "text/plain": [
              "3"
            ]
          },
          "metadata": {},
          "execution_count": 43
        }
      ]
    },
    {
      "cell_type": "code",
      "source": [
        "# Session assignment : remove all even values from given list "
      ],
      "metadata": {
        "id": "Aue1HiA61L-x"
      },
      "execution_count": null,
      "outputs": []
    },
    {
      "cell_type": "code",
      "source": [
        "l=[1,2,3,4,5,6,7]\n",
        "for i in range(len(l)):\n",
        "  if l[i]%2==0:\n",
        "    l.pop(i)\n",
        "\n",
        "print(l)"
      ],
      "metadata": {
        "colab": {
          "base_uri": "https://localhost:8080/",
          "height": 241
        },
        "id": "njOI8Xqn1cjh",
        "outputId": "ee663155-62ff-42cc-99ac-d49db14b6c9d"
      },
      "execution_count": null,
      "outputs": [
        {
          "output_type": "error",
          "ename": "IndexError",
          "evalue": "ignored",
          "traceback": [
            "\u001b[0;31m---------------------------------------------------------------------------\u001b[0m",
            "\u001b[0;31mIndexError\u001b[0m                                Traceback (most recent call last)",
            "\u001b[0;32m<ipython-input-44-62224c0c318b>\u001b[0m in \u001b[0;36m<cell line: 2>\u001b[0;34m()\u001b[0m\n\u001b[1;32m      1\u001b[0m \u001b[0ml\u001b[0m\u001b[0;34m=\u001b[0m\u001b[0;34m[\u001b[0m\u001b[0;36m1\u001b[0m\u001b[0;34m,\u001b[0m\u001b[0;36m2\u001b[0m\u001b[0;34m,\u001b[0m\u001b[0;36m3\u001b[0m\u001b[0;34m,\u001b[0m\u001b[0;36m4\u001b[0m\u001b[0;34m,\u001b[0m\u001b[0;36m5\u001b[0m\u001b[0;34m,\u001b[0m\u001b[0;36m6\u001b[0m\u001b[0;34m,\u001b[0m\u001b[0;36m7\u001b[0m\u001b[0;34m]\u001b[0m\u001b[0;34m\u001b[0m\u001b[0;34m\u001b[0m\u001b[0m\n\u001b[1;32m      2\u001b[0m \u001b[0;32mfor\u001b[0m \u001b[0mi\u001b[0m \u001b[0;32min\u001b[0m \u001b[0mrange\u001b[0m\u001b[0;34m(\u001b[0m\u001b[0mlen\u001b[0m\u001b[0;34m(\u001b[0m\u001b[0ml\u001b[0m\u001b[0;34m)\u001b[0m\u001b[0;34m)\u001b[0m\u001b[0;34m:\u001b[0m\u001b[0;34m\u001b[0m\u001b[0;34m\u001b[0m\u001b[0m\n\u001b[0;32m----> 3\u001b[0;31m   \u001b[0;32mif\u001b[0m \u001b[0ml\u001b[0m\u001b[0;34m[\u001b[0m\u001b[0mi\u001b[0m\u001b[0;34m]\u001b[0m\u001b[0;34m%\u001b[0m\u001b[0;36m2\u001b[0m\u001b[0;34m==\u001b[0m\u001b[0;36m0\u001b[0m\u001b[0;34m:\u001b[0m\u001b[0;34m\u001b[0m\u001b[0;34m\u001b[0m\u001b[0m\n\u001b[0m\u001b[1;32m      4\u001b[0m     \u001b[0ml\u001b[0m\u001b[0;34m.\u001b[0m\u001b[0mpop\u001b[0m\u001b[0;34m(\u001b[0m\u001b[0mi\u001b[0m\u001b[0;34m)\u001b[0m\u001b[0;34m\u001b[0m\u001b[0;34m\u001b[0m\u001b[0m\n\u001b[1;32m      5\u001b[0m \u001b[0;34m\u001b[0m\u001b[0m\n",
            "\u001b[0;31mIndexError\u001b[0m: list index out of range"
          ]
        }
      ]
    },
    {
      "cell_type": "code",
      "source": [
        "l=[1,2,3,4,5,6,7]\n",
        "for i in range(len(l)):\n",
        "  if l[i]%2==0:\n",
        "    print(i , l[i])\n",
        "    l.pop(i)"
      ],
      "metadata": {
        "colab": {
          "base_uri": "https://localhost:8080/",
          "height": 294
        },
        "id": "hSWisudr3kIY",
        "outputId": "93b87244-59f4-449c-b6cf-0c49d385e12d"
      },
      "execution_count": null,
      "outputs": [
        {
          "output_type": "stream",
          "name": "stdout",
          "text": [
            "1 2\n",
            "2 4\n",
            "3 6\n"
          ]
        },
        {
          "output_type": "error",
          "ename": "IndexError",
          "evalue": "ignored",
          "traceback": [
            "\u001b[0;31m---------------------------------------------------------------------------\u001b[0m",
            "\u001b[0;31mIndexError\u001b[0m                                Traceback (most recent call last)",
            "\u001b[0;32m<ipython-input-47-695f27e89514>\u001b[0m in \u001b[0;36m<cell line: 2>\u001b[0;34m()\u001b[0m\n\u001b[1;32m      1\u001b[0m \u001b[0ml\u001b[0m\u001b[0;34m=\u001b[0m\u001b[0;34m[\u001b[0m\u001b[0;36m1\u001b[0m\u001b[0;34m,\u001b[0m\u001b[0;36m2\u001b[0m\u001b[0;34m,\u001b[0m\u001b[0;36m3\u001b[0m\u001b[0;34m,\u001b[0m\u001b[0;36m4\u001b[0m\u001b[0;34m,\u001b[0m\u001b[0;36m5\u001b[0m\u001b[0;34m,\u001b[0m\u001b[0;36m6\u001b[0m\u001b[0;34m,\u001b[0m\u001b[0;36m7\u001b[0m\u001b[0;34m]\u001b[0m\u001b[0;34m\u001b[0m\u001b[0;34m\u001b[0m\u001b[0m\n\u001b[1;32m      2\u001b[0m \u001b[0;32mfor\u001b[0m \u001b[0mi\u001b[0m \u001b[0;32min\u001b[0m \u001b[0mrange\u001b[0m\u001b[0;34m(\u001b[0m\u001b[0mlen\u001b[0m\u001b[0;34m(\u001b[0m\u001b[0ml\u001b[0m\u001b[0;34m)\u001b[0m\u001b[0;34m)\u001b[0m\u001b[0;34m:\u001b[0m\u001b[0;34m\u001b[0m\u001b[0;34m\u001b[0m\u001b[0m\n\u001b[0;32m----> 3\u001b[0;31m   \u001b[0;32mif\u001b[0m \u001b[0ml\u001b[0m\u001b[0;34m[\u001b[0m\u001b[0mi\u001b[0m\u001b[0;34m]\u001b[0m\u001b[0;34m%\u001b[0m\u001b[0;36m2\u001b[0m\u001b[0;34m==\u001b[0m\u001b[0;36m0\u001b[0m\u001b[0;34m:\u001b[0m\u001b[0;34m\u001b[0m\u001b[0;34m\u001b[0m\u001b[0m\n\u001b[0m\u001b[1;32m      4\u001b[0m     \u001b[0mprint\u001b[0m\u001b[0;34m(\u001b[0m\u001b[0mi\u001b[0m \u001b[0;34m,\u001b[0m \u001b[0ml\u001b[0m\u001b[0;34m[\u001b[0m\u001b[0mi\u001b[0m\u001b[0;34m]\u001b[0m\u001b[0;34m)\u001b[0m\u001b[0;34m\u001b[0m\u001b[0;34m\u001b[0m\u001b[0m\n\u001b[1;32m      5\u001b[0m     \u001b[0ml\u001b[0m\u001b[0;34m.\u001b[0m\u001b[0mpop\u001b[0m\u001b[0;34m(\u001b[0m\u001b[0mi\u001b[0m\u001b[0;34m)\u001b[0m\u001b[0;34m\u001b[0m\u001b[0;34m\u001b[0m\u001b[0m\n",
            "\u001b[0;31mIndexError\u001b[0m: list index out of range"
          ]
        }
      ]
    },
    {
      "cell_type": "code",
      "source": [
        "# perform these operation on list\n",
        "# in\n",
        "# not in\n",
        "# max(list5)\n",
        "# min(list5)\n",
        "# sum(list5)\n",
        "# sorted(list5) == find the difference\n",
        "# sort(list5)\n",
        "# reverse(list5)\n"
      ],
      "metadata": {
        "id": "gUME_ZYK1cmo"
      },
      "execution_count": null,
      "outputs": []
    },
    {
      "cell_type": "code",
      "source": [
        "# suppose you  have 5 mail , out of 5 3 belong to gmail\n",
        "# you need to write the program where you can filter only those email \n",
        "# which belong to gmail , store only user name in new blank list "
      ],
      "metadata": {
        "id": "V26TnNFk24B-"
      },
      "execution_count": null,
      "outputs": []
    },
    {
      "cell_type": "markdown",
      "source": [
        "## **Python List Comph.**"
      ],
      "metadata": {
        "id": "9CY_XI7CO_iK"
      }
    },
    {
      "cell_type": "code",
      "source": [
        "list1 = [char for char in [1,2,3]]"
      ],
      "metadata": {
        "id": "tHJ0e1IlO3Mk"
      },
      "execution_count": null,
      "outputs": []
    },
    {
      "cell_type": "code",
      "source": [
        "list1"
      ],
      "metadata": {
        "colab": {
          "base_uri": "https://localhost:8080/"
        },
        "id": "vE16zE9AO3WM",
        "outputId": "0845ae62-8ab5-4c6b-cafc-e1fc7259c0d6"
      },
      "execution_count": null,
      "outputs": [
        {
          "output_type": "execute_result",
          "data": {
            "text/plain": [
              "[1, 2, 3]"
            ]
          },
          "metadata": {},
          "execution_count": 49
        }
      ]
    },
    {
      "cell_type": "code",
      "source": [
        "list2 = [i for i in range(11) if i %2 ==0]\n",
        "list2"
      ],
      "metadata": {
        "colab": {
          "base_uri": "https://localhost:8080/"
        },
        "id": "rNac_an9O3bA",
        "outputId": "f9d10eca-34f2-47f4-a550-f670c43d1e36"
      },
      "execution_count": null,
      "outputs": [
        {
          "output_type": "execute_result",
          "data": {
            "text/plain": [
              "[0, 2, 4, 6, 8, 10]"
            ]
          },
          "metadata": {},
          "execution_count": 50
        }
      ]
    },
    {
      "cell_type": "code",
      "source": [
        "list3 = [\"even\" if i%2 ==0 \n",
        "          else \"odd\" for i in range(8)]"
      ],
      "metadata": {
        "id": "EKyPnaErPnjq"
      },
      "execution_count": null,
      "outputs": []
    },
    {
      "cell_type": "code",
      "source": [
        "list3"
      ],
      "metadata": {
        "colab": {
          "base_uri": "https://localhost:8080/"
        },
        "id": "gC-Q_bEdP0kI",
        "outputId": "7b6a97bc-469c-4a0a-cd8d-05f8231963b0"
      },
      "execution_count": null,
      "outputs": [
        {
          "output_type": "execute_result",
          "data": {
            "text/plain": [
              "['even', 'odd', 'even', 'odd', 'even', 'odd', 'even', 'odd']"
            ]
          },
          "metadata": {},
          "execution_count": 52
        }
      ]
    },
    {
      "cell_type": "code",
      "source": [
        "list4 = [string[::-1] for string in ('this','is','abhishek')]\n",
        "list4"
      ],
      "metadata": {
        "colab": {
          "base_uri": "https://localhost:8080/"
        },
        "id": "X-CKA2SUP2OZ",
        "outputId": "856891c6-2f0d-4a65-f758-9e6ab2aa15f7"
      },
      "execution_count": null,
      "outputs": [
        {
          "output_type": "execute_result",
          "data": {
            "text/plain": [
              "['siht', 'si', 'kehsihba']"
            ]
          },
          "metadata": {},
          "execution_count": 53
        }
      ]
    },
    {
      "cell_type": "markdown",
      "source": [
        "## **TUPLES in Python**"
      ],
      "metadata": {
        "id": "HhzS28oNQOAQ"
      }
    },
    {
      "cell_type": "code",
      "source": [
        "# create a blank tuples\n",
        "tup1= ()"
      ],
      "metadata": {
        "id": "BEABOsbwQKWA"
      },
      "execution_count": null,
      "outputs": []
    },
    {
      "cell_type": "code",
      "source": [
        "type(tup1)"
      ],
      "metadata": {
        "colab": {
          "base_uri": "https://localhost:8080/"
        },
        "id": "iI2CKjZPQe5z",
        "outputId": "51269108-fded-4b18-e730-f75a37e33c05"
      },
      "execution_count": null,
      "outputs": [
        {
          "output_type": "execute_result",
          "data": {
            "text/plain": [
              "tuple"
            ]
          },
          "metadata": {},
          "execution_count": 55
        }
      ]
    },
    {
      "cell_type": "code",
      "source": [
        "# Session Assignment (same as list)\n",
        "# indexing +ve\n",
        "# indexing -ve\n",
        "# slicing\n",
        "# iteration"
      ],
      "metadata": {
        "id": "vpYQdeZSQhyd"
      },
      "execution_count": null,
      "outputs": []
    },
    {
      "cell_type": "code",
      "source": [
        "tup2 =(2,3,4,5,5)"
      ],
      "metadata": {
        "id": "tlBYOhMYQpWq"
      },
      "execution_count": null,
      "outputs": []
    },
    {
      "cell_type": "code",
      "source": [
        "tup2"
      ],
      "metadata": {
        "colab": {
          "base_uri": "https://localhost:8080/"
        },
        "id": "65Y7jmeWQpZs",
        "outputId": "8db2fa8d-6678-4db5-a425-53518ec8e202"
      },
      "execution_count": null,
      "outputs": [
        {
          "output_type": "execute_result",
          "data": {
            "text/plain": [
              "(2, 3, 4, 5, 5)"
            ]
          },
          "metadata": {},
          "execution_count": 57
        }
      ]
    },
    {
      "cell_type": "code",
      "source": [
        "tup3 =('America','Brazil','Cananda')\n",
        "tup3"
      ],
      "metadata": {
        "colab": {
          "base_uri": "https://localhost:8080/"
        },
        "id": "aNJfvmHkQpfH",
        "outputId": "ead1bce3-27d0-40e4-cdfe-9fd38ac71a25"
      },
      "execution_count": null,
      "outputs": [
        {
          "output_type": "execute_result",
          "data": {
            "text/plain": [
              "('America', 'Brazil', 'Cananda')"
            ]
          },
          "metadata": {},
          "execution_count": 58
        }
      ]
    },
    {
      "cell_type": "code",
      "source": [
        "tup4 =('America',56,789.9,False)\n",
        "tup4"
      ],
      "metadata": {
        "colab": {
          "base_uri": "https://localhost:8080/"
        },
        "id": "tEz3Dk2VQ0Mn",
        "outputId": "3c15c490-2b2d-4a8b-dc08-cd52b9a67290"
      },
      "execution_count": null,
      "outputs": [
        {
          "output_type": "execute_result",
          "data": {
            "text/plain": [
              "('America', 56, 789.9, False)"
            ]
          },
          "metadata": {},
          "execution_count": 59
        }
      ]
    },
    {
      "cell_type": "code",
      "source": [
        "# tuples are immutable\n",
        "tup4"
      ],
      "metadata": {
        "colab": {
          "base_uri": "https://localhost:8080/"
        },
        "id": "3oA0Q6vWQ7iR",
        "outputId": "ea917c99-90b9-4188-c83d-dd77533a6740"
      },
      "execution_count": null,
      "outputs": [
        {
          "output_type": "execute_result",
          "data": {
            "text/plain": [
              "('America', 56, 789.9, False)"
            ]
          },
          "metadata": {},
          "execution_count": 60
        }
      ]
    },
    {
      "cell_type": "code",
      "source": [
        "tup4[3] = 'abcd'"
      ],
      "metadata": {
        "colab": {
          "base_uri": "https://localhost:8080/",
          "height": 169
        },
        "id": "TqjfvkqrT3dG",
        "outputId": "5b63e859-c9a9-4aff-8d87-c5d3f2bc2c94"
      },
      "execution_count": null,
      "outputs": [
        {
          "output_type": "error",
          "ename": "TypeError",
          "evalue": "ignored",
          "traceback": [
            "\u001b[0;31m---------------------------------------------------------------------------\u001b[0m",
            "\u001b[0;31mTypeError\u001b[0m                                 Traceback (most recent call last)",
            "\u001b[0;32m<ipython-input-61-e6f5559b7ef9>\u001b[0m in \u001b[0;36m<cell line: 1>\u001b[0;34m()\u001b[0m\n\u001b[0;32m----> 1\u001b[0;31m \u001b[0mtup4\u001b[0m\u001b[0;34m[\u001b[0m\u001b[0;36m3\u001b[0m\u001b[0;34m]\u001b[0m \u001b[0;34m=\u001b[0m \u001b[0;34m'abcd'\u001b[0m\u001b[0;34m\u001b[0m\u001b[0;34m\u001b[0m\u001b[0m\n\u001b[0m",
            "\u001b[0;31mTypeError\u001b[0m: 'tuple' object does not support item assignment"
          ]
        }
      ]
    },
    {
      "cell_type": "code",
      "source": [
        "# tuple assignment\n",
        "# 1. un-named assignment\n",
        "(x,y,z) = (6,7,8)"
      ],
      "metadata": {
        "id": "TX7cRN-tT8JO"
      },
      "execution_count": null,
      "outputs": []
    },
    {
      "cell_type": "code",
      "source": [
        "y"
      ],
      "metadata": {
        "colab": {
          "base_uri": "https://localhost:8080/"
        },
        "id": "NqVs64T0UGmX",
        "outputId": "fc93a13b-676d-4606-b993-141949749112"
      },
      "execution_count": null,
      "outputs": [
        {
          "output_type": "execute_result",
          "data": {
            "text/plain": [
              "7"
            ]
          },
          "metadata": {},
          "execution_count": 63
        }
      ]
    },
    {
      "cell_type": "code",
      "source": [
        "#2.named assignment\n",
        "t1=(3,4,5)\n",
        "(a,b,c)=t1\n",
        "b"
      ],
      "metadata": {
        "colab": {
          "base_uri": "https://localhost:8080/"
        },
        "id": "Z_G3gZxvUJBt",
        "outputId": "7971e540-6e25-4e09-e28f-843f08dd8175"
      },
      "execution_count": null,
      "outputs": [
        {
          "output_type": "execute_result",
          "data": {
            "text/plain": [
              "4"
            ]
          },
          "metadata": {},
          "execution_count": 64
        }
      ]
    },
    {
      "cell_type": "code",
      "source": [
        "# tuple function\n",
        "# max\n",
        "# min\n",
        "# sum\n",
        "# in\n",
        "# not in\n",
        "#len\n"
      ],
      "metadata": {
        "id": "9Eqd7DESUbyv"
      },
      "execution_count": null,
      "outputs": []
    },
    {
      "cell_type": "code",
      "source": [
        "# append\n",
        "(1,2,3)+(4,5,6)"
      ],
      "metadata": {
        "colab": {
          "base_uri": "https://localhost:8080/"
        },
        "id": "Z8qK7CcLUn1_",
        "outputId": "338bd121-b130-4dd1-f129-f60d35eb485e"
      },
      "execution_count": null,
      "outputs": [
        {
          "output_type": "execute_result",
          "data": {
            "text/plain": [
              "(1, 2, 3, 4, 5, 6)"
            ]
          },
          "metadata": {},
          "execution_count": 65
        }
      ]
    },
    {
      "cell_type": "code",
      "source": [
        "# * op.\n",
        "('Good..')*3"
      ],
      "metadata": {
        "colab": {
          "base_uri": "https://localhost:8080/",
          "height": 36
        },
        "id": "SomHaVnVUsno",
        "outputId": "494eb856-fe91-494c-e04d-376464a5f564"
      },
      "execution_count": null,
      "outputs": [
        {
          "output_type": "execute_result",
          "data": {
            "text/plain": [
              "'Good..Good..Good..'"
            ],
            "application/vnd.google.colaboratory.intrinsic+json": {
              "type": "string"
            }
          },
          "metadata": {},
          "execution_count": 66
        }
      ]
    },
    {
      "cell_type": "code",
      "source": [
        "# tuple()\n",
        "tuple('hello')"
      ],
      "metadata": {
        "colab": {
          "base_uri": "https://localhost:8080/"
        },
        "id": "wEdNtd9tUzBJ",
        "outputId": "09d5cdb8-3ae3-4de5-a3ef-6a5fbf47a7c4"
      },
      "execution_count": null,
      "outputs": [
        {
          "output_type": "execute_result",
          "data": {
            "text/plain": [
              "('h', 'e', 'l', 'l', 'o')"
            ]
          },
          "metadata": {},
          "execution_count": 67
        }
      ]
    },
    {
      "cell_type": "code",
      "source": [
        "tuple([2,3,4,5])"
      ],
      "metadata": {
        "colab": {
          "base_uri": "https://localhost:8080/"
        },
        "id": "wnMtoKzjU_9e",
        "outputId": "e980cd76-e08d-475e-8b17-2f61e686600b"
      },
      "execution_count": null,
      "outputs": [
        {
          "output_type": "execute_result",
          "data": {
            "text/plain": [
              "(2, 3, 4, 5)"
            ]
          },
          "metadata": {},
          "execution_count": 68
        }
      ]
    },
    {
      "cell_type": "code",
      "source": [
        "# zip()\n",
        "emp = ('amit','raj','kishor')\n",
        "dept= ('hr', 'fin','it')\n",
        "tuple(zip(emp,dept))"
      ],
      "metadata": {
        "colab": {
          "base_uri": "https://localhost:8080/"
        },
        "id": "5OpDBnTlVDnx",
        "outputId": "176b12c9-77e1-451b-dbf8-22256299f937"
      },
      "execution_count": null,
      "outputs": [
        {
          "output_type": "execute_result",
          "data": {
            "text/plain": [
              "(('amit', 'hr'), ('raj', 'fin'), ('kishor', 'it'))"
            ]
          },
          "metadata": {},
          "execution_count": 69
        }
      ]
    },
    {
      "cell_type": "code",
      "source": [
        "list(zip(emp,dept))"
      ],
      "metadata": {
        "colab": {
          "base_uri": "https://localhost:8080/"
        },
        "id": "7VDbNC06VU_0",
        "outputId": "ce17ac4f-33bf-46b9-94f9-10735489dddb"
      },
      "execution_count": null,
      "outputs": [
        {
          "output_type": "execute_result",
          "data": {
            "text/plain": [
              "[('amit', 'hr'), ('raj', 'fin'), ('kishor', 'it')]"
            ]
          },
          "metadata": {},
          "execution_count": 70
        }
      ]
    },
    {
      "cell_type": "markdown",
      "source": [
        "## **Python Dictionary**"
      ],
      "metadata": {
        "id": "imk8I23cWC4j"
      }
    },
    {
      "cell_type": "code",
      "source": [
        "# create a dict\n",
        "dic1 = {'Name':'Amit','Age':35,'Dept':'HR','DOB':'23-Nov-2000'}"
      ],
      "metadata": {
        "id": "eg82QetEWCWl"
      },
      "execution_count": null,
      "outputs": []
    },
    {
      "cell_type": "code",
      "source": [
        "dic1"
      ],
      "metadata": {
        "colab": {
          "base_uri": "https://localhost:8080/"
        },
        "id": "V6JCn5QXVZy8",
        "outputId": "a614e811-3c12-4830-f02f-862ea8923003"
      },
      "execution_count": null,
      "outputs": [
        {
          "output_type": "execute_result",
          "data": {
            "text/plain": [
              "{'Name': 'Amit', 'Age': 35, 'Dept': 'HR', 'DOB': '23-Nov-2000'}"
            ]
          },
          "metadata": {},
          "execution_count": 73
        }
      ]
    },
    {
      "cell_type": "code",
      "source": [
        "# how to access data\n",
        "dic1['Dept']"
      ],
      "metadata": {
        "colab": {
          "base_uri": "https://localhost:8080/",
          "height": 36
        },
        "id": "ja2_cel2WKbv",
        "outputId": "7a8b2708-56b3-496d-d30f-cf28005719da"
      },
      "execution_count": null,
      "outputs": [
        {
          "output_type": "execute_result",
          "data": {
            "text/plain": [
              "'HR'"
            ],
            "application/vnd.google.colaboratory.intrinsic+json": {
              "type": "string"
            }
          },
          "metadata": {},
          "execution_count": 74
        }
      ]
    },
    {
      "cell_type": "code",
      "source": [
        "# if you are fetching that data which is not present\n",
        "dic1['Address']"
      ],
      "metadata": {
        "colab": {
          "base_uri": "https://localhost:8080/",
          "height": 187
        },
        "id": "4RrZj518WKej",
        "outputId": "db44b119-a523-4f04-9a79-8f5a00cf320f"
      },
      "execution_count": null,
      "outputs": [
        {
          "output_type": "error",
          "ename": "KeyError",
          "evalue": "ignored",
          "traceback": [
            "\u001b[0;31m---------------------------------------------------------------------------\u001b[0m",
            "\u001b[0;31mKeyError\u001b[0m                                  Traceback (most recent call last)",
            "\u001b[0;32m<ipython-input-75-6ec819070064>\u001b[0m in \u001b[0;36m<cell line: 2>\u001b[0;34m()\u001b[0m\n\u001b[1;32m      1\u001b[0m \u001b[0;31m# if you are fetching that data which is not present\u001b[0m\u001b[0;34m\u001b[0m\u001b[0;34m\u001b[0m\u001b[0m\n\u001b[0;32m----> 2\u001b[0;31m \u001b[0mdic1\u001b[0m\u001b[0;34m[\u001b[0m\u001b[0;34m'Address'\u001b[0m\u001b[0;34m]\u001b[0m\u001b[0;34m\u001b[0m\u001b[0;34m\u001b[0m\u001b[0m\n\u001b[0m",
            "\u001b[0;31mKeyError\u001b[0m: 'Address'"
          ]
        }
      ]
    },
    {
      "cell_type": "code",
      "source": [
        "# if key is not there we can add the key in Dict\n",
        "dic1['Address'] = 'Delhi'"
      ],
      "metadata": {
        "id": "EHD5IEVfWKhf"
      },
      "execution_count": null,
      "outputs": []
    },
    {
      "cell_type": "code",
      "source": [
        "dic1"
      ],
      "metadata": {
        "colab": {
          "base_uri": "https://localhost:8080/"
        },
        "id": "Cd75d81qWKkF",
        "outputId": "3fd03e7e-add3-4ae0-a0df-13b916a09f27"
      },
      "execution_count": null,
      "outputs": [
        {
          "output_type": "execute_result",
          "data": {
            "text/plain": [
              "{'Name': 'Amit',\n",
              " 'Age': 35,\n",
              " 'Dept': 'HR',\n",
              " 'DOB': '23-Nov-2000',\n",
              " 'Address': 'Delhi'}"
            ]
          },
          "metadata": {},
          "execution_count": 77
        }
      ]
    },
    {
      "cell_type": "code",
      "source": [
        "# if key is  there we need to update the data\n",
        "dic1['Address'] = 'Mumbai' "
      ],
      "metadata": {
        "id": "zn0a97UHXE92"
      },
      "execution_count": null,
      "outputs": []
    },
    {
      "cell_type": "code",
      "source": [
        "dic1"
      ],
      "metadata": {
        "colab": {
          "base_uri": "https://localhost:8080/"
        },
        "id": "M8-pDI9RXRKc",
        "outputId": "53ec8183-55e0-40b2-de40-351ad583ba8a"
      },
      "execution_count": null,
      "outputs": [
        {
          "output_type": "execute_result",
          "data": {
            "text/plain": [
              "{'Name': 'Amit',\n",
              " 'Age': 35,\n",
              " 'Dept': 'HR',\n",
              " 'DOB': '23-Nov-2000',\n",
              " 'Address': 'Mumbai'}"
            ]
          },
          "metadata": {},
          "execution_count": 79
        }
      ]
    },
    {
      "cell_type": "code",
      "source": [
        "# 1,pop('key') : this method will delete the key from collection\n",
        "dic1.pop('Address')"
      ],
      "metadata": {
        "colab": {
          "base_uri": "https://localhost:8080/",
          "height": 36
        },
        "id": "ps8qxXH6XSaT",
        "outputId": "9fee9c12-1228-4a24-bf3a-8a0e73afab90"
      },
      "execution_count": null,
      "outputs": [
        {
          "output_type": "execute_result",
          "data": {
            "text/plain": [
              "'Mumbai'"
            ],
            "application/vnd.google.colaboratory.intrinsic+json": {
              "type": "string"
            }
          },
          "metadata": {},
          "execution_count": 81
        }
      ]
    },
    {
      "cell_type": "code",
      "source": [
        "dic1"
      ],
      "metadata": {
        "colab": {
          "base_uri": "https://localhost:8080/"
        },
        "id": "7y-dzDhgXiDK",
        "outputId": "e497e9fa-0598-4849-9015-c0d6ca066215"
      },
      "execution_count": null,
      "outputs": [
        {
          "output_type": "execute_result",
          "data": {
            "text/plain": [
              "{'Name': 'Amit', 'Age': 35, 'Dept': 'HR', 'DOB': '23-Nov-2000'}"
            ]
          },
          "metadata": {},
          "execution_count": 82
        }
      ]
    },
    {
      "cell_type": "code",
      "source": [
        "# dict.clear() : this will remove all items and dict will empty\n"
      ],
      "metadata": {
        "id": "inGhVtKIXnCk"
      },
      "execution_count": null,
      "outputs": []
    },
    {
      "cell_type": "code",
      "source": [
        "# dict.del : this will remove dict from memory "
      ],
      "metadata": {
        "id": "gyjsuEH1Xpma"
      },
      "execution_count": null,
      "outputs": []
    },
    {
      "cell_type": "code",
      "source": [
        "# items() : this method returning key nd value\n",
        "for k, v in dic1.items():\n",
        "  print('key ->', k , ', value ->', v)"
      ],
      "metadata": {
        "colab": {
          "base_uri": "https://localhost:8080/"
        },
        "id": "-kQH5MNBXppb",
        "outputId": "c2b00847-b33b-4da2-f90d-f682ab633180"
      },
      "execution_count": null,
      "outputs": [
        {
          "output_type": "stream",
          "name": "stdout",
          "text": [
            "key -> Name , value -> Amit\n",
            "key -> Age , value -> 35\n",
            "key -> Dept , value -> HR\n",
            "key -> DOB , value -> 23-Nov-2000\n"
          ]
        }
      ]
    },
    {
      "cell_type": "code",
      "source": [
        "# key()"
      ],
      "metadata": {
        "id": "Ua77l7LzYgpK"
      },
      "execution_count": null,
      "outputs": []
    },
    {
      "cell_type": "code",
      "source": [
        "# values"
      ],
      "metadata": {
        "id": "-9VQcjgTYgsG"
      },
      "execution_count": null,
      "outputs": []
    },
    {
      "cell_type": "code",
      "source": [
        "# Session assignment\n",
        "# wap to create dict which contain frequency of each alpha in the given string\n",
        "msg= 'dsffdfgdgb gdffhfghgh ertertrtr ewtetertrt'\n",
        "dict2={}"
      ],
      "metadata": {
        "id": "Mp9p50haYmqK"
      },
      "execution_count": null,
      "outputs": []
    },
    {
      "cell_type": "markdown",
      "source": [
        "## **Set**"
      ],
      "metadata": {
        "id": "n_N9Dw2raV9F"
      }
    },
    {
      "cell_type": "code",
      "source": [
        "# create a set\n",
        "set1 = {'apple','mango','banana'}"
      ],
      "metadata": {
        "id": "IsuwtnXtYmtd"
      },
      "execution_count": null,
      "outputs": []
    },
    {
      "cell_type": "code",
      "source": [
        "type(set1)"
      ],
      "metadata": {
        "colab": {
          "base_uri": "https://localhost:8080/"
        },
        "id": "wj93cf3MYmwP",
        "outputId": "16c7bd7f-9f6a-4389-828c-87c39e7d66dc"
      },
      "execution_count": null,
      "outputs": [
        {
          "output_type": "execute_result",
          "data": {
            "text/plain": [
              "set"
            ]
          },
          "metadata": {},
          "execution_count": 85
        }
      ]
    },
    {
      "cell_type": "code",
      "source": [
        "set2 = {'apple','mango','banana','apple'}\n",
        "set2"
      ],
      "metadata": {
        "colab": {
          "base_uri": "https://localhost:8080/"
        },
        "id": "H09ngLSBaf6j",
        "outputId": "a1df3522-e4f7-4e4b-f6ba-4ab75fe433f2"
      },
      "execution_count": null,
      "outputs": [
        {
          "output_type": "execute_result",
          "data": {
            "text/plain": [
              "{'apple', 'banana', 'mango'}"
            ]
          },
          "metadata": {},
          "execution_count": 86
        }
      ]
    },
    {
      "cell_type": "code",
      "source": [
        "set3 = {'apple','mango','banana','Apple'}\n",
        "set3"
      ],
      "metadata": {
        "colab": {
          "base_uri": "https://localhost:8080/"
        },
        "id": "6MwQZaekasNl",
        "outputId": "a9dfe31c-694d-48a7-bcd9-ccae1db6a72d"
      },
      "execution_count": null,
      "outputs": [
        {
          "output_type": "execute_result",
          "data": {
            "text/plain": [
              "{'Apple', 'apple', 'banana', 'mango'}"
            ]
          },
          "metadata": {},
          "execution_count": 87
        }
      ]
    },
    {
      "cell_type": "code",
      "source": [
        "# \n",
        "list8=[1,2,3,1,3,2,4,5,6]\n",
        "ans = set(list8)\n",
        "ans"
      ],
      "metadata": {
        "colab": {
          "base_uri": "https://localhost:8080/"
        },
        "id": "2JkTAZF-azju",
        "outputId": "8f5d4be0-0eab-4939-b81e-321d53a4b009"
      },
      "execution_count": null,
      "outputs": [
        {
          "output_type": "execute_result",
          "data": {
            "text/plain": [
              "{1, 2, 3, 4, 5, 6}"
            ]
          },
          "metadata": {},
          "execution_count": 88
        }
      ]
    },
    {
      "cell_type": "code",
      "source": [
        "# union : s | t"
      ],
      "metadata": {
        "id": "olzKl3EBa-I2"
      },
      "execution_count": null,
      "outputs": []
    },
    {
      "cell_type": "code",
      "source": [],
      "metadata": {
        "id": "VtdnZ5XubHwq"
      },
      "execution_count": null,
      "outputs": []
    },
    {
      "cell_type": "code",
      "source": [
        "# intersetion s & t"
      ],
      "metadata": {
        "id": "N-CJ4isnbHzq"
      },
      "execution_count": null,
      "outputs": []
    },
    {
      "cell_type": "code",
      "source": [
        "# add() , remove()\n",
        "\n",
        "set5 = set()\n"
      ],
      "metadata": {
        "id": "9keZRsnzbjPp"
      },
      "execution_count": null,
      "outputs": []
    },
    {
      "cell_type": "code",
      "source": [
        "set5.add(5)"
      ],
      "metadata": {
        "id": "DZfcqO8QbjTA"
      },
      "execution_count": null,
      "outputs": []
    },
    {
      "cell_type": "code",
      "source": [
        "set5.add(6)"
      ],
      "metadata": {
        "id": "w5sbrNs7brcu"
      },
      "execution_count": null,
      "outputs": []
    },
    {
      "cell_type": "code",
      "source": [
        "set5.add(7)"
      ],
      "metadata": {
        "id": "31w4OT7mbtFg"
      },
      "execution_count": null,
      "outputs": []
    },
    {
      "cell_type": "code",
      "source": [
        "set5.add(100)"
      ],
      "metadata": {
        "id": "nNdekd2ObuQd"
      },
      "execution_count": null,
      "outputs": []
    },
    {
      "cell_type": "code",
      "source": [
        "set5"
      ],
      "metadata": {
        "colab": {
          "base_uri": "https://localhost:8080/"
        },
        "id": "36tbXz-QbvX8",
        "outputId": "43000fbc-73e0-41a0-baf5-1c599ac74c02"
      },
      "execution_count": null,
      "outputs": [
        {
          "output_type": "execute_result",
          "data": {
            "text/plain": [
              "{5, 6, 7, 100}"
            ]
          },
          "metadata": {},
          "execution_count": 94
        }
      ]
    },
    {
      "cell_type": "code",
      "source": [
        "# remove\n",
        "set5.remove(7)"
      ],
      "metadata": {
        "id": "kNX4XB68bxG_"
      },
      "execution_count": null,
      "outputs": []
    },
    {
      "cell_type": "code",
      "source": [
        "set5"
      ],
      "metadata": {
        "colab": {
          "base_uri": "https://localhost:8080/"
        },
        "id": "X4OWQe-Yb0Cb",
        "outputId": "76584b94-9e08-438a-82cf-9fb588d2be9a"
      },
      "execution_count": null,
      "outputs": [
        {
          "output_type": "execute_result",
          "data": {
            "text/plain": [
              "{5, 6, 100}"
            ]
          },
          "metadata": {},
          "execution_count": 97
        }
      ]
    },
    {
      "cell_type": "code",
      "source": [
        "# other common set method\n",
        "# min()\n",
        "# max()\n",
        "# sum()\n",
        "# len()\n",
        "# in\n",
        "# not in"
      ],
      "metadata": {
        "id": "7izf_F8ab3Na"
      },
      "execution_count": null,
      "outputs": []
    }
  ]
}