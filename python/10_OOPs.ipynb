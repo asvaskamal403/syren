{
  "nbformat": 4,
  "nbformat_minor": 0,
  "metadata": {
    "colab": {
      "provenance": [],
      "include_colab_link": true
    },
    "kernelspec": {
      "name": "python3",
      "display_name": "Python 3"
    },
    "language_info": {
      "name": "python"
    }
  },
  "cells": [
    {
      "cell_type": "markdown",
      "metadata": {
        "id": "view-in-github",
        "colab_type": "text"
      },
      "source": [
        "<a href=\"https://colab.research.google.com/github/asvaskamal403/python/blob/kamal/10_OOPs.ipynb\" target=\"_parent\"><img src=\"https://colab.research.google.com/assets/colab-badge.svg\" alt=\"Open In Colab\"/></a>"
      ]
    },
    {
      "cell_type": "code",
      "execution_count": null,
      "metadata": {
        "colab": {
          "base_uri": "https://localhost:8080/"
        },
        "id": "tRyDKtT8OmOT",
        "outputId": "1abae4c7-e53c-4925-9669-453b4fa15b86"
      },
      "outputs": [
        {
          "output_type": "stream",
          "name": "stdout",
          "text": [
            "date 23 may\n"
          ]
        }
      ],
      "source": [
        "print('date 23 may')"
      ]
    },
    {
      "cell_type": "code",
      "source": [
        "# class menthod object\n",
        "class Dog:\n",
        "    # cons.\n",
        "    def __init__(self,name,breed ,age):\n",
        "        self.name = name\n",
        "        self.breed = breed \n",
        "        self.age = age\n",
        "\n",
        "    def bark(self):\n",
        "        print('Woof!')\n",
        "    \n",
        "    def wag_tail(self):\n",
        "        print('My tail is wagging')\n",
        "\n",
        "    def displayy(self):\n",
        "        print('Hello my name is :' , self.name)\n",
        "\n",
        "\n",
        "# creating object \n",
        "myDog = Dog('ABC' ,'QQQQ', 5)\n",
        "myDog.bark()\n",
        "myDog.wag_tail()\n",
        "myDog.displayy()    "
      ],
      "metadata": {
        "colab": {
          "base_uri": "https://localhost:8080/"
        },
        "id": "5BZEeYlZOtiD",
        "outputId": "b2ac3bea-c228-4ff4-a440-ed066892ba93"
      },
      "execution_count": null,
      "outputs": [
        {
          "output_type": "stream",
          "name": "stdout",
          "text": [
            "Woof!\n",
            "My tail is wagging\n",
            "Hello my name is : ABC\n"
          ]
        }
      ]
    },
    {
      "cell_type": "code",
      "source": [
        "# class menthod object attribute\n",
        "class Dog:\n",
        "    # class attribute\n",
        "    att1='barking'\n",
        "\n",
        "    def __init__(self,name):\n",
        "        self.name = name\n",
        "\n",
        "# create object \n",
        "t = Dog('Tommy')\n",
        "j = Dog('Juno')\n",
        "\n",
        "# access class attribute \n",
        "print('Data with tommy : ', t.__class__.att1)\n",
        "print('Data with juno : ', j.__class__.att1)\n",
        "\n",
        "# instance attribute \n",
        "print('instance Data with tommy : ', t.name)\n",
        "print('instance Data with juno : ', j.name)\n"
      ],
      "metadata": {
        "colab": {
          "base_uri": "https://localhost:8080/"
        },
        "id": "xMvLoLLWScj_",
        "outputId": "9f6b653f-9df1-4c53-90b4-3f515a47517c"
      },
      "execution_count": null,
      "outputs": [
        {
          "output_type": "stream",
          "name": "stdout",
          "text": [
            "Data with tommy :  barking\n",
            "Data with juno :  barking\n",
            "instance Data with tommy :  Tommy\n",
            "instance Data with juno :  Juno\n"
          ]
        }
      ]
    },
    {
      "cell_type": "code",
      "source": [
        "class Parrot:\n",
        "    # class attribute\n",
        "    name= ''\n",
        "    age=0\n",
        "\n",
        "# object : p1\n",
        "p1 = Parrot()\n",
        "p1.name= 'ABCD'\n",
        "p1.age =5\n",
        "\n",
        "# object : p2\n",
        "p2 = Parrot()\n",
        "p2.name= 'QQQQ'\n",
        "p2.age =7\n",
        "\n",
        "\n",
        "# access class attrribute for different objects \n",
        "print(p1.name,' is ', p1.age ,' years old')\n",
        "print(p2.name,' is ', p2.age ,' years old')"
      ],
      "metadata": {
        "colab": {
          "base_uri": "https://localhost:8080/"
        },
        "id": "mZ9N1mSzT577",
        "outputId": "7c588e06-e987-4c11-c9a4-9388c934d621"
      },
      "execution_count": null,
      "outputs": [
        {
          "output_type": "stream",
          "name": "stdout",
          "text": [
            "ABCD  is  5  years old\n",
            "QQQQ  is  7  years old\n"
          ]
        }
      ]
    },
    {
      "cell_type": "markdown",
      "source": [
        "## **Inheritance**"
      ],
      "metadata": {
        "id": "zLNW7yr2YiMG"
      }
    },
    {
      "cell_type": "code",
      "source": [
        "# parent class\n",
        "\n",
        "class Animal:\n",
        "    def __init__(self,name):\n",
        "        self.name = name\n",
        "    \n",
        "    def speak(self):\n",
        "        print('I am a ', self.name)\n",
        "\n",
        "# child class\n",
        "class Dog(Animal):\n",
        "    def bark(self):\n",
        "        print('Woof !')\n",
        "\n",
        "# creating the object\n",
        "myDog = Dog('Juno')\n",
        "myDog.speak()\n",
        "\n",
        "# \n",
        "myDog.bark()"
      ],
      "metadata": {
        "id": "Q2T5QMlwYkuD"
      },
      "execution_count": null,
      "outputs": []
    },
    {
      "cell_type": "code",
      "source": [
        "# Multi level inheriatnce\n",
        "\n",
        "# parent class \n",
        "class Animal:\n",
        "    def __init__(self,name):\n",
        "        self.name= name\n",
        "\n",
        "    def speak(self):\n",
        "        print('I am :', self.name)\n",
        "\n",
        "# child class\n",
        "\n",
        "class Dog(Animal):\n",
        "    def bark(self):\n",
        "        print(\"Woof !\")\n",
        "\n",
        "# Grand Child\n",
        "\n",
        "class ABCD(Dog):\n",
        "    def fetch(self):\n",
        "        print('I can also print data from here.')\n",
        "\n",
        "\n",
        "# object of grand child\n",
        "myDog = ABCD('Juno')\n",
        "\n",
        "myDog.speak()\n",
        "myDog.bark()\n",
        "myDog.fetch()"
      ],
      "metadata": {
        "colab": {
          "base_uri": "https://localhost:8080/"
        },
        "id": "DxnNJPi2Ykwz",
        "outputId": "e2eb2730-1571-43ce-b32c-71cfb7cfae0b"
      },
      "execution_count": null,
      "outputs": [
        {
          "output_type": "stream",
          "name": "stdout",
          "text": [
            "I am : Juno\n",
            "Woof !\n",
            "I can also print data from here.\n"
          ]
        }
      ]
    },
    {
      "cell_type": "code",
      "source": [
        "# polymorphism || overriding\n",
        "\n",
        "class Polygon:\n",
        "    # method\n",
        "    def render(self):\n",
        "        print('Creating Polygon')\n",
        "\n",
        "class Square(Polygon):\n",
        "    def render(self):\n",
        "        print('Creting Square')\n",
        "\n",
        "class Circle(Polygon):\n",
        "    def render(self):\n",
        "        print('Creating Circle')\n",
        "    \n",
        "# creating object for square\n",
        "s1 = Square()\n",
        "#s1.render()\n",
        "\n",
        "#  creating object for class circle\n",
        "\n",
        "c1 = Circle()\n",
        "c1.render()"
      ],
      "metadata": {
        "colab": {
          "base_uri": "https://localhost:8080/"
        },
        "id": "DmM7kVsaaXda",
        "outputId": "35734d46-d576-438d-a955-91334fc50c88"
      },
      "execution_count": null,
      "outputs": [
        {
          "output_type": "stream",
          "name": "stdout",
          "text": [
            "Creating Circle\n"
          ]
        }
      ]
    },
    {
      "cell_type": "code",
      "source": [
        "# encapsulation\n",
        "\n",
        "class BankAccount:\n",
        "\n",
        "    def __init__(self, account_number, balance):\n",
        "        self.__account_number = account_number\n",
        "        self.__balance = balance\n",
        "\n",
        "    def get_account_number(self):\n",
        "        return self.__account_number\n",
        "    \n",
        "    def get_balance(self):\n",
        "        return self.__balance\n",
        "\n",
        "    def deposit(self, amount):\n",
        "        if amount >0 :\n",
        "            self.__balance = self.__balance + amount\n",
        "\n",
        "    def withdraw(self ,amount):\n",
        "        if amount > 0 and amount<=self.__balance:\n",
        "            self.__balance = self.__balance - amount\n",
        "\n",
        "# ceate the object \n",
        "account = BankAccount('12345',1000)\n",
        "\n",
        "# access the method\n",
        "print('Account number : ', account.get_account_number())\n",
        "print('Balance ' , account.get_balance())\n",
        "\n",
        "# deposit and withdraw opeartion\n",
        "\n",
        "account.deposit(500)\n",
        "account.withdraw(200)\n",
        "\n",
        "#\n",
        "print('Account number : ', account.get_account_number())\n",
        "print('Balance ' , account.get_balance())"
      ],
      "metadata": {
        "id": "og3GCnshkg7E",
        "outputId": "553d41ce-261b-412e-8f51-ac08f97cb75b",
        "colab": {
          "base_uri": "https://localhost:8080/"
        }
      },
      "execution_count": null,
      "outputs": [
        {
          "output_type": "stream",
          "name": "stdout",
          "text": [
            "Account number :  12345\n",
            "Balance  1000\n",
            "Account number :  12345\n",
            "Balance  1300\n"
          ]
        }
      ]
    },
    {
      "cell_type": "code",
      "source": [],
      "metadata": {
        "id": "S2sXeUUIkg93"
      },
      "execution_count": null,
      "outputs": []
    }
  ]
}