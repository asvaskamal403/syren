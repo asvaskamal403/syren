{
  "cells": [
    {
      "attachments": {},
      "cell_type": "markdown",
      "metadata": {
        "colab_type": "text",
        "id": "view-in-github"
      },
      "source": [
        "<a href=\"https://colab.research.google.com/github/asvaskamal403/python/blob/kamal/1_Python_Variable.ipynb\" target=\"_parent\"><img src=\"https://colab.research.google.com/assets/colab-badge.svg\" alt=\"Open In Colab\"/></a>"
      ]
    },
    {
      "attachments": {},
      "cell_type": "markdown",
      "metadata": {
        "id": "uy1JbFW7dRCX"
      },
      "source": [
        "## **This is my first variable**"
      ]
    },
    {
      "cell_type": "code",
      "execution_count": null,
      "metadata": {
        "id": "bzGyD-Fzc4IR"
      },
      "outputs": [],
      "source": [
        "# my first var\n",
        "var1= 45"
      ]
    },
    {
      "cell_type": "code",
      "execution_count": null,
      "metadata": {
        "colab": {
          "base_uri": "https://localhost:8080/"
        },
        "id": "4zONWpdrdP1U",
        "outputId": "3d953093-9660-4732-897b-05674927056d"
      },
      "outputs": [
        {
          "name": "stdout",
          "output_type": "stream",
          "text": [
            "45\n"
          ]
        }
      ],
      "source": [
        "#print\n",
        "print(var1)"
      ]
    },
    {
      "cell_type": "code",
      "execution_count": null,
      "metadata": {
        "colab": {
          "base_uri": "https://localhost:8080/"
        },
        "id": "SZ6DVjzIdP4R",
        "outputId": "926c5abb-83e1-48c9-90bb-b760e70dbe45"
      },
      "outputs": [
        {
          "data": {
            "text/plain": [
              "45"
            ]
          },
          "execution_count": 3,
          "metadata": {},
          "output_type": "execute_result"
        }
      ],
      "source": [
        "var1"
      ]
    },
    {
      "cell_type": "code",
      "execution_count": null,
      "metadata": {
        "id": "moPHELK7dt1o"
      },
      "outputs": [],
      "source": []
    },
    {
      "cell_type": "code",
      "execution_count": null,
      "metadata": {
        "id": "dfsgDnIjdP8y"
      },
      "outputs": [],
      "source": [
        "# creating string var\n",
        "name = 'KAMAL'"
      ]
    },
    {
      "cell_type": "code",
      "execution_count": null,
      "metadata": {
        "colab": {
          "base_uri": "https://localhost:8080/"
        },
        "id": "mrr8PjtndP_5",
        "outputId": "35fc58dc-c04a-425f-e3b1-dfe14774f6fb"
      },
      "outputs": [
        {
          "name": "stdout",
          "output_type": "stream",
          "text": [
            "Abhishek\n"
          ]
        }
      ],
      "source": [
        "print(name)"
      ]
    },
    {
      "cell_type": "code",
      "execution_count": null,
      "metadata": {
        "colab": {
          "base_uri": "https://localhost:8080/",
          "height": 36
        },
        "id": "SsHGW0d1dQJG",
        "outputId": "94c3c8af-bfec-4b7d-d5ef-28799179dab4"
      },
      "outputs": [
        {
          "data": {
            "application/vnd.google.colaboratory.intrinsic+json": {
              "type": "string"
            },
            "text/plain": [
              "'Abhishek'"
            ]
          },
          "execution_count": 6,
          "metadata": {},
          "output_type": "execute_result"
        }
      ],
      "source": [
        "name\n",
        "# print function hide the data type"
      ]
    },
    {
      "cell_type": "code",
      "execution_count": null,
      "metadata": {
        "id": "LaGs55ceeG9O"
      },
      "outputs": [],
      "source": [
        "# float var\n",
        "var2 = 567.890"
      ]
    },
    {
      "cell_type": "code",
      "execution_count": null,
      "metadata": {
        "id": "RqG4KddjeHAl"
      },
      "outputs": [],
      "source": [
        "# type() : used to display the data type of given variable"
      ]
    },
    {
      "cell_type": "code",
      "execution_count": null,
      "metadata": {
        "colab": {
          "base_uri": "https://localhost:8080/"
        },
        "id": "2OcJTeVwdQMX",
        "outputId": "0e1deb7a-cf07-4a96-9553-2ff2f84e72f5"
      },
      "outputs": [
        {
          "data": {
            "text/plain": [
              "int"
            ]
          },
          "execution_count": 8,
          "metadata": {},
          "output_type": "execute_result"
        }
      ],
      "source": [
        "type(var1)"
      ]
    },
    {
      "cell_type": "code",
      "execution_count": null,
      "metadata": {
        "colab": {
          "base_uri": "https://localhost:8080/"
        },
        "id": "k3CKIOEldQPw",
        "outputId": "5e70c09d-9aaa-4ee2-a8f8-336e89a30ce9"
      },
      "outputs": [
        {
          "data": {
            "text/plain": [
              "str"
            ]
          },
          "execution_count": 9,
          "metadata": {},
          "output_type": "execute_result"
        }
      ],
      "source": [
        "type(name)"
      ]
    },
    {
      "cell_type": "code",
      "execution_count": null,
      "metadata": {
        "colab": {
          "base_uri": "https://localhost:8080/"
        },
        "id": "k8RFxQwaedYJ",
        "outputId": "bbf794dd-443c-4819-9027-ed620665ede0"
      },
      "outputs": [
        {
          "data": {
            "text/plain": [
              "float"
            ]
          },
          "execution_count": 10,
          "metadata": {},
          "output_type": "execute_result"
        }
      ],
      "source": [
        "type(var2)"
      ]
    },
    {
      "cell_type": "code",
      "execution_count": null,
      "metadata": {
        "id": "gIOhm2kPefuf"
      },
      "outputs": [],
      "source": [
        "age = 1\n",
        "Age=2\n",
        "aGe=3\n",
        "AGE=4\n",
        "a_g_e = 5\n",
        "_age= 6\n",
        "age_ = 7\n",
        "_AGE_ = 8"
      ]
    },
    {
      "cell_type": "code",
      "execution_count": null,
      "metadata": {
        "colab": {
          "base_uri": "https://localhost:8080/"
        },
        "id": "tYVtTiAIe1PB",
        "outputId": "0f580541-cfd4-4c69-cd04-55f59f240182"
      },
      "outputs": [
        {
          "data": {
            "text/plain": [
              "3"
            ]
          },
          "execution_count": 12,
          "metadata": {},
          "output_type": "execute_result"
        }
      ],
      "source": [
        "aGe"
      ]
    },
    {
      "cell_type": "code",
      "execution_count": null,
      "metadata": {
        "colab": {
          "base_uri": "https://localhost:8080/"
        },
        "id": "jVYDot8Oe3L7",
        "outputId": "aeddc5ac-c500-4580-dff2-465a8b9ebc1c"
      },
      "outputs": [
        {
          "name": "stdout",
          "output_type": "stream",
          "text": [
            "49\n"
          ]
        }
      ],
      "source": [
        "# program to calculate area  of square\n",
        "side = 7\n",
        "area= side * side \n",
        "print(area)"
      ]
    },
    {
      "cell_type": "code",
      "execution_count": null,
      "metadata": {
        "colab": {
          "base_uri": "https://localhost:8080/"
        },
        "id": "TbInAohDfIes",
        "outputId": "d5dc3efa-7493-42d0-971f-69f9f2919af2"
      },
      "outputs": [
        {
          "name": "stdout",
          "output_type": "stream",
          "text": [
            "The area of Square  49\n"
          ]
        }
      ],
      "source": [
        "side = 7\n",
        "area= side * side \n",
        "print('The area of Square ',area)"
      ]
    },
    {
      "cell_type": "code",
      "execution_count": null,
      "metadata": {
        "colab": {
          "base_uri": "https://localhost:8080/",
          "height": 205
        },
        "id": "6-26rYsJfiH_",
        "outputId": "2ff205a0-4cca-4ae9-d109-ca9a82a31a58"
      },
      "outputs": [
        {
          "ename": "TypeError",
          "evalue": "ignored",
          "output_type": "error",
          "traceback": [
            "\u001b[0;31m---------------------------------------------------------------------------\u001b[0m",
            "\u001b[0;31mTypeError\u001b[0m                                 Traceback (most recent call last)",
            "\u001b[0;32m<ipython-input-16-e5241d34e1de>\u001b[0m in \u001b[0;36m<cell line: 3>\u001b[0;34m()\u001b[0m\n\u001b[1;32m      1\u001b[0m \u001b[0mside\u001b[0m \u001b[0;34m=\u001b[0m \u001b[0;36m7\u001b[0m\u001b[0;34m\u001b[0m\u001b[0;34m\u001b[0m\u001b[0m\n\u001b[1;32m      2\u001b[0m \u001b[0marea\u001b[0m\u001b[0;34m=\u001b[0m \u001b[0mside\u001b[0m \u001b[0;34m*\u001b[0m \u001b[0mside\u001b[0m\u001b[0;34m\u001b[0m\u001b[0;34m\u001b[0m\u001b[0m\n\u001b[0;32m----> 3\u001b[0;31m \u001b[0mprint\u001b[0m\u001b[0;34m(\u001b[0m\u001b[0;34m'The area of Square '\u001b[0m\u001b[0;34m+\u001b[0m \u001b[0marea\u001b[0m\u001b[0;34m)\u001b[0m\u001b[0;34m\u001b[0m\u001b[0;34m\u001b[0m\u001b[0m\n\u001b[0m",
            "\u001b[0;31mTypeError\u001b[0m: can only concatenate str (not \"int\") to str"
          ]
        }
      ],
      "source": [
        "side = 7\n",
        "area= side * side \n",
        "print('The area of Square '+ area)"
      ]
    },
    {
      "cell_type": "code",
      "execution_count": null,
      "metadata": {
        "id": "m6Y2toAOfVLE"
      },
      "outputs": [],
      "source": [
        "# int() : \n",
        "# str()"
      ]
    },
    {
      "cell_type": "code",
      "execution_count": null,
      "metadata": {
        "colab": {
          "base_uri": "https://localhost:8080/"
        },
        "id": "da4eEb2FfSpx",
        "outputId": "07ca2016-5cfb-4278-a423-a19507763023"
      },
      "outputs": [
        {
          "name": "stdout",
          "output_type": "stream",
          "text": [
            "The area of Square 49\n"
          ]
        }
      ],
      "source": [
        "side = 7\n",
        "area= side * side \n",
        "print('The area of Square '+ str(area))"
      ]
    },
    {
      "cell_type": "code",
      "execution_count": null,
      "metadata": {
        "colab": {
          "base_uri": "https://localhost:8080/"
        },
        "id": "n7KiXb1Vfu2p",
        "outputId": "3fa589e7-0445-425c-a655-fd01658c32b0"
      },
      "outputs": [
        {
          "name": "stdout",
          "output_type": "stream",
          "text": [
            "Enter your first name :Abhis             \n",
            "Enter your last name :sri\n",
            "Abhis              sri\n"
          ]
        }
      ],
      "source": [
        "# to take input from user we input()\n",
        "first_name = input('Enter your first name :')\n",
        "second_name = input('Enter your last name :')\n",
        "print(first_name ,second_name)"
      ]
    },
    {
      "cell_type": "code",
      "execution_count": null,
      "metadata": {
        "colab": {
          "base_uri": "https://localhost:8080/",
          "height": 277
        },
        "id": "szD8C9b5gEHP",
        "outputId": "0394fdbb-8c15-4c61-d5e5-02461415e8c2"
      },
      "outputs": [
        {
          "name": "stdout",
          "output_type": "stream",
          "text": [
            "Enter the Length : 6\n",
            "Enter the width : 7\n"
          ]
        },
        {
          "ename": "TypeError",
          "evalue": "ignored",
          "output_type": "error",
          "traceback": [
            "\u001b[0;31m---------------------------------------------------------------------------\u001b[0m",
            "\u001b[0;31mTypeError\u001b[0m                                 Traceback (most recent call last)",
            "\u001b[0;32m<ipython-input-21-c517a605cdc3>\u001b[0m in \u001b[0;36m<cell line: 6>\u001b[0;34m()\u001b[0m\n\u001b[1;32m      4\u001b[0m \u001b[0mw\u001b[0m \u001b[0;34m=\u001b[0m \u001b[0minput\u001b[0m\u001b[0;34m(\u001b[0m\u001b[0;34m'Enter the width : '\u001b[0m\u001b[0;34m)\u001b[0m\u001b[0;34m\u001b[0m\u001b[0;34m\u001b[0m\u001b[0m\n\u001b[1;32m      5\u001b[0m \u001b[0;34m\u001b[0m\u001b[0m\n\u001b[0;32m----> 6\u001b[0;31m \u001b[0marea\u001b[0m \u001b[0;34m=\u001b[0m \u001b[0ml\u001b[0m \u001b[0;34m*\u001b[0m \u001b[0mw\u001b[0m\u001b[0;34m\u001b[0m\u001b[0;34m\u001b[0m\u001b[0m\n\u001b[0m\u001b[1;32m      7\u001b[0m \u001b[0;34m\u001b[0m\u001b[0m\n\u001b[1;32m      8\u001b[0m \u001b[0mprint\u001b[0m\u001b[0;34m(\u001b[0m\u001b[0;34m'area = '\u001b[0m\u001b[0;34m,\u001b[0m \u001b[0marea\u001b[0m\u001b[0;34m)\u001b[0m\u001b[0;34m\u001b[0m\u001b[0;34m\u001b[0m\u001b[0m\n",
            "\u001b[0;31mTypeError\u001b[0m: can't multiply sequence by non-int of type 'str'"
          ]
        }
      ],
      "source": [
        "# integer input from input ()\n",
        "# WAP to calculate area of rectangle\n",
        "l = input('Enter the Length : ')\n",
        "w = input('Enter the width : ')\n",
        "\n",
        "area = l * w\n",
        "\n",
        "print('area = ', area)"
      ]
    },
    {
      "cell_type": "code",
      "execution_count": null,
      "metadata": {
        "colab": {
          "base_uri": "https://localhost:8080/"
        },
        "id": "fc_2A7FihATJ",
        "outputId": "20537df5-9075-442e-8a10-a4458fdd14bd"
      },
      "outputs": [
        {
          "data": {
            "text/plain": [
              "str"
            ]
          },
          "execution_count": 22,
          "metadata": {},
          "output_type": "execute_result"
        }
      ],
      "source": [
        "type(l)"
      ]
    },
    {
      "cell_type": "code",
      "execution_count": null,
      "metadata": {
        "colab": {
          "base_uri": "https://localhost:8080/"
        },
        "id": "5KrqjvVThAWS",
        "outputId": "acab56eb-0878-4d2f-fd96-9d37b02fd914"
      },
      "outputs": [
        {
          "name": "stdout",
          "output_type": "stream",
          "text": [
            "Enter the Length : 5\n",
            "Enter the width : 6\n",
            "area =  30\n"
          ]
        }
      ],
      "source": [
        "# WAP to calculate area of rectangle ( convert datatype)\n",
        "l = int(input('Enter the Length : '))\n",
        "w = int(input('Enter the width : '))\n",
        "area = l * w\n",
        "print('area = ', area)"
      ]
    },
    {
      "cell_type": "code",
      "execution_count": null,
      "metadata": {
        "colab": {
          "base_uri": "https://localhost:8080/"
        },
        "id": "qtQ0zJKKhVXP",
        "outputId": "1a0e8095-98fc-427b-cd5d-7219bb8d9485"
      },
      "outputs": [
        {
          "name": "stdout",
          "output_type": "stream",
          "text": [
            "10\n"
          ]
        }
      ],
      "source": [
        "# we can declare the multiple variable and assigning the value\n",
        "x = 7\n",
        "x = 6\n",
        "x = 8\n",
        "x = 10 \n",
        "print(x)"
      ]
    },
    {
      "cell_type": "code",
      "execution_count": null,
      "metadata": {
        "id": "sIukIXiohVaC"
      },
      "outputs": [],
      "source": [
        "# we have different variable , we need to assign the same value\n",
        "x = y= z = 78"
      ]
    },
    {
      "cell_type": "code",
      "execution_count": null,
      "metadata": {
        "colab": {
          "base_uri": "https://localhost:8080/"
        },
        "id": "Embq1-q-hVcv",
        "outputId": "ce1dd159-a699-47a0-9947-e99aded57e16"
      },
      "outputs": [
        {
          "data": {
            "text/plain": [
              "78"
            ]
          },
          "execution_count": 26,
          "metadata": {},
          "output_type": "execute_result"
        }
      ],
      "source": [
        "x"
      ]
    },
    {
      "cell_type": "code",
      "execution_count": null,
      "metadata": {
        "colab": {
          "base_uri": "https://localhost:8080/"
        },
        "id": "zOu6g6t4hAYy",
        "outputId": "6243fe3b-6e37-415d-e02f-a39dd7252c06"
      },
      "outputs": [
        {
          "data": {
            "text/plain": [
              "78"
            ]
          },
          "execution_count": 27,
          "metadata": {},
          "output_type": "execute_result"
        }
      ],
      "source": [
        "y"
      ]
    },
    {
      "cell_type": "code",
      "execution_count": null,
      "metadata": {
        "colab": {
          "base_uri": "https://localhost:8080/"
        },
        "id": "81gNli8why-U",
        "outputId": "d153f76a-4fba-4d52-f510-1999fb8d197a"
      },
      "outputs": [
        {
          "data": {
            "text/plain": [
              "78"
            ]
          },
          "execution_count": 28,
          "metadata": {},
          "output_type": "execute_result"
        }
      ],
      "source": [
        "z"
      ]
    },
    {
      "cell_type": "code",
      "execution_count": null,
      "metadata": {
        "id": "gTUJX7mahzab"
      },
      "outputs": [],
      "source": [
        "# we have different variable , we need to assign the different value\n",
        "\n",
        "a,b,c = 7,8,9"
      ]
    },
    {
      "cell_type": "code",
      "execution_count": null,
      "metadata": {
        "colab": {
          "base_uri": "https://localhost:8080/"
        },
        "id": "8ZFA0rLEh8cu",
        "outputId": "6d05c5e7-1a2e-4d86-bba7-17331df68b74"
      },
      "outputs": [
        {
          "data": {
            "text/plain": [
              "8"
            ]
          },
          "execution_count": 30,
          "metadata": {},
          "output_type": "execute_result"
        }
      ],
      "source": [
        "b"
      ]
    },
    {
      "attachments": {},
      "cell_type": "markdown",
      "metadata": {
        "id": "uRqV6PF2lS0r"
      },
      "source": [
        "## **Python Literals**"
      ]
    },
    {
      "cell_type": "code",
      "execution_count": null,
      "metadata": {
        "id": "Vg5Ud2K7ja5L"
      },
      "outputs": [],
      "source": [
        "# string literals\n",
        "\n",
        "s1 = 'india'\n",
        "s2 = \"india\"\n",
        "s3 = '''welcome\n",
        "to \n",
        "india''' "
      ]
    },
    {
      "cell_type": "code",
      "execution_count": null,
      "metadata": {
        "colab": {
          "base_uri": "https://localhost:8080/"
        },
        "id": "8uul0W0Mja8o",
        "outputId": "083fd636-ee48-4c3c-f536-01c78a46b667"
      },
      "outputs": [
        {
          "name": "stdout",
          "output_type": "stream",
          "text": [
            "india\n"
          ]
        }
      ],
      "source": [
        "print(s1)"
      ]
    },
    {
      "cell_type": "code",
      "execution_count": null,
      "metadata": {
        "colab": {
          "base_uri": "https://localhost:8080/"
        },
        "id": "I4jfZWXRlvzA",
        "outputId": "9023eefc-936c-4455-9de0-91b19c9fa85d"
      },
      "outputs": [
        {
          "name": "stdout",
          "output_type": "stream",
          "text": [
            "india\n"
          ]
        }
      ],
      "source": [
        "print(s2)"
      ]
    },
    {
      "cell_type": "code",
      "execution_count": null,
      "metadata": {
        "colab": {
          "base_uri": "https://localhost:8080/"
        },
        "id": "2Bwh8DtWlzhP",
        "outputId": "c9928ba1-5e5f-4d42-91c4-203906446b6d"
      },
      "outputs": [
        {
          "name": "stdout",
          "output_type": "stream",
          "text": [
            "welcome\n",
            "to \n",
            "india\n"
          ]
        }
      ],
      "source": [
        "print(s3)"
      ]
    },
    {
      "cell_type": "code",
      "execution_count": null,
      "metadata": {
        "colab": {
          "base_uri": "https://localhost:8080/"
        },
        "id": "IG5ATEhsl44v",
        "outputId": "b97eef66-769a-40a9-fddf-4b5e144d2ace"
      },
      "outputs": [
        {
          "data": {
            "text/plain": [
              "str"
            ]
          },
          "execution_count": 35,
          "metadata": {},
          "output_type": "execute_result"
        }
      ],
      "source": [
        "type(s1)"
      ]
    },
    {
      "cell_type": "code",
      "execution_count": null,
      "metadata": {
        "colab": {
          "base_uri": "https://localhost:8080/"
        },
        "id": "ioEt6UVxl6EA",
        "outputId": "feab4b0e-9910-41d8-a77d-b444c440bdb0"
      },
      "outputs": [
        {
          "data": {
            "text/plain": [
              "str"
            ]
          },
          "execution_count": 36,
          "metadata": {},
          "output_type": "execute_result"
        }
      ],
      "source": [
        "type(s2)"
      ]
    },
    {
      "cell_type": "code",
      "execution_count": null,
      "metadata": {
        "colab": {
          "base_uri": "https://localhost:8080/"
        },
        "id": "ImsDTS4Sl7Cw",
        "outputId": "7e6f521e-97b1-4c95-a539-e3bf75008b23"
      },
      "outputs": [
        {
          "data": {
            "text/plain": [
              "str"
            ]
          },
          "execution_count": 37,
          "metadata": {},
          "output_type": "execute_result"
        }
      ],
      "source": [
        "type(s3)"
      ]
    },
    {
      "cell_type": "code",
      "execution_count": null,
      "metadata": {
        "id": "qvrHomrCl8pH"
      },
      "outputs": [],
      "source": [
        "# char literals in single quotes\n",
        "char1= 'a'\n",
        "\n",
        "# char literals in double quotes\n",
        "char2= \"A\""
      ]
    },
    {
      "cell_type": "code",
      "execution_count": null,
      "metadata": {
        "colab": {
          "base_uri": "https://localhost:8080/"
        },
        "id": "tt5YFoacmN0_",
        "outputId": "ba597ce5-f642-48b5-98c8-3de641af9390"
      },
      "outputs": [
        {
          "name": "stdout",
          "output_type": "stream",
          "text": [
            "a\n"
          ]
        }
      ],
      "source": [
        "print(char1)"
      ]
    },
    {
      "cell_type": "code",
      "execution_count": null,
      "metadata": {
        "colab": {
          "base_uri": "https://localhost:8080/"
        },
        "id": "VTixBoLcmN30",
        "outputId": "56f32da2-f4bf-4871-c990-1b54bdec4ad4"
      },
      "outputs": [
        {
          "data": {
            "text/plain": [
              "str"
            ]
          },
          "execution_count": 40,
          "metadata": {},
          "output_type": "execute_result"
        }
      ],
      "source": [
        "type(char1)"
      ]
    },
    {
      "cell_type": "code",
      "execution_count": null,
      "metadata": {
        "id": "jrveWVvFmN6k"
      },
      "outputs": [],
      "source": [
        "# integer literals\n",
        "int1 = 78\n",
        "\n",
        "# float Literals\n",
        "\n",
        "float1 = 6789.67"
      ]
    },
    {
      "cell_type": "code",
      "execution_count": null,
      "metadata": {
        "colab": {
          "base_uri": "https://localhost:8080/"
        },
        "id": "YUeXBpJUmiv0",
        "outputId": "ae7c1618-c036-4e19-a4dd-44d3d44fb3b7"
      },
      "outputs": [
        {
          "name": "stdout",
          "output_type": "stream",
          "text": [
            "78 6789.67\n"
          ]
        }
      ],
      "source": [
        "print(int1,float1)"
      ]
    },
    {
      "cell_type": "code",
      "execution_count": null,
      "metadata": {
        "colab": {
          "base_uri": "https://localhost:8080/"
        },
        "id": "XjQ37SXGml3x",
        "outputId": "7515b962-1de8-4319-ff46-e17d8ac0eb93"
      },
      "outputs": [
        {
          "name": "stdout",
          "output_type": "stream",
          "text": [
            "True\n"
          ]
        }
      ],
      "source": [
        "# boolean \n",
        "\n",
        "a = (1==True)\n",
        "print(a)"
      ]
    },
    {
      "cell_type": "code",
      "execution_count": null,
      "metadata": {
        "colab": {
          "base_uri": "https://localhost:8080/"
        },
        "id": "jl09Dq0Zm4s8",
        "outputId": "0555e021-1180-4d38-8236-3eb64be9c83c"
      },
      "outputs": [
        {
          "name": "stdout",
          "output_type": "stream",
          "text": [
            "False\n"
          ]
        }
      ],
      "source": [
        "b = (1==False)\n",
        "print(b)"
      ]
    },
    {
      "cell_type": "code",
      "execution_count": null,
      "metadata": {
        "colab": {
          "base_uri": "https://localhost:8080/"
        },
        "id": "gPBYVoF5nS05",
        "outputId": "28eab772-3ca7-4f90-a3ea-5be700febee1"
      },
      "outputs": [
        {
          "name": "stdout",
          "output_type": "stream",
          "text": [
            "Enter the principal :50000\n",
            "enter the rate : 5\n",
            "Enter the time : 3\n",
            "Simple interest is  7500.0\n"
          ]
        }
      ],
      "source": [
        "# WAP to calculate simple intrest \n",
        "# input: P , R , T\n",
        "p = int(input('Enter the principal :'))\n",
        "r = int(input ('enter the rate : '))\n",
        "t = int(input ('Enter the time : '))\n",
        "\n",
        "si = (p*r*t)/100\n",
        "print('Simple interest is ' , si)"
      ]
    }
  ],
  "metadata": {
    "colab": {
      "include_colab_link": true,
      "provenance": []
    },
    "kernelspec": {
      "display_name": "Python 3",
      "name": "python3"
    },
    "language_info": {
      "name": "python"
    }
  },
  "nbformat": 4,
  "nbformat_minor": 0
}
