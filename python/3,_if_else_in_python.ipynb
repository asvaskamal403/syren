{
  "nbformat": 4,
  "nbformat_minor": 0,
  "metadata": {
    "colab": {
      "provenance": [],
      "include_colab_link": true
    },
    "kernelspec": {
      "name": "python3",
      "display_name": "Python 3"
    },
    "language_info": {
      "name": "python"
    }
  },
  "cells": [
    {
      "cell_type": "markdown",
      "metadata": {
        "id": "view-in-github",
        "colab_type": "text"
      },
      "source": [
        "<a href=\"https://colab.research.google.com/github/asvaskamal403/python/blob/kamal/3%2C_if_else_in_python.ipynb\" target=\"_parent\"><img src=\"https://colab.research.google.com/assets/colab-badge.svg\" alt=\"Open In Colab\"/></a>"
      ]
    },
    {
      "cell_type": "code",
      "execution_count": null,
      "metadata": {
        "colab": {
          "base_uri": "https://localhost:8080/"
        },
        "id": "IipppCcqFgEj",
        "outputId": "4086ae8b-2cc6-40c2-e07e-5396c7bf6b4b"
      },
      "outputs": [
        {
          "output_type": "stream",
          "name": "stdout",
          "text": [
            "Enter the number6\n",
            "Even number\n"
          ]
        }
      ],
      "source": [
        "#WAP to check the given number is even\n",
        "num = int(input('Enter the number'))\n",
        "if(num%2==0):\n",
        "  print('Even number')"
      ]
    },
    {
      "cell_type": "code",
      "source": [
        "#WAP to check the given number is even\n",
        "num = int(input('Enter the number :'))\n",
        "if(num%2==0):\n",
        "  print('Even number')\n",
        "else:\n",
        "  print('odd number')"
      ],
      "metadata": {
        "colab": {
          "base_uri": "https://localhost:8080/"
        },
        "id": "oX3B1yUyGToa",
        "outputId": "d00b33ca-cfc4-46bd-ef4e-6c3e66e1a216"
      },
      "execution_count": null,
      "outputs": [
        {
          "output_type": "stream",
          "name": "stdout",
          "text": [
            "Enter the number :5\n",
            "odd number\n"
          ]
        }
      ]
    },
    {
      "cell_type": "code",
      "source": [
        "# WAP to chekc the number is divided from 3 and 5 both\n",
        "num = int(input('Enter the number :'))\n",
        "if(num % 3==0 and num% 5==0):\n",
        "  print('Number is divided from 3 and 5 both')\n",
        "else:\n",
        "  print('Number is NOT divided from 3 and 5 both')"
      ],
      "metadata": {
        "colab": {
          "base_uri": "https://localhost:8080/"
        },
        "id": "asD04w4XGhHF",
        "outputId": "9a83fde1-49c4-4be5-df95-7e569eaaa80a"
      },
      "execution_count": null,
      "outputs": [
        {
          "output_type": "stream",
          "name": "stdout",
          "text": [
            "Enter the number :15\n",
            "Number is divided from 3 and 5 both\n"
          ]
        }
      ]
    },
    {
      "cell_type": "code",
      "source": [
        "# WAP to check that a person completed 18 years age or not \n",
        "# if not the how many years remaing to complete\n",
        "age = int(input('Enter the age : '))\n",
        "if age >= 18:\n",
        "  print('you are in ')\n",
        "else :\n",
        "  yrs = 18-age\n",
        "  print('You have to wait ',yrs,' Years')"
      ],
      "metadata": {
        "colab": {
          "base_uri": "https://localhost:8080/"
        },
        "id": "Uw7gY2rtH9AD",
        "outputId": "23b296a3-02bc-423a-cde5-ffdaa87554a1"
      },
      "execution_count": null,
      "outputs": [
        {
          "output_type": "stream",
          "name": "stdout",
          "text": [
            "Enter the age : 12\n",
            "You have to wait  6  Years\n"
          ]
        }
      ]
    },
    {
      "cell_type": "code",
      "source": [
        "# WAP to chekc the number is divided from 3 and 5 both\n",
        "# nested if\n",
        "num = int(input('Enter the number :'))\n",
        "if(num % 3==0):\n",
        "  if(num % 5 ==0):\n",
        "    print('Number is divided from 3 and 5 both')\n",
        "  else:\n",
        "    print('Number is divided from 3 only')\n",
        "else:\n",
        "  print('Number is NOT divided from 3')"
      ],
      "metadata": {
        "colab": {
          "base_uri": "https://localhost:8080/"
        },
        "id": "Tgjk4RVpGhKA",
        "outputId": "3716770b-bfc5-423e-8e25-d7cadcc249d7"
      },
      "execution_count": null,
      "outputs": [
        {
          "output_type": "stream",
          "name": "stdout",
          "text": [
            "Enter the number :10\n",
            "Number is NOT divided from 3\n"
          ]
        }
      ]
    },
    {
      "cell_type": "code",
      "source": [
        "# WAP to chekc the number is divided from 3 , 5 both\n",
        "num = int(input('Enter the number :'))\n",
        "if(num % 3==0):\n",
        "  print('Number is divided from 3 only')\n",
        "if(num % 5==0):\n",
        "  print('Number is divided from 5 only')\n",
        "if(num % 3==0 and num% 5==0):\n",
        "  print('Number is divided from 3 and 5 both')"
      ],
      "metadata": {
        "colab": {
          "base_uri": "https://localhost:8080/"
        },
        "id": "ZkLswbJbGZSB",
        "outputId": "a63677a8-07ac-4213-f787-42824241d33d"
      },
      "execution_count": null,
      "outputs": [
        {
          "output_type": "stream",
          "name": "stdout",
          "text": [
            "Enter the number :27\n",
            "Number is divided from 3 only\n"
          ]
        }
      ]
    },
    {
      "cell_type": "code",
      "source": [
        "# WAP to chekc the number is divided from 3 and 5 both\n",
        "num = int(input('Enter the number :'))\n",
        "if(num % 3==0 or num% 5==0):\n",
        "  print('Yes')\n",
        "else:\n",
        "  print('No')"
      ],
      "metadata": {
        "colab": {
          "base_uri": "https://localhost:8080/"
        },
        "id": "z3oQa2rgKSy6",
        "outputId": "f2772f0f-71e1-4cce-f91f-9aae78dd1a8c"
      },
      "execution_count": null,
      "outputs": [
        {
          "output_type": "stream",
          "name": "stdout",
          "text": [
            "Enter the number :27\n",
            "Yes\n"
          ]
        }
      ]
    },
    {
      "cell_type": "code",
      "source": [
        "# if - elif -else can run the cell shift+enter\n",
        "# you \n",
        "# WAP to check the enter number is  + ve -ve or 0\n",
        "num = int(input('Enter the number :'))\n",
        "if num ==0:\n",
        "  print('Zero')\n",
        "elif num > 0 :\n",
        "  print('+ve')\n",
        "else:\n",
        "  print('-ve')"
      ],
      "metadata": {
        "colab": {
          "base_uri": "https://localhost:8080/"
        },
        "id": "WFbLS5_ZKqgp",
        "outputId": "91c605eb-db1c-48d0-d51b-4f80e282b3d6"
      },
      "execution_count": null,
      "outputs": [
        {
          "output_type": "stream",
          "name": "stdout",
          "text": [
            "Enter the number :0\n",
            "Zero\n"
          ]
        }
      ]
    },
    {
      "cell_type": "code",
      "source": [
        "#Wap to chekc the given character is vowel or not \n",
        "# a, e, i, o, u\n",
        "# A ,E ,I ,O, U\n",
        "\n",
        "ch = input('Enter the character :')\n",
        "if (ch=='a' or ch=='e' or ch=='i' or ch=='o' or ch=='u' ):\n",
        "  print('vowel')\n",
        "elif(ch=='A' or ch=='E' or ch=='I' or ch=='O' or ch=='U'):\n",
        "  print('vowel')\n",
        "else:\n",
        "  print('Not vowel')"
      ],
      "metadata": {
        "colab": {
          "base_uri": "https://localhost:8080/"
        },
        "id": "Dtnh7tgtLSdu",
        "outputId": "480e4b71-5d2e-4265-8915-68edea539239"
      },
      "execution_count": null,
      "outputs": [
        {
          "output_type": "stream",
          "name": "stdout",
          "text": [
            "Enter the character :E\n",
            "vowel\n"
          ]
        }
      ]
    },
    {
      "cell_type": "code",
      "source": [
        "# wap to take input from user and determine\n",
        "# if this is character - upper case or lower case\n",
        "# this is a number \n",
        "ch = input('Enter the character :')\n",
        "if (ch>='A' and ch <='Z'):\n",
        "  print('uppercase letter')\n",
        "elif (ch>='a' and ch <='z'):\n",
        "  print('lower case letter')\n",
        "else:\n",
        "  print('Number')"
      ],
      "metadata": {
        "colab": {
          "base_uri": "https://localhost:8080/"
        },
        "id": "MzAZ6db0LSgq",
        "outputId": "37d6a984-f23a-4489-f532-9f29471fdeff"
      },
      "execution_count": null,
      "outputs": [
        {
          "output_type": "stream",
          "name": "stdout",
          "text": [
            "Enter the character :5\n",
            "Number\n"
          ]
        }
      ]
    },
    {
      "cell_type": "code",
      "source": [
        "ch = input('Enter the character :')\n",
        "if (ch>='A' and ch <='Z'):\n",
        "  print('uppercase letter')\n",
        "elif (ch>='a' and ch <='z'):\n",
        "  print('lower case letter')\n",
        "elif (ch>='0' and ch <='9'):\n",
        "  print('Number')"
      ],
      "metadata": {
        "colab": {
          "base_uri": "https://localhost:8080/"
        },
        "id": "lnEc8fyLLSjv",
        "outputId": "c3adc0cd-9c20-4911-a872-3f413bebdc7a"
      },
      "execution_count": null,
      "outputs": [
        {
          "output_type": "stream",
          "name": "stdout",
          "text": [
            "Enter the character :7\n",
            "Number\n"
          ]
        }
      ]
    },
    {
      "cell_type": "code",
      "source": [],
      "metadata": {
        "id": "bmj_dVnqLGq1"
      },
      "execution_count": null,
      "outputs": []
    }
  ]
}