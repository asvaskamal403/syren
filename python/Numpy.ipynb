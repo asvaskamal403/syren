{
  "nbformat": 4,
  "nbformat_minor": 0,
  "metadata": {
    "colab": {
      "provenance": [],
      "include_colab_link": true
    },
    "kernelspec": {
      "name": "python3",
      "display_name": "Python 3"
    },
    "language_info": {
      "name": "python"
    }
  },
  "cells": [
    {
      "cell_type": "markdown",
      "metadata": {
        "id": "view-in-github",
        "colab_type": "text"
      },
      "source": [
        "<a href=\"https://colab.research.google.com/github/asvaskamal403/syren/blob/master/python/Numpy.ipynb\" target=\"_parent\"><img src=\"https://colab.research.google.com/assets/colab-badge.svg\" alt=\"Open In Colab\"/></a>"
      ]
    },
    {
      "cell_type": "code",
      "execution_count": null,
      "metadata": {
        "colab": {
          "base_uri": "https://localhost:8080/"
        },
        "id": "INBJcw0B6D0e",
        "outputId": "f5288678-9124-4cc7-e652-4d81c08b6d91"
      },
      "outputs": [
        {
          "output_type": "stream",
          "name": "stdout",
          "text": [
            "===date 23 May===\n"
          ]
        }
      ],
      "source": [
        "print('===date 23 May===')"
      ]
    },
    {
      "cell_type": "code",
      "source": [
        "import numpy as np"
      ],
      "metadata": {
        "id": "xbMaYeAO6IrH"
      },
      "execution_count": null,
      "outputs": []
    },
    {
      "cell_type": "code",
      "source": [
        "np.__version__"
      ],
      "metadata": {
        "colab": {
          "base_uri": "https://localhost:8080/",
          "height": 36
        },
        "id": "0KjonaTW6IuM",
        "outputId": "cb4d3bd6-dcef-40ce-9a5e-babc339cac04"
      },
      "execution_count": null,
      "outputs": [
        {
          "output_type": "execute_result",
          "data": {
            "text/plain": [
              "'1.22.4'"
            ],
            "application/vnd.google.colaboratory.intrinsic+json": {
              "type": "string"
            }
          },
          "metadata": {},
          "execution_count": 3
        }
      ]
    },
    {
      "cell_type": "code",
      "source": [
        "# create 1 D array\n",
        "# syntax : np.array([data1,data2....])\n",
        "a = np.array([2,3,4,5,6])"
      ],
      "metadata": {
        "id": "0IiTzCtE6Ixa"
      },
      "execution_count": null,
      "outputs": []
    },
    {
      "cell_type": "code",
      "source": [
        "a"
      ],
      "metadata": {
        "colab": {
          "base_uri": "https://localhost:8080/"
        },
        "id": "f4FzrVhL6I0K",
        "outputId": "57008948-a405-465f-d064-75a2f217cf4d"
      },
      "execution_count": null,
      "outputs": [
        {
          "output_type": "execute_result",
          "data": {
            "text/plain": [
              "array([2, 3, 4, 5, 6])"
            ]
          },
          "metadata": {},
          "execution_count": 5
        }
      ]
    },
    {
      "cell_type": "code",
      "source": [
        "type(a)"
      ],
      "metadata": {
        "colab": {
          "base_uri": "https://localhost:8080/"
        },
        "id": "JhbcUqAO6I3B",
        "outputId": "277bc5ca-1c3f-48bb-b24b-83d3861c48d2"
      },
      "execution_count": null,
      "outputs": [
        {
          "output_type": "execute_result",
          "data": {
            "text/plain": [
              "numpy.ndarray"
            ]
          },
          "metadata": {},
          "execution_count": 6
        }
      ]
    },
    {
      "cell_type": "code",
      "source": [
        "# creating 2 D array\n",
        "# syntax : np.array([[d1,d2,d3],[d4,d5,d6],[d7,d8,d9]])\n",
        "b= np.array([[1,1,1],[2,2,2],[3,3,3]])\n",
        "b"
      ],
      "metadata": {
        "colab": {
          "base_uri": "https://localhost:8080/"
        },
        "id": "n4RXOj946I6K",
        "outputId": "d0913cc7-eac6-44ca-8c6e-87a3a7412d3a"
      },
      "execution_count": null,
      "outputs": [
        {
          "output_type": "execute_result",
          "data": {
            "text/plain": [
              "array([[1, 1, 1],\n",
              "       [2, 2, 2],\n",
              "       [3, 3, 3]])"
            ]
          },
          "metadata": {},
          "execution_count": 7
        }
      ]
    },
    {
      "cell_type": "code",
      "source": [
        "# Assignment : creating 2 D array with 5 rows and 6 column."
      ],
      "metadata": {
        "id": "qwI9Sqj462a8"
      },
      "execution_count": null,
      "outputs": []
    },
    {
      "cell_type": "code",
      "source": [
        "# printing the dimension form array\n",
        "# syntax : array-var.ndim\n",
        "a.ndim"
      ],
      "metadata": {
        "colab": {
          "base_uri": "https://localhost:8080/"
        },
        "id": "zket2VvN79xp",
        "outputId": "131d9ef4-31a2-49fd-a04c-c91bb5659462"
      },
      "execution_count": null,
      "outputs": [
        {
          "output_type": "execute_result",
          "data": {
            "text/plain": [
              "1"
            ]
          },
          "metadata": {},
          "execution_count": 8
        }
      ]
    },
    {
      "cell_type": "code",
      "source": [
        "print('the dimensions of my matrix is : ', b.ndim)"
      ],
      "metadata": {
        "colab": {
          "base_uri": "https://localhost:8080/"
        },
        "id": "_pD2al8Q790l",
        "outputId": "dc2dedbb-6453-405e-cfb4-2420273cb845"
      },
      "execution_count": null,
      "outputs": [
        {
          "output_type": "stream",
          "name": "stdout",
          "text": [
            "the dimensions of my matrix is :  2\n"
          ]
        }
      ]
    },
    {
      "cell_type": "code",
      "source": [
        "# to print row and column form the given marix\n",
        "# array.shape"
      ],
      "metadata": {
        "id": "8BT6-Ysb793i"
      },
      "execution_count": null,
      "outputs": []
    },
    {
      "cell_type": "code",
      "source": [
        "a.shape"
      ],
      "metadata": {
        "colab": {
          "base_uri": "https://localhost:8080/"
        },
        "id": "bPYOdMmK796i",
        "outputId": "eaea5a3c-5702-43b6-bd21-907259a80906"
      },
      "execution_count": null,
      "outputs": [
        {
          "output_type": "execute_result",
          "data": {
            "text/plain": [
              "(5,)"
            ]
          },
          "metadata": {},
          "execution_count": 13
        }
      ]
    },
    {
      "cell_type": "code",
      "source": [
        "b.shape"
      ],
      "metadata": {
        "colab": {
          "base_uri": "https://localhost:8080/"
        },
        "id": "xGzeyHRd8dE5",
        "outputId": "854988f1-bbbb-4a10-b33c-a5564c47c5f9"
      },
      "execution_count": null,
      "outputs": [
        {
          "output_type": "execute_result",
          "data": {
            "text/plain": [
              "(3, 3)"
            ]
          },
          "metadata": {},
          "execution_count": 14
        }
      ]
    },
    {
      "cell_type": "code",
      "source": [
        "c= np.array([[1,1,1],[2,2,2],[3,3,3],[4,4,4]])\n",
        "c"
      ],
      "metadata": {
        "colab": {
          "base_uri": "https://localhost:8080/"
        },
        "id": "_NeC0gM18gNJ",
        "outputId": "e319d71b-09a3-4a96-cfa8-e881e8cfa4e5"
      },
      "execution_count": null,
      "outputs": [
        {
          "output_type": "execute_result",
          "data": {
            "text/plain": [
              "array([[1, 1, 1],\n",
              "       [2, 2, 2],\n",
              "       [3, 3, 3],\n",
              "       [4, 4, 4]])"
            ]
          },
          "metadata": {},
          "execution_count": 15
        }
      ]
    },
    {
      "cell_type": "code",
      "source": [
        "c.shape"
      ],
      "metadata": {
        "colab": {
          "base_uri": "https://localhost:8080/"
        },
        "id": "2JWk9sFw8wNZ",
        "outputId": "99e01c5b-31ca-4c55-de3b-6b4335242108"
      },
      "execution_count": null,
      "outputs": [
        {
          "output_type": "execute_result",
          "data": {
            "text/plain": [
              "(4, 3)"
            ]
          },
          "metadata": {},
          "execution_count": 16
        }
      ]
    },
    {
      "cell_type": "code",
      "source": [
        "print('the rows : ', c.shape[0])"
      ],
      "metadata": {
        "colab": {
          "base_uri": "https://localhost:8080/"
        },
        "id": "nqLqWapN8zap",
        "outputId": "8a2f201c-93c6-4dde-d521-f817cba2a9af"
      },
      "execution_count": null,
      "outputs": [
        {
          "output_type": "stream",
          "name": "stdout",
          "text": [
            "the rows :  4\n"
          ]
        }
      ]
    },
    {
      "cell_type": "code",
      "source": [
        "print('the columns : ', c.shape[1])"
      ],
      "metadata": {
        "colab": {
          "base_uri": "https://localhost:8080/"
        },
        "id": "8vsHjpdn84Cb",
        "outputId": "5d99ff7a-759d-46a5-bd54-9a660669fc7c"
      },
      "execution_count": null,
      "outputs": [
        {
          "output_type": "stream",
          "name": "stdout",
          "text": [
            "the columns :  3\n"
          ]
        }
      ]
    },
    {
      "cell_type": "code",
      "source": [
        "# if we want to total number of element\n",
        "# arry.size\n",
        "a.size"
      ],
      "metadata": {
        "colab": {
          "base_uri": "https://localhost:8080/"
        },
        "id": "al-dV8WM89XA",
        "outputId": "7a297293-a538-4af0-e71c-5084616a8342"
      },
      "execution_count": null,
      "outputs": [
        {
          "output_type": "execute_result",
          "data": {
            "text/plain": [
              "5"
            ]
          },
          "metadata": {},
          "execution_count": 20
        }
      ]
    },
    {
      "cell_type": "code",
      "source": [
        "b.size"
      ],
      "metadata": {
        "colab": {
          "base_uri": "https://localhost:8080/"
        },
        "id": "AgiZsfMX9H0W",
        "outputId": "07bfdc45-9287-4612-a43c-8cc1107df098"
      },
      "execution_count": null,
      "outputs": [
        {
          "output_type": "execute_result",
          "data": {
            "text/plain": [
              "9"
            ]
          },
          "metadata": {},
          "execution_count": 21
        }
      ]
    },
    {
      "cell_type": "code",
      "source": [
        "c.size"
      ],
      "metadata": {
        "colab": {
          "base_uri": "https://localhost:8080/"
        },
        "id": "VJneKFRP9JcG",
        "outputId": "236198f8-9676-40b0-cdc7-c3e794f1aba3"
      },
      "execution_count": null,
      "outputs": [
        {
          "output_type": "execute_result",
          "data": {
            "text/plain": [
              "12"
            ]
          },
          "metadata": {},
          "execution_count": 22
        }
      ]
    },
    {
      "cell_type": "markdown",
      "source": [
        "## **array Creation technique**"
      ],
      "metadata": {
        "id": "HTB0lGA29Nn1"
      }
    },
    {
      "cell_type": "code",
      "source": [
        "# np.zeros()\n",
        "# 1D\n",
        "d = np.zeros(5)\n",
        "d"
      ],
      "metadata": {
        "colab": {
          "base_uri": "https://localhost:8080/"
        },
        "id": "_B3NYG6N9LV9",
        "outputId": "de5cacbf-293c-4e8c-8488-ae83a3e24eb7"
      },
      "execution_count": null,
      "outputs": [
        {
          "output_type": "execute_result",
          "data": {
            "text/plain": [
              "array([0., 0., 0., 0., 0.])"
            ]
          },
          "metadata": {},
          "execution_count": 23
        }
      ]
    },
    {
      "cell_type": "code",
      "source": [
        "# 2d\n",
        "d = np.zeros((4,5))\n",
        "d"
      ],
      "metadata": {
        "colab": {
          "base_uri": "https://localhost:8080/"
        },
        "id": "jEPVgp0c9aqx",
        "outputId": "555063a2-91d8-425d-ffe9-5c77c256a379"
      },
      "execution_count": null,
      "outputs": [
        {
          "output_type": "execute_result",
          "data": {
            "text/plain": [
              "array([[0., 0., 0., 0., 0.],\n",
              "       [0., 0., 0., 0., 0.],\n",
              "       [0., 0., 0., 0., 0.],\n",
              "       [0., 0., 0., 0., 0.]])"
            ]
          },
          "metadata": {},
          "execution_count": 24
        }
      ]
    },
    {
      "cell_type": "code",
      "source": [
        "d = np.zeros((4,5), dtype='int')\n",
        "d"
      ],
      "metadata": {
        "colab": {
          "base_uri": "https://localhost:8080/"
        },
        "id": "IT-Z15yo9oAx",
        "outputId": "f731bfac-857a-4cfe-b994-c0843f577235"
      },
      "execution_count": null,
      "outputs": [
        {
          "output_type": "execute_result",
          "data": {
            "text/plain": [
              "array([[0, 0, 0, 0, 0],\n",
              "       [0, 0, 0, 0, 0],\n",
              "       [0, 0, 0, 0, 0],\n",
              "       [0, 0, 0, 0, 0]])"
            ]
          },
          "metadata": {},
          "execution_count": 25
        }
      ]
    },
    {
      "cell_type": "code",
      "source": [
        "# 3d\n",
        "d = np.zeros((3,2,3))\n",
        "d"
      ],
      "metadata": {
        "colab": {
          "base_uri": "https://localhost:8080/"
        },
        "id": "rX-X8q0T9uIz",
        "outputId": "9d153619-9ac0-4dd6-8999-965b4a3d62fb"
      },
      "execution_count": null,
      "outputs": [
        {
          "output_type": "execute_result",
          "data": {
            "text/plain": [
              "array([[[0., 0., 0.],\n",
              "        [0., 0., 0.]],\n",
              "\n",
              "       [[0., 0., 0.],\n",
              "        [0., 0., 0.]],\n",
              "\n",
              "       [[0., 0., 0.],\n",
              "        [0., 0., 0.]]])"
            ]
          },
          "metadata": {},
          "execution_count": 26
        }
      ]
    },
    {
      "cell_type": "code",
      "source": [
        "d = np.zeros((4,6,10))\n",
        "d"
      ],
      "metadata": {
        "colab": {
          "base_uri": "https://localhost:8080/"
        },
        "id": "EsAA6dxn-Hfd",
        "outputId": "e2104448-1557-45b8-e2c5-3e60eb728ce6"
      },
      "execution_count": null,
      "outputs": [
        {
          "output_type": "execute_result",
          "data": {
            "text/plain": [
              "array([[[0., 0., 0., 0., 0., 0., 0., 0., 0., 0.],\n",
              "        [0., 0., 0., 0., 0., 0., 0., 0., 0., 0.],\n",
              "        [0., 0., 0., 0., 0., 0., 0., 0., 0., 0.],\n",
              "        [0., 0., 0., 0., 0., 0., 0., 0., 0., 0.],\n",
              "        [0., 0., 0., 0., 0., 0., 0., 0., 0., 0.],\n",
              "        [0., 0., 0., 0., 0., 0., 0., 0., 0., 0.]],\n",
              "\n",
              "       [[0., 0., 0., 0., 0., 0., 0., 0., 0., 0.],\n",
              "        [0., 0., 0., 0., 0., 0., 0., 0., 0., 0.],\n",
              "        [0., 0., 0., 0., 0., 0., 0., 0., 0., 0.],\n",
              "        [0., 0., 0., 0., 0., 0., 0., 0., 0., 0.],\n",
              "        [0., 0., 0., 0., 0., 0., 0., 0., 0., 0.],\n",
              "        [0., 0., 0., 0., 0., 0., 0., 0., 0., 0.]],\n",
              "\n",
              "       [[0., 0., 0., 0., 0., 0., 0., 0., 0., 0.],\n",
              "        [0., 0., 0., 0., 0., 0., 0., 0., 0., 0.],\n",
              "        [0., 0., 0., 0., 0., 0., 0., 0., 0., 0.],\n",
              "        [0., 0., 0., 0., 0., 0., 0., 0., 0., 0.],\n",
              "        [0., 0., 0., 0., 0., 0., 0., 0., 0., 0.],\n",
              "        [0., 0., 0., 0., 0., 0., 0., 0., 0., 0.]],\n",
              "\n",
              "       [[0., 0., 0., 0., 0., 0., 0., 0., 0., 0.],\n",
              "        [0., 0., 0., 0., 0., 0., 0., 0., 0., 0.],\n",
              "        [0., 0., 0., 0., 0., 0., 0., 0., 0., 0.],\n",
              "        [0., 0., 0., 0., 0., 0., 0., 0., 0., 0.],\n",
              "        [0., 0., 0., 0., 0., 0., 0., 0., 0., 0.],\n",
              "        [0., 0., 0., 0., 0., 0., 0., 0., 0., 0.]]])"
            ]
          },
          "metadata": {},
          "execution_count": 27
        }
      ]
    },
    {
      "cell_type": "code",
      "source": [
        "# np.ones()"
      ],
      "metadata": {
        "id": "8OmImPwz-HiW"
      },
      "execution_count": null,
      "outputs": []
    },
    {
      "cell_type": "code",
      "source": [
        "e = np.ones(5)\n",
        "e"
      ],
      "metadata": {
        "colab": {
          "base_uri": "https://localhost:8080/"
        },
        "id": "1xcOSiTy-Tme",
        "outputId": "388762c7-b96e-4dfe-b902-e6810cfe25cd"
      },
      "execution_count": null,
      "outputs": [
        {
          "output_type": "execute_result",
          "data": {
            "text/plain": [
              "array([1., 1., 1., 1., 1.])"
            ]
          },
          "metadata": {},
          "execution_count": 29
        }
      ]
    },
    {
      "cell_type": "code",
      "source": [
        "e = np.ones((5,6))\n",
        "e"
      ],
      "metadata": {
        "colab": {
          "base_uri": "https://localhost:8080/"
        },
        "id": "S_VLbhhl-TpW",
        "outputId": "3ee83277-1902-4293-f9cb-ac4c68aafb0b"
      },
      "execution_count": null,
      "outputs": [
        {
          "output_type": "execute_result",
          "data": {
            "text/plain": [
              "array([[1., 1., 1., 1., 1., 1.],\n",
              "       [1., 1., 1., 1., 1., 1.],\n",
              "       [1., 1., 1., 1., 1., 1.],\n",
              "       [1., 1., 1., 1., 1., 1.],\n",
              "       [1., 1., 1., 1., 1., 1.]])"
            ]
          },
          "metadata": {},
          "execution_count": 31
        }
      ]
    },
    {
      "cell_type": "code",
      "source": [
        "e = np.ones((2,5,6))\n",
        "e"
      ],
      "metadata": {
        "colab": {
          "base_uri": "https://localhost:8080/"
        },
        "id": "1FY_-fVB-Tsj",
        "outputId": "599d2ff1-2dcf-4186-9241-c19ffbe184d6"
      },
      "execution_count": null,
      "outputs": [
        {
          "output_type": "execute_result",
          "data": {
            "text/plain": [
              "array([[[1., 1., 1., 1., 1., 1.],\n",
              "        [1., 1., 1., 1., 1., 1.],\n",
              "        [1., 1., 1., 1., 1., 1.],\n",
              "        [1., 1., 1., 1., 1., 1.],\n",
              "        [1., 1., 1., 1., 1., 1.]],\n",
              "\n",
              "       [[1., 1., 1., 1., 1., 1.],\n",
              "        [1., 1., 1., 1., 1., 1.],\n",
              "        [1., 1., 1., 1., 1., 1.],\n",
              "        [1., 1., 1., 1., 1., 1.],\n",
              "        [1., 1., 1., 1., 1., 1.]]])"
            ]
          },
          "metadata": {},
          "execution_count": 32
        }
      ]
    },
    {
      "cell_type": "code",
      "source": [
        "# if i need to create a matrix with no. 7\n",
        "# fill -  > full\n",
        "# np.full((row,col),num)\n",
        "f = np.full((4,5),9)"
      ],
      "metadata": {
        "id": "xv6dhdJS-DTL"
      },
      "execution_count": null,
      "outputs": []
    },
    {
      "cell_type": "code",
      "source": [
        "f"
      ],
      "metadata": {
        "colab": {
          "base_uri": "https://localhost:8080/"
        },
        "id": "NJruWkie-8BV",
        "outputId": "8a48d8c8-81ab-45c6-feb8-7b282a0beace"
      },
      "execution_count": null,
      "outputs": [
        {
          "output_type": "execute_result",
          "data": {
            "text/plain": [
              "array([[9, 9, 9, 9, 9],\n",
              "       [9, 9, 9, 9, 9],\n",
              "       [9, 9, 9, 9, 9],\n",
              "       [9, 9, 9, 9, 9]])"
            ]
          },
          "metadata": {},
          "execution_count": 34
        }
      ]
    },
    {
      "cell_type": "code",
      "source": [
        "f = np.full((2,4,5),9)"
      ],
      "metadata": {
        "id": "idLFWmbh-8xH"
      },
      "execution_count": null,
      "outputs": []
    },
    {
      "cell_type": "code",
      "source": [
        "f"
      ],
      "metadata": {
        "colab": {
          "base_uri": "https://localhost:8080/"
        },
        "id": "y6bZpIVF-_1r",
        "outputId": "0c99c835-c1cb-4894-8283-e4f0d8902672"
      },
      "execution_count": null,
      "outputs": [
        {
          "output_type": "execute_result",
          "data": {
            "text/plain": [
              "array([[[9, 9, 9, 9, 9],\n",
              "        [9, 9, 9, 9, 9],\n",
              "        [9, 9, 9, 9, 9],\n",
              "        [9, 9, 9, 9, 9]],\n",
              "\n",
              "       [[9, 9, 9, 9, 9],\n",
              "        [9, 9, 9, 9, 9],\n",
              "        [9, 9, 9, 9, 9],\n",
              "        [9, 9, 9, 9, 9]]])"
            ]
          },
          "metadata": {},
          "execution_count": 36
        }
      ]
    },
    {
      "cell_type": "code",
      "source": [
        "# random value : you need fraction values which is always less that 1\n",
        "# syntax : np.random.random((r,c))\n",
        "h= np.random.random((3,4))\n",
        "h"
      ],
      "metadata": {
        "colab": {
          "base_uri": "https://localhost:8080/"
        },
        "id": "pgBZT5qI_BUZ",
        "outputId": "bfc8a583-1092-4771-f6c0-5c1de68e191e"
      },
      "execution_count": null,
      "outputs": [
        {
          "output_type": "execute_result",
          "data": {
            "text/plain": [
              "array([[0.23552912, 0.47294317, 0.93331333, 0.37577513],\n",
              "       [0.8831053 , 0.33830658, 0.85592831, 0.18103047],\n",
              "       [0.76222822, 0.98431943, 0.6498927 , 0.07422772]])"
            ]
          },
          "metadata": {},
          "execution_count": 40
        }
      ]
    },
    {
      "cell_type": "code",
      "source": [
        "2+h"
      ],
      "metadata": {
        "colab": {
          "base_uri": "https://localhost:8080/"
        },
        "id": "_Fwtyzfg_VYC",
        "outputId": "9a4bdecf-1466-41ea-8852-9c007395017d"
      },
      "execution_count": null,
      "outputs": [
        {
          "output_type": "execute_result",
          "data": {
            "text/plain": [
              "array([[2.23552912, 2.47294317, 2.93331333, 2.37577513],\n",
              "       [2.8831053 , 2.33830658, 2.85592831, 2.18103047],\n",
              "       [2.76222822, 2.98431943, 2.6498927 , 2.07422772]])"
            ]
          },
          "metadata": {},
          "execution_count": 41
        }
      ]
    },
    {
      "cell_type": "code",
      "source": [
        "6+h"
      ],
      "metadata": {
        "colab": {
          "base_uri": "https://localhost:8080/"
        },
        "id": "elvIQ79e_rp3",
        "outputId": "7b5a2c2f-2fc2-462b-81a5-2fbe679179a9"
      },
      "execution_count": null,
      "outputs": [
        {
          "output_type": "execute_result",
          "data": {
            "text/plain": [
              "array([[6.23552912, 6.47294317, 6.93331333, 6.37577513],\n",
              "       [6.8831053 , 6.33830658, 6.85592831, 6.18103047],\n",
              "       [6.76222822, 6.98431943, 6.6498927 , 6.07422772]])"
            ]
          },
          "metadata": {},
          "execution_count": 42
        }
      ]
    },
    {
      "cell_type": "code",
      "source": [
        "# approach 2 : you need integer random value between any range\n",
        "# syntax : np.random.randint(low, high ,(r,c))\n",
        "i = np.random.randint(20,40,(4,5))\n",
        "i"
      ],
      "metadata": {
        "colab": {
          "base_uri": "https://localhost:8080/"
        },
        "id": "woCYSA-m_uOf",
        "outputId": "5e6987a9-3bd1-4bcf-eeac-4768e404d2a3"
      },
      "execution_count": null,
      "outputs": [
        {
          "output_type": "execute_result",
          "data": {
            "text/plain": [
              "array([[39, 24, 35, 24, 24],\n",
              "       [34, 26, 35, 27, 27],\n",
              "       [39, 25, 26, 24, 29],\n",
              "       [24, 34, 25, 36, 22]])"
            ]
          },
          "metadata": {},
          "execution_count": 44
        }
      ]
    },
    {
      "cell_type": "code",
      "source": [
        "# create attendance (33-80) 100 students\n",
        "i = np.random.randint(30,81,100)\n",
        "i"
      ],
      "metadata": {
        "colab": {
          "base_uri": "https://localhost:8080/"
        },
        "id": "Uz6nCbfkALcs",
        "outputId": "e32c490f-e1e3-4e4d-b6de-19b965b1ce61"
      },
      "execution_count": null,
      "outputs": [
        {
          "output_type": "execute_result",
          "data": {
            "text/plain": [
              "array([31, 56, 51, 41, 38, 36, 75, 41, 60, 48, 79, 53, 76, 80, 48, 55, 61,\n",
              "       80, 42, 56, 60, 70, 57, 78, 79, 58, 65, 75, 68, 72, 55, 69, 56, 47,\n",
              "       66, 70, 62, 54, 36, 79, 42, 35, 65, 39, 56, 44, 72, 40, 41, 32, 51,\n",
              "       64, 65, 58, 61, 41, 64, 45, 72, 42, 34, 32, 62, 30, 80, 64, 79, 60,\n",
              "       38, 32, 59, 51, 60, 77, 34, 39, 65, 60, 31, 56, 33, 68, 54, 30, 47,\n",
              "       57, 71, 68, 34, 50, 50, 43, 74, 31, 39, 34, 40, 55, 45, 77])"
            ]
          },
          "metadata": {},
          "execution_count": 45
        }
      ]
    },
    {
      "cell_type": "code",
      "source": [
        "# arange(start, end ,steps):\n",
        "j = np.arange(1,10,1)\n",
        "j"
      ],
      "metadata": {
        "colab": {
          "base_uri": "https://localhost:8080/"
        },
        "id": "qa1JVoA3AgP4",
        "outputId": "1bf95d73-c00b-49cb-90a4-03c6ba724f4d"
      },
      "execution_count": null,
      "outputs": [
        {
          "output_type": "execute_result",
          "data": {
            "text/plain": [
              "array([1, 2, 3, 4, 5, 6, 7, 8, 9])"
            ]
          },
          "metadata": {},
          "execution_count": 46
        }
      ]
    },
    {
      "cell_type": "code",
      "source": [
        "j = np.arange(1,10,0.4)\n",
        "j"
      ],
      "metadata": {
        "colab": {
          "base_uri": "https://localhost:8080/"
        },
        "id": "UK5Dx5BzBJi9",
        "outputId": "fa834257-3e44-4345-abdb-c747a93e7a7c"
      },
      "execution_count": null,
      "outputs": [
        {
          "output_type": "execute_result",
          "data": {
            "text/plain": [
              "array([1. , 1.4, 1.8, 2.2, 2.6, 3. , 3.4, 3.8, 4.2, 4.6, 5. , 5.4, 5.8,\n",
              "       6.2, 6.6, 7. , 7.4, 7.8, 8.2, 8.6, 9. , 9.4, 9.8])"
            ]
          },
          "metadata": {},
          "execution_count": 47
        }
      ]
    },
    {
      "cell_type": "code",
      "source": [
        "j = np.arange(1,10,0.1)\n",
        "j"
      ],
      "metadata": {
        "colab": {
          "base_uri": "https://localhost:8080/"
        },
        "id": "_TNZmP4CBdxF",
        "outputId": "0fb1c7c9-8464-417c-8106-1ab2792936c9"
      },
      "execution_count": null,
      "outputs": [
        {
          "output_type": "execute_result",
          "data": {
            "text/plain": [
              "array([1. , 1.1, 1.2, 1.3, 1.4, 1.5, 1.6, 1.7, 1.8, 1.9, 2. , 2.1, 2.2,\n",
              "       2.3, 2.4, 2.5, 2.6, 2.7, 2.8, 2.9, 3. , 3.1, 3.2, 3.3, 3.4, 3.5,\n",
              "       3.6, 3.7, 3.8, 3.9, 4. , 4.1, 4.2, 4.3, 4.4, 4.5, 4.6, 4.7, 4.8,\n",
              "       4.9, 5. , 5.1, 5.2, 5.3, 5.4, 5.5, 5.6, 5.7, 5.8, 5.9, 6. , 6.1,\n",
              "       6.2, 6.3, 6.4, 6.5, 6.6, 6.7, 6.8, 6.9, 7. , 7.1, 7.2, 7.3, 7.4,\n",
              "       7.5, 7.6, 7.7, 7.8, 7.9, 8. , 8.1, 8.2, 8.3, 8.4, 8.5, 8.6, 8.7,\n",
              "       8.8, 8.9, 9. , 9.1, 9.2, 9.3, 9.4, 9.5, 9.6, 9.7, 9.8, 9.9])"
            ]
          },
          "metadata": {},
          "execution_count": 48
        }
      ]
    },
    {
      "cell_type": "code",
      "source": [
        "# linsapce(start ,end , total number of element )\n",
        "# Note : end point will get printed\n",
        "g = np.linspace(1,10,10)\n",
        "g"
      ],
      "metadata": {
        "colab": {
          "base_uri": "https://localhost:8080/"
        },
        "id": "UwYl6-nLBd0Z",
        "outputId": "16ef0a05-97fc-41b2-d14d-a694145071b4"
      },
      "execution_count": null,
      "outputs": [
        {
          "output_type": "execute_result",
          "data": {
            "text/plain": [
              "array([ 1.,  2.,  3.,  4.,  5.,  6.,  7.,  8.,  9., 10.])"
            ]
          },
          "metadata": {},
          "execution_count": 49
        }
      ]
    },
    {
      "cell_type": "code",
      "source": [
        "g = np.linspace(1,10,20)\n",
        "g"
      ],
      "metadata": {
        "colab": {
          "base_uri": "https://localhost:8080/"
        },
        "id": "MKvSENbnBd3h",
        "outputId": "d1fc28f5-d2d0-4c65-8296-c74300020e71"
      },
      "execution_count": null,
      "outputs": [
        {
          "output_type": "execute_result",
          "data": {
            "text/plain": [
              "array([ 1.        ,  1.47368421,  1.94736842,  2.42105263,  2.89473684,\n",
              "        3.36842105,  3.84210526,  4.31578947,  4.78947368,  5.26315789,\n",
              "        5.73684211,  6.21052632,  6.68421053,  7.15789474,  7.63157895,\n",
              "        8.10526316,  8.57894737,  9.05263158,  9.52631579, 10.        ])"
            ]
          },
          "metadata": {},
          "execution_count": 50
        }
      ]
    },
    {
      "cell_type": "code",
      "source": [
        "g = np.linspace(1,10,100)\n",
        "g"
      ],
      "metadata": {
        "colab": {
          "base_uri": "https://localhost:8080/"
        },
        "id": "BxUy_XlhCngh",
        "outputId": "3c65e72b-9326-4cbc-9130-40136508e51b"
      },
      "execution_count": null,
      "outputs": [
        {
          "output_type": "execute_result",
          "data": {
            "text/plain": [
              "array([ 1.        ,  1.09090909,  1.18181818,  1.27272727,  1.36363636,\n",
              "        1.45454545,  1.54545455,  1.63636364,  1.72727273,  1.81818182,\n",
              "        1.90909091,  2.        ,  2.09090909,  2.18181818,  2.27272727,\n",
              "        2.36363636,  2.45454545,  2.54545455,  2.63636364,  2.72727273,\n",
              "        2.81818182,  2.90909091,  3.        ,  3.09090909,  3.18181818,\n",
              "        3.27272727,  3.36363636,  3.45454545,  3.54545455,  3.63636364,\n",
              "        3.72727273,  3.81818182,  3.90909091,  4.        ,  4.09090909,\n",
              "        4.18181818,  4.27272727,  4.36363636,  4.45454545,  4.54545455,\n",
              "        4.63636364,  4.72727273,  4.81818182,  4.90909091,  5.        ,\n",
              "        5.09090909,  5.18181818,  5.27272727,  5.36363636,  5.45454545,\n",
              "        5.54545455,  5.63636364,  5.72727273,  5.81818182,  5.90909091,\n",
              "        6.        ,  6.09090909,  6.18181818,  6.27272727,  6.36363636,\n",
              "        6.45454545,  6.54545455,  6.63636364,  6.72727273,  6.81818182,\n",
              "        6.90909091,  7.        ,  7.09090909,  7.18181818,  7.27272727,\n",
              "        7.36363636,  7.45454545,  7.54545455,  7.63636364,  7.72727273,\n",
              "        7.81818182,  7.90909091,  8.        ,  8.09090909,  8.18181818,\n",
              "        8.27272727,  8.36363636,  8.45454545,  8.54545455,  8.63636364,\n",
              "        8.72727273,  8.81818182,  8.90909091,  9.        ,  9.09090909,\n",
              "        9.18181818,  9.27272727,  9.36363636,  9.45454545,  9.54545455,\n",
              "        9.63636364,  9.72727273,  9.81818182,  9.90909091, 10.        ])"
            ]
          },
          "metadata": {},
          "execution_count": 51
        }
      ]
    },
    {
      "cell_type": "code",
      "source": [
        "# reshape((r,c))\n",
        "# 1 D- > 2D\n",
        "# 2D - > 1D"
      ],
      "metadata": {
        "id": "HjeiDMGNCnje"
      },
      "execution_count": null,
      "outputs": []
    },
    {
      "cell_type": "code",
      "source": [
        "# 1 D- > 2D\n",
        "\n",
        "h = np.arange(1,25)\n",
        "h"
      ],
      "metadata": {
        "colab": {
          "base_uri": "https://localhost:8080/"
        },
        "id": "v80u2WlABN2J",
        "outputId": "269f361d-2ccd-47ec-f37d-6ee1c7247309"
      },
      "execution_count": null,
      "outputs": [
        {
          "output_type": "execute_result",
          "data": {
            "text/plain": [
              "array([ 1,  2,  3,  4,  5,  6,  7,  8,  9, 10, 11, 12, 13, 14, 15, 16, 17,\n",
              "       18, 19, 20, 21, 22, 23, 24])"
            ]
          },
          "metadata": {},
          "execution_count": 52
        }
      ]
    },
    {
      "cell_type": "code",
      "source": [
        "h.ndim"
      ],
      "metadata": {
        "colab": {
          "base_uri": "https://localhost:8080/"
        },
        "id": "czZiptLoDHXv",
        "outputId": "c5cb9bac-a281-43a8-94fc-22bd4c954f6a"
      },
      "execution_count": null,
      "outputs": [
        {
          "output_type": "execute_result",
          "data": {
            "text/plain": [
              "1"
            ]
          },
          "metadata": {},
          "execution_count": 53
        }
      ]
    },
    {
      "cell_type": "code",
      "source": [
        "# 1D - 2d\n",
        "hh = h.reshape((6,4))\n",
        "hh"
      ],
      "metadata": {
        "colab": {
          "base_uri": "https://localhost:8080/"
        },
        "id": "PUH-i_jVDJOo",
        "outputId": "dd10b035-d322-48fb-d263-21923f87e749"
      },
      "execution_count": null,
      "outputs": [
        {
          "output_type": "execute_result",
          "data": {
            "text/plain": [
              "array([[ 1,  2,  3,  4],\n",
              "       [ 5,  6,  7,  8],\n",
              "       [ 9, 10, 11, 12],\n",
              "       [13, 14, 15, 16],\n",
              "       [17, 18, 19, 20],\n",
              "       [21, 22, 23, 24]])"
            ]
          },
          "metadata": {},
          "execution_count": 55
        }
      ]
    },
    {
      "cell_type": "code",
      "source": [
        "hh = h.reshape((12,2))\n",
        "hh"
      ],
      "metadata": {
        "colab": {
          "base_uri": "https://localhost:8080/"
        },
        "id": "4NyvzEiXDS7p",
        "outputId": "499f2a58-02b1-4fd2-ca62-6a04665b9b27"
      },
      "execution_count": null,
      "outputs": [
        {
          "output_type": "execute_result",
          "data": {
            "text/plain": [
              "array([[ 1,  2],\n",
              "       [ 3,  4],\n",
              "       [ 5,  6],\n",
              "       [ 7,  8],\n",
              "       [ 9, 10],\n",
              "       [11, 12],\n",
              "       [13, 14],\n",
              "       [15, 16],\n",
              "       [17, 18],\n",
              "       [19, 20],\n",
              "       [21, 22],\n",
              "       [23, 24]])"
            ]
          },
          "metadata": {},
          "execution_count": 56
        }
      ]
    },
    {
      "cell_type": "code",
      "source": [
        "hh = h.reshape((2,12))\n",
        "hh"
      ],
      "metadata": {
        "colab": {
          "base_uri": "https://localhost:8080/"
        },
        "id": "2WIW5yt6Di7c",
        "outputId": "75090bb2-17ca-4440-f211-8683b5a4e822"
      },
      "execution_count": null,
      "outputs": [
        {
          "output_type": "execute_result",
          "data": {
            "text/plain": [
              "array([[ 1,  2,  3,  4,  5,  6,  7,  8,  9, 10, 11, 12],\n",
              "       [13, 14, 15, 16, 17, 18, 19, 20, 21, 22, 23, 24]])"
            ]
          },
          "metadata": {},
          "execution_count": 57
        }
      ]
    },
    {
      "cell_type": "code",
      "source": [
        "# create 1 D array with 36 number \n",
        "# arrange these 36 element in 3 different ways "
      ],
      "metadata": {
        "id": "pI5N7cXKDi-H"
      },
      "execution_count": null,
      "outputs": []
    },
    {
      "cell_type": "code",
      "source": [
        "# 2d -> 2d "
      ],
      "metadata": {
        "id": "sqkhq-ryE62P"
      },
      "execution_count": null,
      "outputs": []
    },
    {
      "cell_type": "code",
      "source": [
        "hi = np.random.randint(30,81,(6,4)).reshape(12,2)\n",
        "hi"
      ],
      "metadata": {
        "colab": {
          "base_uri": "https://localhost:8080/"
        },
        "id": "p_6pGIwEE65H",
        "outputId": "9d3bc085-dd01-4cd5-8e9e-07a070dc86c2"
      },
      "execution_count": null,
      "outputs": [
        {
          "output_type": "execute_result",
          "data": {
            "text/plain": [
              "array([[33, 76],\n",
              "       [34, 52],\n",
              "       [65, 80],\n",
              "       [52, 63],\n",
              "       [57, 57],\n",
              "       [70, 33],\n",
              "       [34, 56],\n",
              "       [53, 55],\n",
              "       [41, 48],\n",
              "       [55, 63],\n",
              "       [60, 30],\n",
              "       [36, 68]])"
            ]
          },
          "metadata": {},
          "execution_count": 59
        }
      ]
    },
    {
      "cell_type": "code",
      "source": [
        "# 2d - > 3d \n",
        "hi = np.random.randint(30,81,(6,4)).reshape(2,4,3)\n",
        "hi"
      ],
      "metadata": {
        "colab": {
          "base_uri": "https://localhost:8080/"
        },
        "id": "CoXvoFV6FPf9",
        "outputId": "446f1c9a-0ab2-4d9f-ce69-3d870ee37679"
      },
      "execution_count": null,
      "outputs": [
        {
          "output_type": "execute_result",
          "data": {
            "text/plain": [
              "array([[[53, 62, 66],\n",
              "        [34, 63, 61],\n",
              "        [38, 45, 60],\n",
              "        [55, 43, 38]],\n",
              "\n",
              "       [[52, 35, 57],\n",
              "        [44, 38, 48],\n",
              "        [58, 79, 55],\n",
              "        [61, 63, 68]]])"
            ]
          },
          "metadata": {},
          "execution_count": 60
        }
      ]
    },
    {
      "cell_type": "code",
      "source": [
        "# 2d - > 1d\n",
        "# flatten() :'C' \n",
        "k = np.random.randint(30,81,(6,4))\n",
        "k"
      ],
      "metadata": {
        "colab": {
          "base_uri": "https://localhost:8080/"
        },
        "id": "Xcgnci7FFHO7",
        "outputId": "96ac493a-df95-4cbd-d7d4-578f44a5b144"
      },
      "execution_count": null,
      "outputs": [
        {
          "output_type": "execute_result",
          "data": {
            "text/plain": [
              "array([[72, 34, 66, 35],\n",
              "       [57, 47, 35, 53],\n",
              "       [32, 48, 65, 44],\n",
              "       [62, 61, 42, 76],\n",
              "       [39, 67, 61, 80],\n",
              "       [76, 69, 34, 60]])"
            ]
          },
          "metadata": {},
          "execution_count": 61
        }
      ]
    },
    {
      "cell_type": "code",
      "source": [
        "k.flatten()"
      ],
      "metadata": {
        "colab": {
          "base_uri": "https://localhost:8080/"
        },
        "id": "-jA-9qvjFoxu",
        "outputId": "191d07a4-7245-4b79-c825-f4ab2ea4ce0e"
      },
      "execution_count": null,
      "outputs": [
        {
          "output_type": "execute_result",
          "data": {
            "text/plain": [
              "array([72, 34, 66, 35, 57, 47, 35, 53, 32, 48, 65, 44, 62, 61, 42, 76, 39,\n",
              "       67, 61, 80, 76, 69, 34, 60])"
            ]
          },
          "metadata": {},
          "execution_count": 62
        }
      ]
    },
    {
      "cell_type": "code",
      "source": [
        "# flatten() :'F' column major"
      ],
      "metadata": {
        "id": "-kgle4jAFo08"
      },
      "execution_count": null,
      "outputs": []
    },
    {
      "cell_type": "code",
      "source": [
        "k.flatten('F')"
      ],
      "metadata": {
        "colab": {
          "base_uri": "https://localhost:8080/"
        },
        "id": "WQxLByG5FnYr",
        "outputId": "a69c34f1-ab28-404e-c838-d9982d4419db"
      },
      "execution_count": null,
      "outputs": [
        {
          "output_type": "execute_result",
          "data": {
            "text/plain": [
              "array([72, 57, 32, 62, 39, 76, 34, 47, 48, 61, 67, 69, 66, 35, 65, 42, 61,\n",
              "       34, 35, 53, 44, 76, 80, 60])"
            ]
          },
          "metadata": {},
          "execution_count": 63
        }
      ]
    },
    {
      "cell_type": "markdown",
      "source": [
        "## **Math opeartion**"
      ],
      "metadata": {
        "id": "Z8i5TGBzGOTL"
      }
    },
    {
      "cell_type": "code",
      "source": [
        "# np.add(a1,a2)\n",
        "a1= np.array([2,3,5,6,7,8])\n",
        "a2 = np.array([7,6,5,4,3,1])\n",
        "np.add(a1,a2)"
      ],
      "metadata": {
        "colab": {
          "base_uri": "https://localhost:8080/"
        },
        "id": "nV9Ua6MVGCwX",
        "outputId": "ec7f54cd-17a4-4b37-c194-cf504f43d99b"
      },
      "execution_count": null,
      "outputs": [
        {
          "output_type": "execute_result",
          "data": {
            "text/plain": [
              "array([ 9,  9, 10, 10, 10,  9])"
            ]
          },
          "metadata": {},
          "execution_count": 64
        }
      ]
    },
    {
      "cell_type": "code",
      "source": [
        "a1+a2"
      ],
      "metadata": {
        "colab": {
          "base_uri": "https://localhost:8080/"
        },
        "id": "xNlatA3HGjKV",
        "outputId": "825740e8-916c-4941-bc82-d737195a45ff"
      },
      "execution_count": null,
      "outputs": [
        {
          "output_type": "execute_result",
          "data": {
            "text/plain": [
              "array([ 9,  9, 10, 10, 10,  9])"
            ]
          },
          "metadata": {},
          "execution_count": 65
        }
      ]
    },
    {
      "cell_type": "code",
      "source": [
        "# np.subtract(a1 ,a2 )\n",
        "# -\n",
        "\n",
        "# npmultiply(a1,a2)\n",
        "# *\n",
        "\n",
        "\n",
        "# np.divide(a1,a2)\n",
        "# /\n",
        "\n",
        "# np.power(a1,a2)\n",
        "# **\n",
        "\n",
        "# np.reminder(a1,a2)\n",
        "# %"
      ],
      "metadata": {
        "id": "uDwGdaVEGoSr"
      },
      "execution_count": null,
      "outputs": []
    },
    {
      "cell_type": "code",
      "source": [
        "# transpose \n",
        "a = np.arange(1,25).reshape(6,4)\n",
        "a"
      ],
      "metadata": {
        "colab": {
          "base_uri": "https://localhost:8080/"
        },
        "id": "BsWTG0OIHJXJ",
        "outputId": "48067260-c9d5-4686-b61a-cc3910701d53"
      },
      "execution_count": null,
      "outputs": [
        {
          "output_type": "execute_result",
          "data": {
            "text/plain": [
              "array([[ 1,  2,  3,  4],\n",
              "       [ 5,  6,  7,  8],\n",
              "       [ 9, 10, 11, 12],\n",
              "       [13, 14, 15, 16],\n",
              "       [17, 18, 19, 20],\n",
              "       [21, 22, 23, 24]])"
            ]
          },
          "metadata": {},
          "execution_count": 67
        }
      ]
    },
    {
      "cell_type": "code",
      "source": [
        "a.T"
      ],
      "metadata": {
        "colab": {
          "base_uri": "https://localhost:8080/"
        },
        "id": "2GxNV5wvHR26",
        "outputId": "ae6f4d4e-c57d-4b3c-becb-b053eabbb26d"
      },
      "execution_count": null,
      "outputs": [
        {
          "output_type": "execute_result",
          "data": {
            "text/plain": [
              "array([[ 1,  5,  9, 13, 17, 21],\n",
              "       [ 2,  6, 10, 14, 18, 22],\n",
              "       [ 3,  7, 11, 15, 19, 23],\n",
              "       [ 4,  8, 12, 16, 20, 24]])"
            ]
          },
          "metadata": {},
          "execution_count": 68
        }
      ]
    },
    {
      "cell_type": "code",
      "source": [
        "a.T.T"
      ],
      "metadata": {
        "colab": {
          "base_uri": "https://localhost:8080/"
        },
        "id": "1V76Ubv8HelX",
        "outputId": "aca5941a-277a-4b92-ead2-67aee3ebf609"
      },
      "execution_count": null,
      "outputs": [
        {
          "output_type": "execute_result",
          "data": {
            "text/plain": [
              "array([[ 1,  2,  3,  4],\n",
              "       [ 5,  6,  7,  8],\n",
              "       [ 9, 10, 11, 12],\n",
              "       [13, 14, 15, 16],\n",
              "       [17, 18, 19, 20],\n",
              "       [21, 22, 23, 24]])"
            ]
          },
          "metadata": {},
          "execution_count": 69
        }
      ]
    },
    {
      "cell_type": "code",
      "source": [
        "# max() \n",
        "# type1  : as on entire matix \n",
        "# type 2 : as row wise (axis =1)\n",
        "# type 3 : as row wise (axis =0)\n",
        "c= np.random.randint(10,99,(6,4))\n",
        "c"
      ],
      "metadata": {
        "colab": {
          "base_uri": "https://localhost:8080/"
        },
        "id": "Mje6Dct-Heu5",
        "outputId": "ff777d73-2fea-498e-e7f4-77a485a3cf22"
      },
      "execution_count": null,
      "outputs": [
        {
          "output_type": "execute_result",
          "data": {
            "text/plain": [
              "array([[28, 86, 30, 37],\n",
              "       [58, 34, 97, 38],\n",
              "       [69, 31, 48, 74],\n",
              "       [56, 28, 75, 93],\n",
              "       [67, 42, 86, 45],\n",
              "       [85, 92, 27, 12]])"
            ]
          },
          "metadata": {},
          "execution_count": 73
        }
      ]
    },
    {
      "cell_type": "code",
      "source": [
        "# on entire matrix\n",
        "c.max()"
      ],
      "metadata": {
        "colab": {
          "base_uri": "https://localhost:8080/"
        },
        "id": "ULjj2lrFHaC3",
        "outputId": "50338d2b-ec13-4558-e623-69cdb7a32bdc"
      },
      "execution_count": null,
      "outputs": [
        {
          "output_type": "execute_result",
          "data": {
            "text/plain": [
              "97"
            ]
          },
          "metadata": {},
          "execution_count": 74
        }
      ]
    },
    {
      "cell_type": "code",
      "source": [
        "# row wise\n",
        "c.max(axis =1)"
      ],
      "metadata": {
        "colab": {
          "base_uri": "https://localhost:8080/"
        },
        "id": "anS6E9PVIDmg",
        "outputId": "dabea512-fddb-48a4-f5e4-4acce654d424"
      },
      "execution_count": null,
      "outputs": [
        {
          "output_type": "execute_result",
          "data": {
            "text/plain": [
              "array([86, 97, 74, 93, 86, 92])"
            ]
          },
          "metadata": {},
          "execution_count": 75
        }
      ]
    },
    {
      "cell_type": "code",
      "source": [
        "# col wise\n",
        "c.max(axis =0)"
      ],
      "metadata": {
        "colab": {
          "base_uri": "https://localhost:8080/"
        },
        "id": "LCiQRHgJINar",
        "outputId": "44613735-547a-4a98-c2b1-bc934eba80cd"
      },
      "execution_count": null,
      "outputs": [
        {
          "output_type": "execute_result",
          "data": {
            "text/plain": [
              "array([85, 92, 97, 93])"
            ]
          },
          "metadata": {},
          "execution_count": 76
        }
      ]
    },
    {
      "cell_type": "code",
      "source": [
        "# assignment : min()\n",
        "# assignment : sum()\n"
      ],
      "metadata": {
        "id": "psIsjOohIUGM"
      },
      "execution_count": null,
      "outputs": []
    },
    {
      "cell_type": "code",
      "source": [
        "c"
      ],
      "metadata": {
        "colab": {
          "base_uri": "https://localhost:8080/"
        },
        "id": "D3igh_5hIg9I",
        "outputId": "77773cb8-aa95-46b1-a56c-6e65513406a5"
      },
      "execution_count": null,
      "outputs": [
        {
          "output_type": "execute_result",
          "data": {
            "text/plain": [
              "array([[28, 86, 30, 37],\n",
              "       [58, 34, 97, 38],\n",
              "       [69, 31, 48, 74],\n",
              "       [56, 28, 75, 93],\n",
              "       [67, 42, 86, 45],\n",
              "       [85, 92, 27, 12]])"
            ]
          },
          "metadata": {},
          "execution_count": 77
        }
      ]
    },
    {
      "cell_type": "code",
      "source": [
        "# sorting\n",
        "np.sort(c , axis = None)"
      ],
      "metadata": {
        "colab": {
          "base_uri": "https://localhost:8080/"
        },
        "id": "XD85LY10IhAU",
        "outputId": "94cb57f2-8cd2-48e7-dc99-1b0c4fc92821"
      },
      "execution_count": null,
      "outputs": [
        {
          "output_type": "execute_result",
          "data": {
            "text/plain": [
              "array([12, 27, 28, 28, 30, 31, 34, 37, 38, 42, 45, 48, 56, 58, 67, 69, 74,\n",
              "       75, 85, 86, 86, 92, 93, 97])"
            ]
          },
          "metadata": {},
          "execution_count": 78
        }
      ]
    },
    {
      "cell_type": "code",
      "source": [
        "# row sorting\n",
        "np.sort(c , axis = 1)"
      ],
      "metadata": {
        "colab": {
          "base_uri": "https://localhost:8080/"
        },
        "id": "OXtAwYgdIoIi",
        "outputId": "399f0273-0d45-4a92-d36f-36b83f44e9fe"
      },
      "execution_count": null,
      "outputs": [
        {
          "output_type": "execute_result",
          "data": {
            "text/plain": [
              "array([[28, 30, 37, 86],\n",
              "       [34, 38, 58, 97],\n",
              "       [31, 48, 69, 74],\n",
              "       [28, 56, 75, 93],\n",
              "       [42, 45, 67, 86],\n",
              "       [12, 27, 85, 92]])"
            ]
          },
          "metadata": {},
          "execution_count": 79
        }
      ]
    },
    {
      "cell_type": "code",
      "source": [
        "# col sorting\n",
        "np.sort(c , axis = 0)"
      ],
      "metadata": {
        "colab": {
          "base_uri": "https://localhost:8080/"
        },
        "id": "6gUqTgHZIx9_",
        "outputId": "5f06c653-0453-45d4-e30f-2fb08fe2b43a"
      },
      "execution_count": null,
      "outputs": [
        {
          "output_type": "execute_result",
          "data": {
            "text/plain": [
              "array([[28, 28, 27, 12],\n",
              "       [56, 31, 30, 37],\n",
              "       [58, 34, 48, 38],\n",
              "       [67, 42, 75, 45],\n",
              "       [69, 86, 86, 74],\n",
              "       [85, 92, 97, 93]])"
            ]
          },
          "metadata": {},
          "execution_count": 80
        }
      ]
    },
    {
      "cell_type": "markdown",
      "source": [
        "## **Numpy function for sats**"
      ],
      "metadata": {
        "id": "y__Z7_mDPfPl"
      }
    },
    {
      "cell_type": "code",
      "source": [
        "# np.mean()\n",
        "# np.median() #==== too much time\n",
        "# np.std()\n",
        "# np.var()"
      ],
      "metadata": {
        "id": "-PmoaqTLPee-"
      },
      "execution_count": null,
      "outputs": []
    },
    {
      "cell_type": "code",
      "source": [
        "data1=np.array([600,470,170,430,300])"
      ],
      "metadata": {
        "id": "eXoiabDGQlWS"
      },
      "execution_count": null,
      "outputs": []
    },
    {
      "cell_type": "code",
      "source": [
        "np.mean(data1)"
      ],
      "metadata": {
        "colab": {
          "base_uri": "https://localhost:8080/"
        },
        "id": "5IdpfQQ8Qlfq",
        "outputId": "b39ce998-03a9-4c15-ecb2-fe3bf94fcc88"
      },
      "execution_count": null,
      "outputs": [
        {
          "output_type": "execute_result",
          "data": {
            "text/plain": [
              "394.0"
            ]
          },
          "metadata": {},
          "execution_count": 82
        }
      ]
    },
    {
      "cell_type": "code",
      "source": [
        "np.std(data1)"
      ],
      "metadata": {
        "colab": {
          "base_uri": "https://localhost:8080/"
        },
        "id": "QJskt7LqSrKy",
        "outputId": "7c1ef1f5-e52b-4270-f5d1-a102d85abf3d"
      },
      "execution_count": null,
      "outputs": [
        {
          "output_type": "execute_result",
          "data": {
            "text/plain": [
              "147.32277488562318"
            ]
          },
          "metadata": {},
          "execution_count": 83
        }
      ]
    },
    {
      "cell_type": "code",
      "source": [
        "np.var(data1)"
      ],
      "metadata": {
        "colab": {
          "base_uri": "https://localhost:8080/"
        },
        "id": "Nr2BYVn3Qljf",
        "outputId": "20c19f7d-efed-4838-997e-bd030bbc2fff"
      },
      "execution_count": null,
      "outputs": [
        {
          "output_type": "execute_result",
          "data": {
            "text/plain": [
              "21704.0"
            ]
          },
          "metadata": {},
          "execution_count": 84
        }
      ]
    },
    {
      "cell_type": "markdown",
      "source": [
        "## **Array slicing**"
      ],
      "metadata": {
        "id": "hlXKEHXSTZKE"
      }
    },
    {
      "cell_type": "code",
      "source": [
        "a = np.random.randint(20,40,(6,7))\n",
        "a"
      ],
      "metadata": {
        "colab": {
          "base_uri": "https://localhost:8080/"
        },
        "id": "2tEenEEgTYhX",
        "outputId": "8f00544f-4220-4ed4-971d-37cb71f3d028"
      },
      "execution_count": null,
      "outputs": [
        {
          "output_type": "execute_result",
          "data": {
            "text/plain": [
              "array([[29, 23, 22, 25, 20, 22, 22],\n",
              "       [27, 32, 24, 22, 25, 22, 38],\n",
              "       [36, 21, 20, 27, 31, 38, 32],\n",
              "       [30, 25, 25, 27, 20, 26, 31],\n",
              "       [31, 29, 28, 35, 25, 38, 25],\n",
              "       [33, 39, 27, 39, 22, 20, 27]])"
            ]
          },
          "metadata": {},
          "execution_count": 85
        }
      ]
    },
    {
      "cell_type": "code",
      "source": [
        "a[1:5,2:6]"
      ],
      "metadata": {
        "colab": {
          "base_uri": "https://localhost:8080/"
        },
        "id": "e9GWZvWfV2Pn",
        "outputId": "2cbcaa9f-0cf5-432f-979f-cb47169fd002"
      },
      "execution_count": null,
      "outputs": [
        {
          "output_type": "execute_result",
          "data": {
            "text/plain": [
              "array([[24, 22, 25, 22],\n",
              "       [20, 27, 31, 38],\n",
              "       [25, 27, 20, 26],\n",
              "       [28, 35, 25, 38]])"
            ]
          },
          "metadata": {},
          "execution_count": 94
        }
      ]
    },
    {
      "cell_type": "code",
      "source": [
        "a[5::,3:4:]"
      ],
      "metadata": {
        "colab": {
          "base_uri": "https://localhost:8080/"
        },
        "id": "wFBBUPipVBLc",
        "outputId": "894b3ec9-12d8-4e60-9579-ad0f6c66a698"
      },
      "execution_count": null,
      "outputs": [
        {
          "output_type": "execute_result",
          "data": {
            "text/plain": [
              "array([[39]])"
            ]
          },
          "metadata": {},
          "execution_count": 92
        }
      ]
    },
    {
      "cell_type": "code",
      "source": [
        "a[5,3]"
      ],
      "metadata": {
        "colab": {
          "base_uri": "https://localhost:8080/"
        },
        "id": "2LFc2m2LVrZs",
        "outputId": "ae7e3cbe-a2a2-4145-98f7-e6a1bd22eb59"
      },
      "execution_count": null,
      "outputs": [
        {
          "output_type": "execute_result",
          "data": {
            "text/plain": [
              "39"
            ]
          },
          "metadata": {},
          "execution_count": 93
        }
      ]
    },
    {
      "cell_type": "code",
      "source": [
        "a[::2,::2]"
      ],
      "metadata": {
        "colab": {
          "base_uri": "https://localhost:8080/"
        },
        "id": "jMiQBTHAUkgK",
        "outputId": "31af9d62-d682-4e8e-fc4f-f24fc2514801"
      },
      "execution_count": null,
      "outputs": [
        {
          "output_type": "execute_result",
          "data": {
            "text/plain": [
              "array([[29, 22, 20, 22],\n",
              "       [36, 20, 31, 32],\n",
              "       [31, 28, 25, 25]])"
            ]
          },
          "metadata": {},
          "execution_count": 88
        }
      ]
    },
    {
      "cell_type": "code",
      "source": [
        "a[::2,::]"
      ],
      "metadata": {
        "colab": {
          "base_uri": "https://localhost:8080/"
        },
        "id": "nS6-a0tlUUGu",
        "outputId": "6f87b920-663d-4650-a2f0-50dfb555f0cf"
      },
      "execution_count": null,
      "outputs": [
        {
          "output_type": "execute_result",
          "data": {
            "text/plain": [
              "array([[29, 23, 22, 25, 20, 22, 22],\n",
              "       [36, 21, 20, 27, 31, 38, 32],\n",
              "       [31, 29, 28, 35, 25, 38, 25]])"
            ]
          },
          "metadata": {},
          "execution_count": 87
        }
      ]
    },
    {
      "cell_type": "code",
      "source": [
        "a[::,::]"
      ],
      "metadata": {
        "colab": {
          "base_uri": "https://localhost:8080/"
        },
        "id": "6uAE4potUOg0",
        "outputId": "eefd6322-446f-44dc-ebd5-1dd42ec3f130"
      },
      "execution_count": null,
      "outputs": [
        {
          "output_type": "execute_result",
          "data": {
            "text/plain": [
              "array([[29, 23, 22, 25, 20, 22, 22],\n",
              "       [27, 32, 24, 22, 25, 22, 38],\n",
              "       [36, 21, 20, 27, 31, 38, 32],\n",
              "       [30, 25, 25, 27, 20, 26, 31],\n",
              "       [31, 29, 28, 35, 25, 38, 25],\n",
              "       [33, 39, 27, 39, 22, 20, 27]])"
            ]
          },
          "metadata": {},
          "execution_count": 86
        }
      ]
    },
    {
      "cell_type": "code",
      "source": [
        "# syntax \n",
        "# arry-var[row start:row end :row step , col start:col end : col step ]"
      ],
      "metadata": {
        "id": "PP4Xd9sOTYkH"
      },
      "execution_count": null,
      "outputs": []
    },
    {
      "cell_type": "markdown",
      "source": [
        "## **Matrix Mul**"
      ],
      "metadata": {
        "id": "pJdDdYlvWShO"
      }
    },
    {
      "cell_type": "code",
      "source": [
        "# dot product():\n",
        "# r1 x c1   r2 x c2\n",
        "# so the condition c1 == r2\n",
        "# url : https://www.mathsisfun.com/algebra/matrix-multiplying.html"
      ],
      "metadata": {
        "id": "_O5T_t9KWRTp"
      },
      "execution_count": null,
      "outputs": []
    },
    {
      "cell_type": "code",
      "source": [
        "m1 = np.array([[1,2,3],[4,5,6]])\n",
        "m2 = np.array([[7,8],[9,10],[11,12]])"
      ],
      "metadata": {
        "id": "7VRkCSYnULWK"
      },
      "execution_count": null,
      "outputs": []
    },
    {
      "cell_type": "code",
      "source": [
        "m1"
      ],
      "metadata": {
        "colab": {
          "base_uri": "https://localhost:8080/"
        },
        "id": "Shii8KB0ULlY",
        "outputId": "a29c8f75-5a8b-4048-a7e0-fe91b4639ba7"
      },
      "execution_count": null,
      "outputs": [
        {
          "output_type": "execute_result",
          "data": {
            "text/plain": [
              "array([[1, 2, 3],\n",
              "       [4, 5, 6]])"
            ]
          },
          "metadata": {},
          "execution_count": 96
        }
      ]
    },
    {
      "cell_type": "code",
      "source": [
        "m2"
      ],
      "metadata": {
        "colab": {
          "base_uri": "https://localhost:8080/"
        },
        "id": "dkjTgXPePeh4",
        "outputId": "37afb773-064d-4e44-b349-baf12c464371"
      },
      "execution_count": null,
      "outputs": [
        {
          "output_type": "execute_result",
          "data": {
            "text/plain": [
              "array([[ 7,  8],\n",
              "       [ 9, 10],\n",
              "       [11, 12]])"
            ]
          },
          "metadata": {},
          "execution_count": 97
        }
      ]
    },
    {
      "cell_type": "code",
      "source": [
        "m1.dot(m2)"
      ],
      "metadata": {
        "colab": {
          "base_uri": "https://localhost:8080/"
        },
        "id": "UNHes02qI0BM",
        "outputId": "b9107093-dd5d-4918-8f7b-9aae0a4fbc76"
      },
      "execution_count": null,
      "outputs": [
        {
          "output_type": "execute_result",
          "data": {
            "text/plain": [
              "array([[ 58,  64],\n",
              "       [139, 154]])"
            ]
          },
          "metadata": {},
          "execution_count": 99
        }
      ]
    },
    {
      "cell_type": "code",
      "source": [],
      "metadata": {
        "id": "lOxyPlkbXVxg"
      },
      "execution_count": null,
      "outputs": []
    }
  ]
}