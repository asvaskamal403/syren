{
  "nbformat": 4,
  "nbformat_minor": 0,
  "metadata": {
    "colab": {
      "private_outputs": true,
      "provenance": [],
      "include_colab_link": true
    },
    "kernelspec": {
      "name": "python3",
      "display_name": "Python 3"
    },
    "language_info": {
      "name": "python"
    },
    "accelerator": "TPU",
    "gpuClass": "standard"
  },
  "cells": [
    {
      "cell_type": "markdown",
      "metadata": {
        "id": "view-in-github",
        "colab_type": "text"
      },
      "source": [
        "<a href=\"https://colab.research.google.com/github/asvaskamal403/python/blob/kamal/pandas.ipynb\" target=\"_parent\"><img src=\"https://colab.research.google.com/assets/colab-badge.svg\" alt=\"Open In Colab\"/></a>"
      ]
    },
    {
      "cell_type": "code",
      "execution_count": null,
      "metadata": {
        "id": "4AiNo2_QWOa5"
      },
      "outputs": [],
      "source": [
        "import numpy as np"
      ]
    },
    {
      "cell_type": "code",
      "source": [
        "import pandas as pd "
      ],
      "metadata": {
        "id": "NjRQGtKHZild"
      },
      "execution_count": null,
      "outputs": []
    },
    {
      "cell_type": "code",
      "source": [
        "pd.__version__"
      ],
      "metadata": {
        "id": "XckmMwk6Zm9d"
      },
      "execution_count": null,
      "outputs": []
    },
    {
      "cell_type": "code",
      "source": [
        "# Important\n",
        "# How to upload dataset on colab\n",
        "# 1. for session\n",
        "# click on folder icon , click on up arrow\n",
        "# browse your file , upload your file for session\n",
        "# 2. Permanantly\n",
        "#  \n",
        "#"
      ],
      "metadata": {
        "id": "v8J2xIwdZqDh"
      },
      "execution_count": null,
      "outputs": []
    },
    {
      "cell_type": "code",
      "source": [
        "#/content/drive/MyDrive/Syren Tech/3.Pandas/all-csv-data-frames/diabetes.csv\n",
        "#/content/drive/MyDrive/==folder path===/diabetes.csv"
      ],
      "metadata": {
        "id": "61fYG9WDalEG"
      },
      "execution_count": null,
      "outputs": []
    },
    {
      "cell_type": "code",
      "source": [
        "# we can read the file folder \n",
        "# create dataframe variable\n",
        "df = pd.read_csv('diabetes.csv')"
      ],
      "metadata": {
        "id": "6khlpWjualMb"
      },
      "execution_count": null,
      "outputs": []
    },
    {
      "cell_type": "code",
      "source": [
        "df.head()"
      ],
      "metadata": {
        "id": "wM5WvKTjb7g8"
      },
      "execution_count": null,
      "outputs": []
    },
    {
      "cell_type": "code",
      "source": [
        "df"
      ],
      "metadata": {
        "id": "yUnhlgjGih5v"
      },
      "execution_count": null,
      "outputs": []
    },
    {
      "cell_type": "code",
      "source": [
        "df1 = pd.read_csv('/content/drive/MyDrive/Syren Tech/3.Pandas/all-csv-data-frames/diabetes.csv')\n"
      ],
      "metadata": {
        "id": "hUwR13WxblAL"
      },
      "execution_count": null,
      "outputs": []
    },
    {
      "cell_type": "code",
      "source": [
        "df1.head()"
      ],
      "metadata": {
        "id": "SPP5CdlPcCXp"
      },
      "execution_count": null,
      "outputs": []
    },
    {
      "cell_type": "code",
      "source": [
        "# we can read the file from repo.\n",
        "# uci machine learning\n",
        "\n",
        "iris = pd.read_csv('https://archive.ics.uci.edu/ml/machine-learning-databases/iris/iris.data', header = None)\n",
        "iris.head()"
      ],
      "metadata": {
        "id": "m7waX5oHblEi"
      },
      "execution_count": null,
      "outputs": []
    },
    {
      "cell_type": "code",
      "source": [
        "# create a list for column\n",
        "col = ['sepal length','sepal width','petal length','petal width','class']"
      ],
      "metadata": {
        "id": "YCH_-uPhdjZJ"
      },
      "execution_count": null,
      "outputs": []
    },
    {
      "cell_type": "code",
      "source": [
        "# apply this column name list to my dataframe\n",
        "iris.columns=col"
      ],
      "metadata": {
        "id": "VWQc1ZQceHWu"
      },
      "execution_count": null,
      "outputs": []
    },
    {
      "cell_type": "code",
      "source": [
        "iris.head()"
      ],
      "metadata": {
        "id": "GbQu0gjweRQu"
      },
      "execution_count": null,
      "outputs": []
    },
    {
      "cell_type": "code",
      "source": [
        "# create your owen dataframe\n",
        "# pd.DataFrame({})\n",
        "student = pd.DataFrame({'Name':['Q','W','T'], 'Grades':[56,34,21]})"
      ],
      "metadata": {
        "id": "WhhRVnqEgTRb"
      },
      "execution_count": null,
      "outputs": []
    },
    {
      "cell_type": "code",
      "source": [
        "student"
      ],
      "metadata": {
        "id": "67U_AEz6gtai"
      },
      "execution_count": null,
      "outputs": []
    },
    {
      "cell_type": "code",
      "source": [
        "# generate marks(0-100) grades(75-100) for 1000 studenst\n",
        "marks = np.random.randint(0,101,1000)"
      ],
      "metadata": {
        "id": "cjOEiO3AgtdU"
      },
      "execution_count": null,
      "outputs": []
    },
    {
      "cell_type": "code",
      "source": [
        "grade = np.random.randint(75,101,1000)"
      ],
      "metadata": {
        "id": "Nq_K-A6Fgtfu"
      },
      "execution_count": null,
      "outputs": []
    },
    {
      "cell_type": "code",
      "source": [
        "stu = pd.DataFrame({'grade':grade, 'marks':marks})"
      ],
      "metadata": {
        "id": "_5fQ7qw6hTE6"
      },
      "execution_count": null,
      "outputs": []
    },
    {
      "cell_type": "code",
      "source": [
        "stu"
      ],
      "metadata": {
        "id": "AyWLr_NuhTHw"
      },
      "execution_count": null,
      "outputs": []
    },
    {
      "cell_type": "markdown",
      "source": [
        "## **Pandas Important function and attributes**"
      ],
      "metadata": {
        "id": "9wlLN4nUgMhf"
      }
    },
    {
      "cell_type": "code",
      "source": [
        "# df.head() : this function used to print first 5 rows of given dataset\n",
        "df.head()"
      ],
      "metadata": {
        "id": "mqXAMLcteS9I"
      },
      "execution_count": null,
      "outputs": []
    },
    {
      "cell_type": "code",
      "source": [
        "df.head(8)"
      ],
      "metadata": {
        "id": "Du-CjbhXhwMI"
      },
      "execution_count": null,
      "outputs": []
    },
    {
      "cell_type": "code",
      "source": [
        "#2.tail() : bottom five records\n",
        "df.tail()"
      ],
      "metadata": {
        "id": "QcQTXuveh2VV"
      },
      "execution_count": null,
      "outputs": []
    },
    {
      "cell_type": "code",
      "source": [
        "df.tail(12)"
      ],
      "metadata": {
        "id": "-OiWumGTiFuX"
      },
      "execution_count": null,
      "outputs": []
    },
    {
      "cell_type": "code",
      "source": [
        "# shape attribute \n",
        "df.shape"
      ],
      "metadata": {
        "id": "J499-3CviIDW"
      },
      "execution_count": null,
      "outputs": []
    },
    {
      "cell_type": "code",
      "source": [
        "# dtypes: dtypes is used to display the the type of given data set\n",
        "df.dtypes"
      ],
      "metadata": {
        "id": "yS2wXLXLiceK"
      },
      "execution_count": null,
      "outputs": []
    },
    {
      "cell_type": "code",
      "source": [
        "nba = pd.read_csv('nba.csv')"
      ],
      "metadata": {
        "id": "pumSrqS0iyly"
      },
      "execution_count": null,
      "outputs": []
    },
    {
      "cell_type": "code",
      "source": [
        "nba.dtypes"
      ],
      "metadata": {
        "id": "GE53Dxj5jNfu"
      },
      "execution_count": null,
      "outputs": []
    },
    {
      "cell_type": "code",
      "source": [
        "nba.head(10)"
      ],
      "metadata": {
        "id": "NpWEh_0hjWOv"
      },
      "execution_count": null,
      "outputs": []
    },
    {
      "cell_type": "code",
      "source": [
        "# assignment : astype()"
      ],
      "metadata": {
        "id": "rfqqvMsojRNL"
      },
      "execution_count": null,
      "outputs": []
    },
    {
      "cell_type": "code",
      "source": [
        "# info()\n",
        "nba.info()"
      ],
      "metadata": {
        "id": "5fTitJ_Fj8Sq"
      },
      "execution_count": null,
      "outputs": []
    },
    {
      "cell_type": "code",
      "source": [
        "# i want  to check with the null values\n",
        "# how do i display total null count \n",
        "# isnull() : this will return true / false \n",
        "nba.isnull()"
      ],
      "metadata": {
        "id": "lKwKkO-Hj8V5"
      },
      "execution_count": null,
      "outputs": []
    },
    {
      "cell_type": "code",
      "source": [
        "nba.isnull().sum()"
      ],
      "metadata": {
        "id": "QEoPRZv5l0KR"
      },
      "execution_count": null,
      "outputs": []
    },
    {
      "cell_type": "code",
      "source": [
        "# % of null count\n",
        "round(nba.isnull().sum())*100/len(nba) "
      ],
      "metadata": {
        "id": "v_rgM-PumX3k"
      },
      "execution_count": null,
      "outputs": []
    },
    {
      "cell_type": "code",
      "source": [
        "# give  null count of each column in dia. dataset"
      ],
      "metadata": {
        "id": "-dPvUJu0l5ul"
      },
      "execution_count": null,
      "outputs": []
    },
    {
      "cell_type": "code",
      "source": [
        "# describe() : this is funct. is useful to show some stats information\n",
        "df.describe()"
      ],
      "metadata": {
        "id": "Iv4n4qdIl53Z"
      },
      "execution_count": null,
      "outputs": []
    },
    {
      "cell_type": "markdown",
      "source": [],
      "metadata": {
        "id": "fHdFuuyUndWw"
      }
    },
    {
      "cell_type": "markdown",
      "source": [
        "## **Handling the dataframe column**"
      ],
      "metadata": {
        "id": "O1tlDEp1ndZg"
      }
    },
    {
      "cell_type": "code",
      "source": [
        "# one column\n",
        "df.Age"
      ],
      "metadata": {
        "id": "MtyoiXh6nb6d"
      },
      "execution_count": null,
      "outputs": []
    },
    {
      "cell_type": "code",
      "source": [
        "type(df.Age)"
      ],
      "metadata": {
        "id": "958AKMtinsrY"
      },
      "execution_count": null,
      "outputs": []
    },
    {
      "cell_type": "code",
      "source": [
        "# one column\n",
        "df['Age'] #  follow this approach when column name looks like df['Blood Pressure']"
      ],
      "metadata": {
        "id": "1KI6-eS4nb9m"
      },
      "execution_count": null,
      "outputs": []
    },
    {
      "cell_type": "code",
      "source": [
        "df[['Age']]"
      ],
      "metadata": {
        "id": "RxTJUrFzoQXo"
      },
      "execution_count": null,
      "outputs": []
    },
    {
      "cell_type": "code",
      "source": [
        "type(df[['Age']])"
      ],
      "metadata": {
        "id": "Q4e_NGHGoZBB"
      },
      "execution_count": null,
      "outputs": []
    },
    {
      "cell_type": "code",
      "source": [
        "# multiple column\n",
        "df[['BloodPressure', 'SkinThickness']].head(7)"
      ],
      "metadata": {
        "id": "UwmEtrQspD_k"
      },
      "execution_count": null,
      "outputs": []
    },
    {
      "cell_type": "code",
      "source": [
        "df_1 = df[['BloodPressure', 'SkinThickness']].head(7)"
      ],
      "metadata": {
        "id": "qc3IWmI7pKe9"
      },
      "execution_count": null,
      "outputs": []
    },
    {
      "cell_type": "code",
      "source": [
        "df_1.shape"
      ],
      "metadata": {
        "id": "58ClZsBYpECc"
      },
      "execution_count": null,
      "outputs": []
    },
    {
      "cell_type": "code",
      "source": [],
      "metadata": {
        "id": "mUdoiNXupEFI"
      },
      "execution_count": null,
      "outputs": []
    },
    {
      "cell_type": "code",
      "source": [
        "# from the given data frame how i create new datafram with selected column\n",
        "df.columns"
      ],
      "metadata": {
        "id": "63UrxCO4ncA7"
      },
      "execution_count": null,
      "outputs": []
    },
    {
      "cell_type": "code",
      "source": [
        "df_new = df[['BloodPressure', 'SkinThickness', 'Insulin', 'BMI']]"
      ],
      "metadata": {
        "id": "j0zNwv3Rj8aE"
      },
      "execution_count": null,
      "outputs": []
    },
    {
      "cell_type": "code",
      "source": [
        "df_new.head()"
      ],
      "metadata": {
        "id": "phu6ktPBosS_"
      },
      "execution_count": null,
      "outputs": []
    },
    {
      "cell_type": "code",
      "source": [
        "# Assignment :using nba dataset collect all those which belong to object datatype in new dataframe "
      ],
      "metadata": {
        "id": "cGn8eFV9ouH1"
      },
      "execution_count": null,
      "outputs": []
    },
    {
      "cell_type": "code",
      "source": [
        "# Getting Sum\n",
        "# row sum \n",
        "# df.sum (axis = 1)\n",
        "df.sum(axis=1)"
      ],
      "metadata": {
        "id": "6RxtywAXpTqL"
      },
      "execution_count": null,
      "outputs": []
    },
    {
      "cell_type": "code",
      "source": [
        "# col sum \n",
        "# df.sum (axis = 0)\n",
        "df.sum(axis=0)"
      ],
      "metadata": {
        "id": "Tkw3arNapTtS"
      },
      "execution_count": null,
      "outputs": []
    },
    {
      "cell_type": "code",
      "source": [
        "df.head()"
      ],
      "metadata": {
        "id": "Lfzva4sLpTv6"
      },
      "execution_count": null,
      "outputs": []
    },
    {
      "cell_type": "code",
      "source": [
        "# pandas dataframe in numpy\n",
        "df.head()"
      ],
      "metadata": {
        "id": "a8OJIeBtph4V"
      },
      "execution_count": null,
      "outputs": []
    },
    {
      "cell_type": "code",
      "source": [
        "# .values\n",
        "df_5 = df[['Glucose','Insulin']].head().values"
      ],
      "metadata": {
        "id": "h7lXRR_H7HUe"
      },
      "execution_count": null,
      "outputs": []
    },
    {
      "cell_type": "code",
      "source": [
        "df_5"
      ],
      "metadata": {
        "id": "4n1Hi08t7jDI"
      },
      "execution_count": null,
      "outputs": []
    },
    {
      "cell_type": "code",
      "source": [
        "type(df_5)"
      ],
      "metadata": {
        "id": "R3eGVOC87kgq"
      },
      "execution_count": null,
      "outputs": []
    },
    {
      "cell_type": "code",
      "source": [
        "glu = df.Glucose.values\n",
        "glu"
      ],
      "metadata": {
        "id": "-l-sM1hV7vZa"
      },
      "execution_count": null,
      "outputs": []
    },
    {
      "cell_type": "code",
      "source": [
        "# How to add the columns\n",
        "# at the end\n",
        "# at some index\n",
        "df1"
      ],
      "metadata": {
        "id": "c3Q18Yp074XL"
      },
      "execution_count": null,
      "outputs": []
    },
    {
      "cell_type": "code",
      "source": [
        "# add the column at the end\n",
        "# df['col-name']=value\n",
        "df['Weight']=89"
      ],
      "metadata": {
        "id": "y1X5uW9L8Ly3"
      },
      "execution_count": null,
      "outputs": []
    },
    {
      "cell_type": "code",
      "source": [
        "df.head()"
      ],
      "metadata": {
        "id": "TDco_VGG8dVn"
      },
      "execution_count": null,
      "outputs": []
    },
    {
      "cell_type": "code",
      "source": [
        "df['Height']=df.BloodPressure*2 "
      ],
      "metadata": {
        "id": "8lWagOMn8gJ3"
      },
      "execution_count": null,
      "outputs": []
    },
    {
      "cell_type": "code",
      "source": [
        "df.head()"
      ],
      "metadata": {
        "id": "r_VVSfYt8wgz"
      },
      "execution_count": null,
      "outputs": []
    },
    {
      "cell_type": "code",
      "source": [
        "# add the column at given index\n",
        "# df.insert(index , col-name, value)\n",
        "df.insert(2,'Intelligence',df.Insulin*4 )"
      ],
      "metadata": {
        "id": "rzmuTA5m84Vr"
      },
      "execution_count": null,
      "outputs": []
    },
    {
      "cell_type": "code",
      "source": [
        "df.head()"
      ],
      "metadata": {
        "id": "kD7N0VUv9bAr"
      },
      "execution_count": null,
      "outputs": []
    },
    {
      "cell_type": "code",
      "source": [
        "# how to save your data in csv format\n",
        "# df.to_csv('filename.csv')\n",
        "df.to_csv('/content/drive/MyDrive/Syren Tech/3.Pandas/MyResult.csv')"
      ],
      "metadata": {
        "id": "jP-sAQ0B9ch2"
      },
      "execution_count": null,
      "outputs": []
    },
    {
      "cell_type": "code",
      "source": [
        "# value_counts() :this function is used to count the frequency of datain given column\n",
        "nba.head() "
      ],
      "metadata": {
        "id": "IkIlqwkF-Dn8"
      },
      "execution_count": null,
      "outputs": []
    },
    {
      "cell_type": "code",
      "source": [
        "# how many distinct positions with frequency\n",
        "nba.Position.value_counts()"
      ],
      "metadata": {
        "id": "YYrXeUoz-Dq7"
      },
      "execution_count": null,
      "outputs": []
    },
    {
      "cell_type": "code",
      "source": [
        "nba.Team.value_counts()"
      ],
      "metadata": {
        "id": "gXtQFgmG-lKj"
      },
      "execution_count": null,
      "outputs": []
    },
    {
      "cell_type": "code",
      "source": [],
      "metadata": {
        "id": "OCGxsKRdWA43"
      },
      "execution_count": null,
      "outputs": []
    },
    {
      "cell_type": "code",
      "source": [
        "# unique : this function will display only unique values\n",
        "nba.Team.unique() "
      ],
      "metadata": {
        "id": "e0palcLp9sS4"
      },
      "execution_count": null,
      "outputs": []
    },
    {
      "cell_type": "code",
      "source": [
        "# nunique() : this function will count the unique values \n",
        "nba.Team.nunique() "
      ],
      "metadata": {
        "id": "zkNreroj_Guq"
      },
      "execution_count": null,
      "outputs": []
    },
    {
      "cell_type": "markdown",
      "source": [
        "### **Handling null values**"
      ],
      "metadata": {
        "id": "ZrqWMJXi_Vrf"
      }
    },
    {
      "cell_type": "code",
      "source": [
        "# Approach 1 : remove the null value < 10%\n",
        "# Approach 2 : Replace null values >10% \n",
        "#               Data Imputation \n",
        "#                         1.String -> replace null values with mode\n",
        "#                         2.int / float ->replace null values with mean\n"
      ],
      "metadata": {
        "id": "ClR2ppr7_ahv"
      },
      "execution_count": null,
      "outputs": []
    },
    {
      "cell_type": "code",
      "source": [
        "# dropna()\n",
        "temp_nba = nba"
      ],
      "metadata": {
        "id": "RtlOA5ow_bfi"
      },
      "execution_count": null,
      "outputs": []
    },
    {
      "cell_type": "code",
      "source": [
        "temp_nba.head()"
      ],
      "metadata": {
        "id": "6qIO5Mwf_big"
      },
      "execution_count": null,
      "outputs": []
    },
    {
      "cell_type": "code",
      "source": [
        "temp_nba.isnull().sum()"
      ],
      "metadata": {
        "id": "RJXIFYmm_blQ"
      },
      "execution_count": null,
      "outputs": []
    },
    {
      "cell_type": "code",
      "source": [
        "nba1 = temp_nba.dropna()"
      ],
      "metadata": {
        "id": "T1NEpCjj_boM"
      },
      "execution_count": null,
      "outputs": []
    },
    {
      "cell_type": "code",
      "source": [
        "nba1.isnull().sum()"
      ],
      "metadata": {
        "id": "_0Sf7hYsATXq"
      },
      "execution_count": null,
      "outputs": []
    },
    {
      "cell_type": "code",
      "source": [
        "temp_nba.head()"
      ],
      "metadata": {
        "id": "HEF1YrqQAZ_k"
      },
      "execution_count": null,
      "outputs": []
    },
    {
      "cell_type": "code",
      "source": [
        "temp_nba.dropna(inplace= True)"
      ],
      "metadata": {
        "id": "7yrTgCqWAWkp"
      },
      "execution_count": null,
      "outputs": []
    },
    {
      "cell_type": "code",
      "source": [
        "temp_nba.head()"
      ],
      "metadata": {
        "id": "KsyW5fJMAr1W"
      },
      "execution_count": null,
      "outputs": []
    },
    {
      "cell_type": "code",
      "source": [
        "# how to perform dropna with any column \n",
        "# syntax = df.dropna(subset=['col1','col2'....])\n",
        "nba= pd.read_csv('nba.csv')"
      ],
      "metadata": {
        "id": "Xx1Y_DI5Auow"
      },
      "execution_count": null,
      "outputs": []
    },
    {
      "cell_type": "code",
      "source": [
        "# i need to drop only null value belong to College column\n",
        "# use inplace=True when you want to reflect the changes in original dataframe\n",
        "nba.dropna(subset=['College'] , inplace=True)\n"
      ],
      "metadata": {
        "id": "7_wIADNnBPOR"
      },
      "execution_count": null,
      "outputs": []
    },
    {
      "cell_type": "code",
      "source": [
        "nba.head(15)"
      ],
      "metadata": {
        "id": "Dk6hv12sBgx2"
      },
      "execution_count": null,
      "outputs": []
    },
    {
      "cell_type": "code",
      "source": [
        "nba.dropna(subset=['Salary'] , inplace=True)"
      ],
      "metadata": {
        "id": "aBj55LHkCqQB"
      },
      "execution_count": null,
      "outputs": []
    },
    {
      "cell_type": "code",
      "source": [
        "nba.head()"
      ],
      "metadata": {
        "id": "f3AoIM6ZBjVE"
      },
      "execution_count": null,
      "outputs": []
    },
    {
      "cell_type": "code",
      "source": [
        "# Assignment \n",
        "# fillna('value') : this will used to fill null values \n",
        "# url : https://pandas.pydata.org/docs/reference/api/pandas.DataFrame.fillna.html"
      ],
      "metadata": {
        "id": "GEBDmBhoCwIF"
      },
      "execution_count": null,
      "outputs": []
    },
    {
      "cell_type": "code",
      "source": [
        "# df.replace(old value , new value)\n",
        "nba = pd.read_csv('nba.csv')"
      ],
      "metadata": {
        "id": "KyVWZOljDuWw"
      },
      "execution_count": null,
      "outputs": []
    },
    {
      "cell_type": "code",
      "source": [
        "nba.head()"
      ],
      "metadata": {
        "id": "vsfiu9zxDuf1"
      },
      "execution_count": null,
      "outputs": []
    },
    {
      "cell_type": "code",
      "source": [
        "#               Data Imputation \n",
        "#                         1.String -> replace null values with mode\n",
        "#                         2.int / float ->replace null values with mean"
      ],
      "metadata": {
        "id": "u7Ae-2HfD6PM"
      },
      "execution_count": null,
      "outputs": []
    },
    {
      "cell_type": "code",
      "source": [
        "# to calculate mode \n",
        "nba.College.mode()[0]"
      ],
      "metadata": {
        "id": "RYhsbVZmEB0V"
      },
      "execution_count": null,
      "outputs": []
    },
    {
      "cell_type": "code",
      "source": [
        "nba.College.mode()"
      ],
      "metadata": {
        "id": "VBjOA93PEULO"
      },
      "execution_count": null,
      "outputs": []
    },
    {
      "cell_type": "code",
      "source": [
        "nba.College = nba.College.replace(np.nan,nba.College.mode()[0])"
      ],
      "metadata": {
        "id": "kH42bUMbEZyd"
      },
      "execution_count": null,
      "outputs": []
    },
    {
      "cell_type": "code",
      "source": [
        "nba.head()"
      ],
      "metadata": {
        "id": "9yuGtQwMEK0j"
      },
      "execution_count": null,
      "outputs": []
    },
    {
      "cell_type": "code",
      "source": [
        "# Assignment : Impuete Salary column with appropriate technique"
      ],
      "metadata": {
        "id": "lFb6q6SZEs6j"
      },
      "execution_count": null,
      "outputs": []
    },
    {
      "cell_type": "code",
      "source": [
        "# sorting \n",
        "# df.sort_values(Col-name, ascending = True / Flase)"
      ],
      "metadata": {
        "id": "RfYNCTa7Fqcr"
      },
      "execution_count": null,
      "outputs": []
    },
    {
      "cell_type": "code",
      "source": [
        "# sorth the Teams\n",
        "nba.sort_values('Team')"
      ],
      "metadata": {
        "id": "PWVsDBeJFqgi"
      },
      "execution_count": null,
      "outputs": []
    },
    {
      "cell_type": "code",
      "source": [
        "nba.sort_values('Team' , ascending= False)"
      ],
      "metadata": {
        "id": "hYwSG8pHGBvW"
      },
      "execution_count": null,
      "outputs": []
    },
    {
      "cell_type": "code",
      "source": [
        "# sort the team name , sort player name\n",
        "nba.sort_values(['Team','Name'])"
      ],
      "metadata": {
        "id": "X4qIvIYmGByw"
      },
      "execution_count": null,
      "outputs": []
    },
    {
      "cell_type": "code",
      "source": [
        "nba.sort_values(['Team','Name'], ascending=[True ,False])"
      ],
      "metadata": {
        "id": "uG4bYXbMGeUs"
      },
      "execution_count": null,
      "outputs": []
    },
    {
      "cell_type": "code",
      "source": [
        "# slicing of dataframe\n",
        "# iloc[ row start: row end , col start : col end]\n",
        "df = pd.read_csv('diabetes.csv')"
      ],
      "metadata": {
        "id": "zNABHKIKFqjp"
      },
      "execution_count": null,
      "outputs": []
    },
    {
      "cell_type": "code",
      "source": [
        "df.head(2)"
      ],
      "metadata": {
        "id": "MI8QW3L0Hp92"
      },
      "execution_count": null,
      "outputs": []
    },
    {
      "cell_type": "code",
      "source": [
        "x = df.iloc[: , 0:7]\n",
        "x.head()"
      ],
      "metadata": {
        "id": "hn5R01AhFqm6"
      },
      "execution_count": null,
      "outputs": []
    },
    {
      "cell_type": "code",
      "source": [
        "y = df.iloc[: , 7:]\n",
        "y.head()"
      ],
      "metadata": {
        "id": "qISPWxEYH3w-"
      },
      "execution_count": null,
      "outputs": []
    },
    {
      "cell_type": "code",
      "source": [
        "y1 = df.iloc[:, 7]\n",
        "y1.head()"
      ],
      "metadata": {
        "id": "kXmnPhj2H-wl"
      },
      "execution_count": null,
      "outputs": []
    },
    {
      "cell_type": "code",
      "source": [
        "df.head()"
      ],
      "metadata": {
        "id": "G_noKF3cILGF"
      },
      "execution_count": null,
      "outputs": []
    },
    {
      "cell_type": "code",
      "source": [
        "df.iloc[:20,:2]"
      ],
      "metadata": {
        "id": "7kqEf0jmIMaJ"
      },
      "execution_count": null,
      "outputs": []
    },
    {
      "cell_type": "code",
      "source": [
        "# Filter the data \n",
        "df.head()"
      ],
      "metadata": {
        "id": "Laeoy7lcIQ1s"
      },
      "execution_count": null,
      "outputs": []
    },
    {
      "cell_type": "code",
      "source": [
        "# out come 1 : D\n",
        "# our come 0 : ND"
      ],
      "metadata": {
        "id": "9A1WDXnMIbOX"
      },
      "execution_count": null,
      "outputs": []
    },
    {
      "cell_type": "code",
      "source": [
        "# filter those record which have diabetic\n",
        "\n",
        "df_d = df[df.Outcome == 1]\n",
        "df_d.head()"
      ],
      "metadata": {
        "id": "9T90vp59IisH"
      },
      "execution_count": null,
      "outputs": []
    },
    {
      "cell_type": "code",
      "source": [
        "# whose outcome is 1 , the have glucose > 150\n",
        "df_d_1 =df[(df.Outcome ==1) & (df.Glucose > 150)]\n",
        "df_d_1.head(30)"
      ],
      "metadata": {
        "id": "ZIWK61V8JBlr"
      },
      "execution_count": null,
      "outputs": []
    },
    {
      "cell_type": "code",
      "source": [
        "# whose outcome is 1 or the have glucose > 150\n",
        "df_d_2 =df[(df.Outcome ==1) | (df.Glucose > 150)]\n",
        "df_d_2.head(30)"
      ],
      "metadata": {
        "id": "cYll_Wi2Jeon"
      },
      "execution_count": null,
      "outputs": []
    },
    {
      "cell_type": "code",
      "source": [],
      "metadata": {
        "id": "CDof0VjZJBo4"
      },
      "execution_count": null,
      "outputs": []
    },
    {
      "cell_type": "code",
      "source": [
        "df_d[['Glucose','BloodPressure']].head()"
      ],
      "metadata": {
        "id": "YWiC-DO6IzQW"
      },
      "execution_count": null,
      "outputs": []
    },
    {
      "cell_type": "code",
      "source": [],
      "metadata": {
        "id": "9FJkXW7qIivD"
      },
      "execution_count": null,
      "outputs": []
    },
    {
      "cell_type": "markdown",
      "source": [
        "## **Plot()**"
      ],
      "metadata": {
        "id": "qxo65udaJpzh"
      }
    },
    {
      "cell_type": "code",
      "source": [
        "# histogram\n",
        "df.Glucose.plot(kind ='hist')"
      ],
      "metadata": {
        "id": "S9uVzxH0JsIh"
      },
      "execution_count": null,
      "outputs": []
    },
    {
      "cell_type": "code",
      "source": [
        "df.Glucose.plot(kind ='hist', bins=5)"
      ],
      "metadata": {
        "id": "lj6rOR-JLwRI"
      },
      "execution_count": null,
      "outputs": []
    },
    {
      "cell_type": "code",
      "source": [
        "df.Glucose.plot(kind ='hist', bins=20)"
      ],
      "metadata": {
        "id": "wc6Lxx2CL6MS"
      },
      "execution_count": null,
      "outputs": []
    },
    {
      "cell_type": "code",
      "source": [
        "df[['Glucose','Age']].plot(kind ='hist')"
      ],
      "metadata": {
        "id": "GozTGtj4MIF0"
      },
      "execution_count": null,
      "outputs": []
    },
    {
      "cell_type": "code",
      "source": [
        "df.plot(kind ='hist')"
      ],
      "metadata": {
        "id": "e_z-D7WwMUU0"
      },
      "execution_count": null,
      "outputs": []
    },
    {
      "cell_type": "code",
      "source": [
        "# bar chart\n",
        "nba.head()"
      ],
      "metadata": {
        "id": "RFzup1ULMea3"
      },
      "execution_count": null,
      "outputs": []
    },
    {
      "cell_type": "code",
      "source": [
        "nba.head(10).plot(kind='bar',x ='Name',y='Weight')"
      ],
      "metadata": {
        "id": "4KmetQ1vJsLX"
      },
      "execution_count": null,
      "outputs": []
    },
    {
      "cell_type": "code",
      "source": [
        "nba.head(10).plot(kind='bar',x ='Name',y='Weight', figsize=(4,3)) #w,h"
      ],
      "metadata": {
        "id": "_qpJQa6VM0eR"
      },
      "execution_count": null,
      "outputs": []
    },
    {
      "cell_type": "code",
      "source": [
        "nba.head(10).plot(kind='bar',x ='Name',y=['Weight','Age'], figsize=(8,4)) #w,h"
      ],
      "metadata": {
        "id": "O52vEpFqMuAT"
      },
      "execution_count": null,
      "outputs": []
    },
    {
      "cell_type": "code",
      "source": [
        "nba.head(10).plot(kind='barh',x ='Name',y=['Weight','Age'], figsize=(8,4)) #w,h"
      ],
      "metadata": {
        "id": "0nfzxBRXNQ5O"
      },
      "execution_count": null,
      "outputs": []
    },
    {
      "cell_type": "code",
      "source": [
        "df.plot(x= 'Glucose', y ='Age')"
      ],
      "metadata": {
        "id": "_1RlGm8qNZ2q"
      },
      "execution_count": null,
      "outputs": []
    },
    {
      "cell_type": "code",
      "source": [
        "df.plot(x= 'Glucose', y ='Age' , kind ='scatter', figsize=(10,5))"
      ],
      "metadata": {
        "id": "FBuac9IzNmJo"
      },
      "execution_count": null,
      "outputs": []
    },
    {
      "cell_type": "code",
      "source": [
        "df.plot(x= 'Age', y ='BloodPressure' , kind ='scatter', figsize=(10,5))"
      ],
      "metadata": {
        "id": "QBIXyQM-NZ5z"
      },
      "execution_count": null,
      "outputs": []
    },
    {
      "cell_type": "code",
      "source": [],
      "metadata": {
        "id": "yPrwELgSNLAr"
      },
      "execution_count": null,
      "outputs": []
    }
  ]
}