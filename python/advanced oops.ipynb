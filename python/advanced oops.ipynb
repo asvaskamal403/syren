{
  "nbformat": 4,
  "nbformat_minor": 0,
  "metadata": {
    "colab": {
      "provenance": [],
      "include_colab_link": true
    },
    "kernelspec": {
      "name": "python3",
      "display_name": "Python 3"
    },
    "language_info": {
      "name": "python"
    }
  },
  "cells": [
    {
      "cell_type": "markdown",
      "metadata": {
        "id": "view-in-github",
        "colab_type": "text"
      },
      "source": [
        "<a href=\"https://colab.research.google.com/github/asvaskamal403/python/blob/kamal/advanced%20oops.ipynb\" target=\"_parent\"><img src=\"https://colab.research.google.com/assets/colab-badge.svg\" alt=\"Open In Colab\"/></a>"
      ]
    },
    {
      "cell_type": "markdown",
      "source": [
        "Mr. clarck , who is workign as python developer \n",
        "his manager give the task to develop a solution in core python , \n",
        "under Clarck need to develop some solution managing students grades.\n",
        "\n",
        "1. Addd the student\n",
        "2. Add the grade for student \n",
        "3. calculate average for gardes\n",
        "4. View grades\n",
        "5. save the grades to the file "
      ],
      "metadata": {
        "id": "1odyMDIP-Nms"
      }
    },
    {
      "cell_type": "code",
      "source": [
        "from google.colab import drive\n",
        "drive.mount('/content/drive')"
      ],
      "metadata": {
        "id": "9OLfaIfCQoQJ"
      },
      "execution_count": null,
      "outputs": []
    },
    {
      "cell_type": "code",
      "execution_count": null,
      "metadata": {
        "id": "SjvACqV--GZv"
      },
      "outputs": [],
      "source": [
        "# i will create the student class\n",
        "# this class have some cons. , this cons. will take students name as input\n",
        "# i will init one list which will store the grades of given students\n",
        "# add_grades : this menthod will allow us to add the grade in the list\n",
        "# calculate_average_gades : \n",
        "class Student:\n",
        "\n",
        "  def __init__(self, name):\n",
        "    self.name = name\n",
        "    self.grades=[] # this list will store the grades for given students\n",
        "\n",
        "  def add_grades(self,grade):\n",
        "    self.grades.append(grade)\n",
        "\n",
        "  def calculate_average_grade(self):\n",
        "    if self.grades:\n",
        "      return sum(self.grades) / len(self.grades)\n",
        "    else:\n",
        "      return 0.0\n",
        "  # this __str__ method provides a string represtenation of the studenst object\n",
        "  #  this function will calcuate the grades  using  calculate_average_grade \n",
        "  def __str__(self):\n",
        "    average_grade= self.calculate_average_grade()\n",
        "    return f\"{self.name}: Grade - {self.grades},Average Grade :{average_grade : .2f}\"\n"
      ]
    },
    {
      "cell_type": "code",
      "source": [
        "# i need to create one more class to manage students grades\n",
        "# this will contain some cons. which have the empty list tp store \n",
        "# studesnts object\n",
        "\n",
        "class GradeTracker:\n",
        "\n",
        "  def __init__(self):\n",
        "    self.students=[]\n",
        "\n",
        "  # add_students which allow us to add the new students to track the grade \n",
        "  # this method again create a new students object with given name\n",
        "  #  and append it to the list of students \n",
        "  def add_student(self, name):\n",
        "    student = Student(name)\n",
        "    self.students.append(student)\n",
        "    print(f\"\\nStudent '{name}' added to the grade tracker\")\n",
        "\n",
        "  # add_grade\n",
        "  # this method will add the grade for secific student \n",
        "  # this will find in the list that student is there \n",
        "  # if match is found , this will call add_grade\n",
        "\n",
        "  def add_grade(self, name ,grade):\n",
        "    found = False\n",
        "    for student in self.students:\n",
        "      if student.name==name:\n",
        "        student.add_grades(grade)\n",
        "        print(f\"\\nGrade '{grade}' added for the student '{name}'\")\n",
        "        found= True\n",
        "        break\n",
        "      \n",
        "    if not found:\n",
        "      print(f\"\\Student '{name}' not found\")\n",
        "  \n",
        "  # calculates_ average_grade\n",
        "  def calculate_average_grades(self, name):\n",
        "    found = False\n",
        "    for student in self.students:\n",
        "      if student.name== name:\n",
        "        average_grade = student.calculate_average_grade()\n",
        "        print(f\"\\n Average grade for student '{name}' : {average_grade : .2f}\")\n",
        "        found = True\n",
        "        break\n",
        "    if not found:\n",
        "      print(f\"\\Student '{name}' not found\")\n",
        "\n",
        "   # view_grade :\n",
        "   # this will display the list of gardes that is associated with \n",
        "   # student name\n",
        "  def view_grades(self):\n",
        "    if self.students:\n",
        "      print(\"\\n Grades Tracker :\")\n",
        "      for student in self.students:\n",
        "        print(student) \n",
        "    else:\n",
        "      print('\\n The Grade tracker is Empty')\n",
        "\n",
        "   # save the grades in this file\n",
        "   # this method used to save the grades in the file \n",
        "   # this will open the file in w \n",
        "  def save_grades(self, filename):\n",
        "    with open(filename , 'w') as file :\n",
        "      for student in self.students:\n",
        "        grades_str = ','.join(str(grade) for grade in student.grades)\n",
        "        file.write(f\"{student.name} : {grades_str} \\n\") \n",
        "    print(f\"/Grades are saved to file '{filename}' successfully\")\n"
      ],
      "metadata": {
        "id": "9ebrE6-K_C5c"
      },
      "execution_count": null,
      "outputs": []
    },
    {
      "cell_type": "code",
      "source": [],
      "metadata": {
        "id": "7l4lqhHx_C8i"
      },
      "execution_count": null,
      "outputs": []
    },
    {
      "cell_type": "code",
      "source": [
        "def main():\n",
        "  tracker = GradeTracker()\n",
        "\n",
        "  while True:\n",
        "    print(\"\\n 1.Add the student\")\n",
        "    print(\"2.Add the grade for student\")\n",
        "    print('3.Calculate the average')\n",
        "    print('4.View grades')\n",
        "    print('5.Save the grades to file')\n",
        "    print('6.Quit')\n",
        "\n",
        "    choice = input('Enter the choice (1-6) : ')\n",
        "\n",
        "    if choice=='1':\n",
        "      #pass\n",
        "      name = input('Enter the student name :')\n",
        "      tracker.add_student(name)\n",
        "\n",
        "    elif choice =='2':\n",
        "      #pass\n",
        "      name = input('Enter the student name :')\n",
        "      grade = float(input('Enter grade :'))\n",
        "      tracker.add_grade(name,grade)\n",
        "\n",
        "    elif choice =='3': #3.Calculate the average\n",
        "      #pass\n",
        "      name = input('Enter the student name :')\n",
        "      tracker.calculate_average_grades(name)\n",
        "\n",
        "    elif choice =='4': #4.View grades\n",
        "      #pass\n",
        "      tracker.view_grades()\n",
        "\n",
        "    elif choice =='5':#5.Save the grades to file\n",
        "      #pass\n",
        "      filename = input('Enter the file name to save grades')\n",
        "      tracker.save_grades(filename)\n",
        "\n",
        "    elif choice =='6': #6.Quit\n",
        "      break\n",
        "   \n",
        "    else:\n",
        "      print('Invalid choice . Please give input between 1-6')"
      ],
      "metadata": {
        "id": "pQGALC84_C_1"
      },
      "execution_count": null,
      "outputs": []
    },
    {
      "cell_type": "code",
      "source": [
        "if __name__==\"__main__\":\n",
        "  main()"
      ],
      "metadata": {
        "colab": {
          "base_uri": "https://localhost:8080/"
        },
        "id": "ESQUnS19_DDA",
        "outputId": "a0434280-2481-495c-9dd0-bfc7f5bb62f4"
      },
      "execution_count": null,
      "outputs": [
        {
          "name": "stdout",
          "output_type": "stream",
          "text": [
            "\n",
            " 1.Add the student\n",
            "2.Add the grade for student\n",
            "3.Calculate the average\n",
            "4.View grades\n",
            "5.Save the grades to file\n",
            "6.Quit\n",
            "Enter the choice (1-6) : 1\n",
            "Enter the student name :kamal\n",
            "\n",
            "Student 'kamal' added to the grade tracker\n",
            "\n",
            " 1.Add the student\n",
            "2.Add the grade for student\n",
            "3.Calculate the average\n",
            "4.View grades\n",
            "5.Save the grades to file\n",
            "6.Quit\n",
            "Enter the choice (1-6) : 2\n",
            "Enter the student name :kamal\n",
            "Enter grade :100\n",
            "\n",
            "Grade '100.0' added for the student 'kamal'\n",
            "\n",
            " 1.Add the student\n",
            "2.Add the grade for student\n",
            "3.Calculate the average\n",
            "4.View grades\n",
            "5.Save the grades to file\n",
            "6.Quit\n",
            "Enter the choice (1-6) : 2\n",
            "Enter the student name :kamal\n",
            "Enter grade :300\n",
            "\n",
            "Grade '300.0' added for the student 'kamal'\n",
            "\n",
            " 1.Add the student\n",
            "2.Add the grade for student\n",
            "3.Calculate the average\n",
            "4.View grades\n",
            "5.Save the grades to file\n",
            "6.Quit\n",
            "Enter the choice (1-6) : 3\n",
            "Enter the student name :kamal\n",
            "\n",
            " Average grade for student 'kamal' :  200.00\n",
            "\n",
            " 1.Add the student\n",
            "2.Add the grade for student\n",
            "3.Calculate the average\n",
            "4.View grades\n",
            "5.Save the grades to file\n",
            "6.Quit\n",
            "Enter the choice (1-6) : 4\n",
            "\n",
            " Grades Tracker :\n",
            "kamal: Grade - [100.0, 300.0],Average Grade : 200.00\n",
            "\n",
            " 1.Add the student\n",
            "2.Add the grade for student\n",
            "3.Calculate the average\n",
            "4.View grades\n",
            "5.Save the grades to file\n",
            "6.Quit\n",
            "Enter the choice (1-6) : 5\n",
            "Enter the file name to save gradesabhi.txt\n",
            "\\Grades are saved to file 'abhi.txt' successfully\n",
            "\n",
            " 1.Add the student\n",
            "2.Add the grade for student\n",
            "3.Calculate the average\n",
            "4.View grades\n",
            "5.Save the grades to file\n",
            "6.Quit\n",
            "Enter the choice (1-6) : 6\n"
          ]
        }
      ]
    }
  ]
}