{
  "nbformat": 4,
  "nbformat_minor": 0,
  "metadata": {
    "colab": {
      "provenance": [],
      "include_colab_link": true
    },
    "kernelspec": {
      "name": "python3",
      "display_name": "Python 3"
    },
    "language_info": {
      "name": "python"
    }
  },
  "cells": [
    {
      "cell_type": "markdown",
      "metadata": {
        "id": "view-in-github",
        "colab_type": "text"
      },
      "source": [
        "<a href=\"https://colab.research.google.com/github/asvaskamal403/python/blob/kamal/9_File_handing.ipynb\" target=\"_parent\"><img src=\"https://colab.research.google.com/assets/colab-badge.svg\" alt=\"Open In Colab\"/></a>"
      ]
    },
    {
      "cell_type": "code",
      "execution_count": null,
      "metadata": {
        "id": "6Or2DSmRr1kU"
      },
      "outputs": [],
      "source": [
        "# create a file and check for open or close\n",
        "file = open('test1.text','w')"
      ]
    },
    {
      "cell_type": "code",
      "source": [
        "#\n",
        "print('file name : ', file.name)"
      ],
      "metadata": {
        "colab": {
          "base_uri": "https://localhost:8080/"
        },
        "id": "va4EqjvFszQo",
        "outputId": "44274fc0-f25f-427c-a786-fedeb05f7990"
      },
      "execution_count": null,
      "outputs": [
        {
          "output_type": "stream",
          "name": "stdout",
          "text": [
            "file name :  test1.text\n"
          ]
        }
      ]
    },
    {
      "cell_type": "code",
      "source": [
        "#\n",
        "print('file mode : ', file.mode)"
      ],
      "metadata": {
        "colab": {
          "base_uri": "https://localhost:8080/"
        },
        "id": "h-xd1b65szTj",
        "outputId": "7daee03d-d8e1-462d-adc6-757f6d926cb0"
      },
      "execution_count": null,
      "outputs": [
        {
          "output_type": "stream",
          "name": "stdout",
          "text": [
            "file mode :  w\n"
          ]
        }
      ]
    },
    {
      "cell_type": "code",
      "source": [
        "# check for close\n",
        "print('file check ||check 1 :', file.closed )"
      ],
      "metadata": {
        "colab": {
          "base_uri": "https://localhost:8080/"
        },
        "id": "2FlRVbg-s-_9",
        "outputId": "9a65a3c5-eb9b-48a3-fb4f-7be363d4e136"
      },
      "execution_count": null,
      "outputs": [
        {
          "output_type": "stream",
          "name": "stdout",
          "text": [
            "file check ||check 1 : False\n"
          ]
        }
      ]
    },
    {
      "cell_type": "code",
      "source": [
        "# \n",
        "file.close()"
      ],
      "metadata": {
        "id": "rmCXWlSVtLbj"
      },
      "execution_count": null,
      "outputs": []
    },
    {
      "cell_type": "code",
      "source": [
        "# check for close\n",
        "print('file check ||check 2 :', file.closed )"
      ],
      "metadata": {
        "colab": {
          "base_uri": "https://localhost:8080/"
        },
        "id": "sm1qKyBDtQ_S",
        "outputId": "611fa4f8-e4e2-431e-cd47-a64f33c41001"
      },
      "execution_count": null,
      "outputs": [
        {
          "output_type": "stream",
          "name": "stdout",
          "text": [
            "file check ||check 2 : True\n"
          ]
        }
      ]
    },
    {
      "cell_type": "code",
      "source": [
        "# WAP to create a file and write any welcome message\n",
        "# write\n",
        "file1 = open('test2.txt','w')\n",
        "file1.write('Hello good morning')\n",
        "file1.close()\n",
        "print('Data written Successfully..')"
      ],
      "metadata": {
        "colab": {
          "base_uri": "https://localhost:8080/"
        },
        "id": "uXx9Jwb4tTUh",
        "outputId": "27aa62d0-e9ab-4c3c-ae86-3c07e21782ba"
      },
      "execution_count": null,
      "outputs": [
        {
          "output_type": "stream",
          "name": "stdout",
          "text": [
            "Data written Successfully..\n"
          ]
        }
      ]
    },
    {
      "cell_type": "code",
      "source": [
        "file1 = open('test2.txt','w')\n",
        "file1.write('Welcome to Python training')\n",
        "file1.close()\n",
        "print('Data written Successfully..')"
      ],
      "metadata": {
        "colab": {
          "base_uri": "https://localhost:8080/"
        },
        "id": "cWD-f3-muAQU",
        "outputId": "b26f6743-30f9-4160-e832-70830ca10ea7"
      },
      "execution_count": null,
      "outputs": [
        {
          "output_type": "stream",
          "name": "stdout",
          "text": [
            "Data written Successfully..\n"
          ]
        }
      ]
    },
    {
      "cell_type": "code",
      "source": [
        "file1 = open('test2.txt','w')\n",
        "file1.write(34565787)\n",
        "file1.close()\n",
        "print('Data written Successfully..')"
      ],
      "metadata": {
        "colab": {
          "base_uri": "https://localhost:8080/",
          "height": 223
        },
        "id": "XEj9UBeGuAS8",
        "outputId": "46923898-77a0-41e1-9aec-3dfd4c4b73dc"
      },
      "execution_count": null,
      "outputs": [
        {
          "output_type": "error",
          "ename": "TypeError",
          "evalue": "ignored",
          "traceback": [
            "\u001b[0;31m---------------------------------------------------------------------------\u001b[0m",
            "\u001b[0;31mTypeError\u001b[0m                                 Traceback (most recent call last)",
            "\u001b[0;32m<ipython-input-10-be99966a52cb>\u001b[0m in \u001b[0;36m<cell line: 2>\u001b[0;34m()\u001b[0m\n\u001b[1;32m      1\u001b[0m \u001b[0mfile1\u001b[0m \u001b[0;34m=\u001b[0m \u001b[0mopen\u001b[0m\u001b[0;34m(\u001b[0m\u001b[0;34m'test2.txt'\u001b[0m\u001b[0;34m,\u001b[0m\u001b[0;34m'w'\u001b[0m\u001b[0;34m)\u001b[0m\u001b[0;34m\u001b[0m\u001b[0;34m\u001b[0m\u001b[0m\n\u001b[0;32m----> 2\u001b[0;31m \u001b[0mfile1\u001b[0m\u001b[0;34m.\u001b[0m\u001b[0mwrite\u001b[0m\u001b[0;34m(\u001b[0m\u001b[0;36m34565787\u001b[0m\u001b[0;34m)\u001b[0m\u001b[0;34m\u001b[0m\u001b[0;34m\u001b[0m\u001b[0m\n\u001b[0m\u001b[1;32m      3\u001b[0m \u001b[0mfile1\u001b[0m\u001b[0;34m.\u001b[0m\u001b[0mclose\u001b[0m\u001b[0;34m(\u001b[0m\u001b[0;34m)\u001b[0m\u001b[0;34m\u001b[0m\u001b[0;34m\u001b[0m\u001b[0m\n\u001b[1;32m      4\u001b[0m \u001b[0mprint\u001b[0m\u001b[0;34m(\u001b[0m\u001b[0;34m'Data written Successfully..'\u001b[0m\u001b[0;34m)\u001b[0m\u001b[0;34m\u001b[0m\u001b[0;34m\u001b[0m\u001b[0m\n",
            "\u001b[0;31mTypeError\u001b[0m: write() argument must be str, not int"
          ]
        }
      ]
    },
    {
      "cell_type": "code",
      "source": [
        "file1 = open('test2.txt','w')\n",
        "#file1.write('34565787')\n",
        "file1.write(str(34565787))\n",
        "file1.close()\n",
        "print('Data written Successfully..')"
      ],
      "metadata": {
        "colab": {
          "base_uri": "https://localhost:8080/"
        },
        "id": "V4pgvgWDueqF",
        "outputId": "1ce6c465-1a09-4229-92d3-ba1b266dbe2a"
      },
      "execution_count": null,
      "outputs": [
        {
          "output_type": "stream",
          "name": "stdout",
          "text": [
            "Data written Successfully..\n"
          ]
        }
      ]
    },
    {
      "cell_type": "code",
      "source": [
        "# append mode \n",
        "file1 = open('test2.txt','a')\n",
        "#file1.write('34565787')\n",
        "file1.write('\\nhello good morning')\n",
        "file1.close()\n",
        "print('Data written Successfully..')"
      ],
      "metadata": {
        "colab": {
          "base_uri": "https://localhost:8080/"
        },
        "id": "dFglmrHQupnI",
        "outputId": "da5f7f14-5d04-4ae3-e3ce-b9f342f2783c"
      },
      "execution_count": null,
      "outputs": [
        {
          "output_type": "stream",
          "name": "stdout",
          "text": [
            "Data written Successfully..\n"
          ]
        }
      ]
    },
    {
      "cell_type": "code",
      "source": [
        "# WAP to create a file name table , \n",
        "# you need to write table of given number in the file\n",
        "# number will be entered by used  "
      ],
      "metadata": {
        "id": "zI2rD1TIupp-"
      },
      "execution_count": null,
      "outputs": []
    },
    {
      "cell_type": "code",
      "source": [
        "# to read data from file - read()\n",
        "# if we want to used entire message\n",
        "\n",
        "file3= open('test2.txt','r')\n",
        "print(file3.read())\n",
        "file3.close()"
      ],
      "metadata": {
        "colab": {
          "base_uri": "https://localhost:8080/"
        },
        "id": "cGwmyCROw9Ud",
        "outputId": "f8a75480-a6a5-410f-ca48-7ad409f11ab9"
      },
      "execution_count": null,
      "outputs": [
        {
          "output_type": "stream",
          "name": "stdout",
          "text": [
            "34565787\n",
            "hello good morning\n"
          ]
        }
      ]
    },
    {
      "cell_type": "code",
      "source": [
        "# to read data from file - read()\n",
        "# if we want to used entire message\n",
        "# read only 4 character\n",
        "file3= open('test2.txt','r')\n",
        "print(file3.read(4))\n",
        "file3.close()"
      ],
      "metadata": {
        "colab": {
          "base_uri": "https://localhost:8080/"
        },
        "id": "XasgVxB4xq4f",
        "outputId": "ed209f30-c1ab-4a7f-c2b3-f503daddddd3"
      },
      "execution_count": null,
      "outputs": [
        {
          "output_type": "stream",
          "name": "stdout",
          "text": [
            "3456\n"
          ]
        }
      ]
    },
    {
      "cell_type": "code",
      "source": [
        "# to read data from file - read()\n",
        "# if we want to used entire message\n",
        "\n",
        "file3= open('test2.txt','r')\n",
        "print(file3.readline())\n",
        "file3.close()"
      ],
      "metadata": {
        "colab": {
          "base_uri": "https://localhost:8080/"
        },
        "id": "vGHbGGPJw9Xp",
        "outputId": "a6c5c2df-4978-4465-a01b-b64109f5347f"
      },
      "execution_count": null,
      "outputs": [
        {
          "output_type": "stream",
          "name": "stdout",
          "text": [
            "34565787\n",
            "\n"
          ]
        }
      ]
    },
    {
      "cell_type": "code",
      "source": [
        "# to read data from file - read()\n",
        "# if we want to used entire message\n",
        "\n",
        "file3= open('test2.txt','r')\n",
        "print(file3.readline())\n",
        "print(file3.readline())\n",
        "file3.close()"
      ],
      "metadata": {
        "colab": {
          "base_uri": "https://localhost:8080/"
        },
        "id": "_KFbLEiYxgQY",
        "outputId": "10b59bca-5b25-4035-a627-e3123c5724cb"
      },
      "execution_count": null,
      "outputs": [
        {
          "output_type": "stream",
          "name": "stdout",
          "text": [
            "34565787\n",
            "\n",
            "hello good morning\n"
          ]
        }
      ]
    },
    {
      "cell_type": "code",
      "source": [
        "# read the file line by line\n",
        "file4 = open('temp1.txt','r')\n",
        "for line in file4:\n",
        "  print(line)\n",
        "file4.close()"
      ],
      "metadata": {
        "colab": {
          "base_uri": "https://localhost:8080/"
        },
        "id": "NPXOZaOrzf3T",
        "outputId": "4b115c79-63d0-42ba-a04b-b676575e1cc4"
      },
      "execution_count": null,
      "outputs": [
        {
          "output_type": "stream",
          "name": "stdout",
          "text": [
            "this is python classes.\n",
            "\n",
            "in these class we will learn about python.\n",
            "\n",
            "then we have training on Data fundamental.\n"
          ]
        }
      ]
    },
    {
      "cell_type": "code",
      "source": [
        "# WAP to read file word by word\n",
        "file4 = open('temp1.txt','r')\n",
        "# use for loop for readling line\n",
        "for line in file4:\n",
        "  # reading each word\n",
        "  for word in line.split():\n",
        "    print(word)\n",
        "file4.close()"
      ],
      "metadata": {
        "colab": {
          "base_uri": "https://localhost:8080/"
        },
        "id": "sAnk01Uuzf56",
        "outputId": "1406a7a8-a12b-4b30-ba55-7cdc0046a3e0"
      },
      "execution_count": null,
      "outputs": [
        {
          "output_type": "stream",
          "name": "stdout",
          "text": [
            "this\n",
            "is\n",
            "python\n",
            "classes.\n",
            "in\n",
            "these\n",
            "class\n",
            "we\n",
            "will\n",
            "learn\n",
            "about\n",
            "python.\n",
            "then\n",
            "we\n",
            "have\n",
            "training\n",
            "on\n",
            "Data\n",
            "fundamental.\n"
          ]
        }
      ]
    },
    {
      "cell_type": "code",
      "source": [
        "# WAP to read file char by char"
      ],
      "metadata": {
        "id": "6ugcRPJTzf9S"
      },
      "execution_count": null,
      "outputs": []
    },
    {
      "cell_type": "code",
      "source": [
        "# create a function which take file as a input \n",
        "# return char count , word count , line count and space count \n",
        "\n",
        "\n"
      ],
      "metadata": {
        "id": "tg98vrq42xOx"
      },
      "execution_count": null,
      "outputs": []
    },
    {
      "cell_type": "code",
      "source": [
        "# wAP for file handling in which you need to count the frequency on\n",
        "# char which is entered by user "
      ],
      "metadata": {
        "id": "OgRt_iYE2xRn"
      },
      "execution_count": null,
      "outputs": []
    },
    {
      "cell_type": "code",
      "source": [
        "# wap to calculate the % for vowel and consonent for given file\n",
        "# show to total alphabets on console"
      ],
      "metadata": {
        "id": "5q2HrGLnzgAL"
      },
      "execution_count": null,
      "outputs": []
    }
  ]
}