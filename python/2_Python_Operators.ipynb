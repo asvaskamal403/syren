{
  "nbformat": 4,
  "nbformat_minor": 0,
  "metadata": {
    "colab": {
      "provenance": [],
      "include_colab_link": true
    },
    "kernelspec": {
      "name": "python3",
      "display_name": "Python 3"
    },
    "language_info": {
      "name": "python"
    }
  },
  "cells": [
    {
      "cell_type": "markdown",
      "metadata": {
        "id": "view-in-github",
        "colab_type": "text"
      },
      "source": [
        "<a href=\"https://colab.research.google.com/github/asvaskamal403/python/blob/kamal/2_Python_Operators.ipynb\" target=\"_parent\"><img src=\"https://colab.research.google.com/assets/colab-badge.svg\" alt=\"Open In Colab\"/></a>"
      ]
    },
    {
      "cell_type": "code",
      "execution_count": null,
      "metadata": {
        "id": "oa73o5mXUVDg"
      },
      "outputs": [],
      "source": [
        "# Airthmatic Operators\n",
        "# , + , - , * , / , % , ** , //"
      ]
    },
    {
      "cell_type": "code",
      "source": [
        "x = 5\n",
        "y = 7\n"
      ],
      "metadata": {
        "id": "6VeToCr7UxiA"
      },
      "execution_count": null,
      "outputs": []
    },
    {
      "cell_type": "code",
      "source": [
        "x + y"
      ],
      "metadata": {
        "colab": {
          "base_uri": "https://localhost:8080/"
        },
        "id": "c231LbuYUxlA",
        "outputId": "60525d2a-28dc-4578-942d-575af91603cb"
      },
      "execution_count": null,
      "outputs": [
        {
          "output_type": "execute_result",
          "data": {
            "text/plain": [
              "12"
            ]
          },
          "metadata": {},
          "execution_count": 2
        }
      ]
    },
    {
      "cell_type": "code",
      "source": [
        "'Good ' + 'Morning'"
      ],
      "metadata": {
        "colab": {
          "base_uri": "https://localhost:8080/",
          "height": 36
        },
        "id": "D4N_iOaJUxn6",
        "outputId": "4dd00e9f-19cc-45ae-8de5-42c8f4e75712"
      },
      "execution_count": null,
      "outputs": [
        {
          "output_type": "execute_result",
          "data": {
            "text/plain": [
              "'Good Morning'"
            ],
            "application/vnd.google.colaboratory.intrinsic+json": {
              "type": "string"
            }
          },
          "metadata": {},
          "execution_count": 3
        }
      ]
    },
    {
      "cell_type": "code",
      "source": [
        "x-y"
      ],
      "metadata": {
        "colab": {
          "base_uri": "https://localhost:8080/"
        },
        "id": "IO8GcdIzUxrb",
        "outputId": "24da2206-6230-43e0-8849-e9f5347396b9"
      },
      "execution_count": null,
      "outputs": [
        {
          "output_type": "execute_result",
          "data": {
            "text/plain": [
              "-2"
            ]
          },
          "metadata": {},
          "execution_count": 4
        }
      ]
    },
    {
      "cell_type": "code",
      "source": [
        "x*y"
      ],
      "metadata": {
        "colab": {
          "base_uri": "https://localhost:8080/"
        },
        "id": "OyJWSE3XUxts",
        "outputId": "f22bc9b7-707c-4b79-fb73-fda34dcbc1bd"
      },
      "execution_count": null,
      "outputs": [
        {
          "output_type": "execute_result",
          "data": {
            "text/plain": [
              "35"
            ]
          },
          "metadata": {},
          "execution_count": 5
        }
      ]
    },
    {
      "cell_type": "code",
      "source": [
        "'Good'*2"
      ],
      "metadata": {
        "colab": {
          "base_uri": "https://localhost:8080/",
          "height": 36
        },
        "id": "0gKn8lh4Uxwx",
        "outputId": "1f26c0d0-793a-4cfd-9993-42db267f5080"
      },
      "execution_count": null,
      "outputs": [
        {
          "output_type": "execute_result",
          "data": {
            "text/plain": [
              "'GoodGood'"
            ],
            "application/vnd.google.colaboratory.intrinsic+json": {
              "type": "string"
            }
          },
          "metadata": {},
          "execution_count": 6
        }
      ]
    },
    {
      "cell_type": "code",
      "source": [
        "'Good'*7"
      ],
      "metadata": {
        "colab": {
          "base_uri": "https://localhost:8080/",
          "height": 36
        },
        "id": "-BlWsPEBVKz0",
        "outputId": "bb794536-5f77-4294-8b07-0a12101faa67"
      },
      "execution_count": null,
      "outputs": [
        {
          "output_type": "execute_result",
          "data": {
            "text/plain": [
              "'GoodGoodGoodGoodGoodGoodGood'"
            ],
            "application/vnd.google.colaboratory.intrinsic+json": {
              "type": "string"
            }
          },
          "metadata": {},
          "execution_count": 7
        }
      ]
    },
    {
      "cell_type": "code",
      "source": [
        "x/y"
      ],
      "metadata": {
        "colab": {
          "base_uri": "https://localhost:8080/"
        },
        "id": "pYibjPcHVOPj",
        "outputId": "746a8b8d-d032-472d-9902-8a71db0bf2b9"
      },
      "execution_count": null,
      "outputs": [
        {
          "output_type": "execute_result",
          "data": {
            "text/plain": [
              "0.7142857142857143"
            ]
          },
          "metadata": {},
          "execution_count": 8
        }
      ]
    },
    {
      "cell_type": "code",
      "source": [
        "# % reminder\n",
        "7%5"
      ],
      "metadata": {
        "colab": {
          "base_uri": "https://localhost:8080/"
        },
        "id": "pujG52KKVQrn",
        "outputId": "dc6513e7-26f0-4e17-cf17-0725a19ba0c0"
      },
      "execution_count": null,
      "outputs": [
        {
          "output_type": "execute_result",
          "data": {
            "text/plain": [
              "2"
            ]
          },
          "metadata": {},
          "execution_count": 9
        }
      ]
    },
    {
      "cell_type": "code",
      "source": [
        "5%7"
      ],
      "metadata": {
        "colab": {
          "base_uri": "https://localhost:8080/"
        },
        "id": "6_xNsD3oVa1F",
        "outputId": "43099b3e-d272-4d9d-a15f-fd1dea6fb2a3"
      },
      "execution_count": null,
      "outputs": [
        {
          "output_type": "execute_result",
          "data": {
            "text/plain": [
              "5"
            ]
          },
          "metadata": {},
          "execution_count": 10
        }
      ]
    },
    {
      "cell_type": "code",
      "source": [
        "# ** : this is used to claculate the power 2^3\n",
        "2**3"
      ],
      "metadata": {
        "colab": {
          "base_uri": "https://localhost:8080/"
        },
        "id": "vHYNMgeVVghp",
        "outputId": "3ed56495-20a4-4787-84ba-f5f0a13cde9f"
      },
      "execution_count": null,
      "outputs": [
        {
          "output_type": "execute_result",
          "data": {
            "text/plain": [
              "8"
            ]
          },
          "metadata": {},
          "execution_count": 11
        }
      ]
    },
    {
      "cell_type": "code",
      "source": [
        "2**100"
      ],
      "metadata": {
        "colab": {
          "base_uri": "https://localhost:8080/"
        },
        "id": "Xb-SgTMTVrYE",
        "outputId": "cefdda54-e0b0-4ff2-ef48-b8d8a9e57209"
      },
      "execution_count": null,
      "outputs": [
        {
          "output_type": "execute_result",
          "data": {
            "text/plain": [
              "1267650600228229401496703205376"
            ]
          },
          "metadata": {},
          "execution_count": 12
        }
      ]
    },
    {
      "cell_type": "code",
      "source": [
        "56789**567"
      ],
      "metadata": {
        "colab": {
          "base_uri": "https://localhost:8080/"
        },
        "id": "7epuHSFvVtYu",
        "outputId": "69ab588a-4c23-4fbd-c1f7-aa3a66760369"
      },
      "execution_count": null,
      "outputs": [
        {
          "output_type": "execute_result",
          "data": {
            "text/plain": [
              "46538613791853793742091679220994909019137477680832025721115686192007316470423524950595851789576898595027438076668083249456893317478865938416451922275106926610451204483606243399515940600132702937087552154436819096601966253473306218773377463817207733045148769890685918533747814485609882685474162876388339516183680554465610132499444048363124447371660687140611719500680637194191386115236223282001191960498355703666674779480130255374665471569947263964983867215956369224830075695719699212933450599289232486930583530027227004553692810976192367486618526243412076388384609619717805744375761364054386118326954905810608709283731463367755830652349371513257998880874310463190931587618835553326975774371471447060297667424851773687272468152004742154684317116821953906045173042946821876485849854300571022680950247169299170641672520243880378290876078461434105855583487878855591546939988724737335537516682999929742442521323695083159944486135845438670709258789915457326624215801179388923307604163972092267127047102655729975287378079680916052279136172886471495886455097680076144103424490783033902688228252280991994382443534019446560961943203050058393027607246279646832934577753260884118302965366195227060605320410104046897926086126167383528904506059966658486551450736298347027447034917780639619391969763088712644379778834611033946071354622684827745745005733057876215864552493929794525966133428156797689935093853520974288555355460214219288472765723516454191348799401856610739420953912385610466161564087110181609860262905873313823538367973259495985644372122352872031187058676916533398431159153309926957883568947035062973946078063819930458132339333514814073304336239509942000377853501884569052790826366093571617313686297655411244439271095265840423218517563770106298162610121724343034441286067780198803687665395477760777163933067536973881436106396852540379725183553390074678726911274530159019692842903509115704017255453347478862081001111886926068031931728837016391285472112963329370772078525223260693983711774698268516743494837134234393612339842025399268906742187200863256511122705360757553791711673190654321997309568916948760436798025776426511904589160895951364581129897586453320447835697091014941905185994627810635853284136475511091904681847117329352769874306493440991267853300597412894992758329639286022136658174169835289536450531796480630843230610100363973225442429809176287686462555355117098472593283963741649512915581975549548291375461942343655602369425996056471606674083246684941095838474516502691332313054331852783471863431935304904352176840676927537534798187129519298594240829416234513727143816880343871030944304296820911158899782242035973897995578651100149934474187630432489250225164884195084199894780297404829"
            ]
          },
          "metadata": {},
          "execution_count": 13
        }
      ]
    },
    {
      "cell_type": "code",
      "source": [
        "# // floor division\n",
        "7/5"
      ],
      "metadata": {
        "colab": {
          "base_uri": "https://localhost:8080/"
        },
        "id": "7B08u5uTVxrR",
        "outputId": "aa00cc54-cc36-49b0-c5af-00ca43ca4694"
      },
      "execution_count": null,
      "outputs": [
        {
          "output_type": "execute_result",
          "data": {
            "text/plain": [
              "1.4"
            ]
          },
          "metadata": {},
          "execution_count": 14
        }
      ]
    },
    {
      "cell_type": "code",
      "source": [
        "7//5"
      ],
      "metadata": {
        "colab": {
          "base_uri": "https://localhost:8080/"
        },
        "id": "Bp8yQcWBV88d",
        "outputId": "8af2564a-c099-4077-f8db-d610b444bfec"
      },
      "execution_count": null,
      "outputs": [
        {
          "output_type": "execute_result",
          "data": {
            "text/plain": [
              "1"
            ]
          },
          "metadata": {},
          "execution_count": 15
        }
      ]
    },
    {
      "cell_type": "code",
      "source": [
        "int(7/5)"
      ],
      "metadata": {
        "colab": {
          "base_uri": "https://localhost:8080/"
        },
        "id": "Gey-LImrWEHR",
        "outputId": "16f42de6-fc55-45a9-b124-060d283757ea"
      },
      "execution_count": null,
      "outputs": [
        {
          "output_type": "execute_result",
          "data": {
            "text/plain": [
              "1"
            ]
          },
          "metadata": {},
          "execution_count": 16
        }
      ]
    },
    {
      "cell_type": "code",
      "source": [
        "#WAP to add the digits of the given number ( Do not use any loop)\n",
        "#num = 8901\n",
        "num= 8901\n",
        "a = num%10\n",
        "b = (num//10)%10\n",
        "c = (num//100)%10\n",
        "d = (num//1000)\n",
        "sum = a+b+c+d\n",
        "print(sum)\n",
        "#ans =18"
      ],
      "metadata": {
        "colab": {
          "base_uri": "https://localhost:8080/"
        },
        "id": "mA38uqQqWHkl",
        "outputId": "632fe70a-0fc0-422d-c339-52644f8fcb0a"
      },
      "execution_count": null,
      "outputs": [
        {
          "output_type": "stream",
          "name": "stdout",
          "text": [
            "18\n"
          ]
        }
      ]
    },
    {
      "cell_type": "code",
      "source": [
        "# WAP to swap first and last digit\n",
        "# num = 123\n",
        "# ans = 321\n",
        "num=123\n",
        "a=num%10\n",
        "num=num//10\n",
        "b=num%10\n",
        "num=num//10\n",
        "c=num%10\n",
        "print(a*100+b*10+c)"
      ],
      "metadata": {
        "colab": {
          "base_uri": "https://localhost:8080/"
        },
        "id": "Zd9iiEiiYhD2",
        "outputId": "075d9d3d-b1b0-4502-ac5d-c84078418ba6"
      },
      "execution_count": null,
      "outputs": [
        {
          "output_type": "stream",
          "name": "stdout",
          "text": [
            "321\n"
          ]
        }
      ]
    },
    {
      "cell_type": "code",
      "source": [
        "# comparision operator\n",
        "a = 9\n",
        "b = 11\n",
        "# output True / False \n",
        "a > b"
      ],
      "metadata": {
        "colab": {
          "base_uri": "https://localhost:8080/"
        },
        "id": "zJ9GsG-iZ8v2",
        "outputId": "a9398107-c619-4c53-f602-d9b9823338e5"
      },
      "execution_count": null,
      "outputs": [
        {
          "output_type": "execute_result",
          "data": {
            "text/plain": [
              "False"
            ]
          },
          "metadata": {},
          "execution_count": 25
        }
      ]
    },
    {
      "cell_type": "code",
      "source": [
        "a<b"
      ],
      "metadata": {
        "colab": {
          "base_uri": "https://localhost:8080/"
        },
        "id": "3DFXE24KZ8yw",
        "outputId": "8d2fad56-7b1b-42dd-f7c8-1a3ee0bc7165"
      },
      "execution_count": null,
      "outputs": [
        {
          "output_type": "execute_result",
          "data": {
            "text/plain": [
              "True"
            ]
          },
          "metadata": {},
          "execution_count": 26
        }
      ]
    },
    {
      "cell_type": "code",
      "source": [
        "a == b"
      ],
      "metadata": {
        "colab": {
          "base_uri": "https://localhost:8080/"
        },
        "id": "4pOl6jiDaTAq",
        "outputId": "a8086386-5af4-4612-8638-eb1a089ac018"
      },
      "execution_count": null,
      "outputs": [
        {
          "output_type": "execute_result",
          "data": {
            "text/plain": [
              "False"
            ]
          },
          "metadata": {},
          "execution_count": 27
        }
      ]
    },
    {
      "cell_type": "code",
      "source": [
        "a = 9\n",
        "b = 11\n",
        "a !=b"
      ],
      "metadata": {
        "colab": {
          "base_uri": "https://localhost:8080/"
        },
        "id": "bZ7gB1AWaWuE",
        "outputId": "d2eda2e3-b589-4ae9-8558-5f101e1c577c"
      },
      "execution_count": null,
      "outputs": [
        {
          "output_type": "execute_result",
          "data": {
            "text/plain": [
              "True"
            ]
          },
          "metadata": {},
          "execution_count": 28
        }
      ]
    },
    {
      "cell_type": "code",
      "source": [
        "a>=b"
      ],
      "metadata": {
        "colab": {
          "base_uri": "https://localhost:8080/"
        },
        "id": "EFleT6afahGj",
        "outputId": "bc0ec6a4-4f9f-4781-f1b3-6c3ed78ba8f2"
      },
      "execution_count": null,
      "outputs": [
        {
          "output_type": "execute_result",
          "data": {
            "text/plain": [
              "False"
            ]
          },
          "metadata": {},
          "execution_count": 29
        }
      ]
    },
    {
      "cell_type": "code",
      "source": [
        "a<=b"
      ],
      "metadata": {
        "colab": {
          "base_uri": "https://localhost:8080/"
        },
        "id": "UH1ZkdADanR2",
        "outputId": "5bcb5451-2ce0-4835-f0b4-12ddf1c781f6"
      },
      "execution_count": null,
      "outputs": [
        {
          "output_type": "execute_result",
          "data": {
            "text/plain": [
              "True"
            ]
          },
          "metadata": {},
          "execution_count": 30
        }
      ]
    },
    {
      "cell_type": "code",
      "source": [
        "# Logical operator\n",
        "x = True\n",
        "y= False\n",
        "z = True\n",
        "\n",
        "x and y"
      ],
      "metadata": {
        "colab": {
          "base_uri": "https://localhost:8080/"
        },
        "id": "hKmd-M75arBA",
        "outputId": "6135468b-a347-4f2e-cfa2-94c749834cb2"
      },
      "execution_count": null,
      "outputs": [
        {
          "output_type": "execute_result",
          "data": {
            "text/plain": [
              "False"
            ]
          },
          "metadata": {},
          "execution_count": 32
        }
      ]
    },
    {
      "cell_type": "code",
      "source": [
        "x and z"
      ],
      "metadata": {
        "colab": {
          "base_uri": "https://localhost:8080/"
        },
        "id": "YpC2GyNZbHQL",
        "outputId": "75335596-d6ec-426d-d953-617c2f52f663"
      },
      "execution_count": null,
      "outputs": [
        {
          "output_type": "execute_result",
          "data": {
            "text/plain": [
              "True"
            ]
          },
          "metadata": {},
          "execution_count": 33
        }
      ]
    },
    {
      "cell_type": "code",
      "source": [
        "x or y"
      ],
      "metadata": {
        "colab": {
          "base_uri": "https://localhost:8080/"
        },
        "id": "YotCvCgfbSGS",
        "outputId": "60795fcc-787d-40f5-c531-0d0aecc3db0a"
      },
      "execution_count": null,
      "outputs": [
        {
          "output_type": "execute_result",
          "data": {
            "text/plain": [
              "True"
            ]
          },
          "metadata": {},
          "execution_count": 34
        }
      ]
    },
    {
      "cell_type": "code",
      "source": [
        "not x"
      ],
      "metadata": {
        "colab": {
          "base_uri": "https://localhost:8080/"
        },
        "id": "1DcGUER-bSJR",
        "outputId": "f3fda6a9-4d16-454b-e21c-504bc0fb75da"
      },
      "execution_count": null,
      "outputs": [
        {
          "output_type": "execute_result",
          "data": {
            "text/plain": [
              "False"
            ]
          },
          "metadata": {},
          "execution_count": 35
        }
      ]
    },
    {
      "cell_type": "code",
      "source": [
        "not (x or y)"
      ],
      "metadata": {
        "colab": {
          "base_uri": "https://localhost:8080/"
        },
        "id": "iuzIxXSkbNtp",
        "outputId": "35a1ba1e-4520-49bd-97e2-98f43c336328"
      },
      "execution_count": null,
      "outputs": [
        {
          "output_type": "execute_result",
          "data": {
            "text/plain": [
              "False"
            ]
          },
          "metadata": {},
          "execution_count": 36
        }
      ]
    },
    {
      "cell_type": "code",
      "source": [
        "# membership \n",
        "# in : return true if we have data in collection\n",
        "# not in : this will true if data is not there"
      ],
      "metadata": {
        "id": "qeEhj09OboMe"
      },
      "execution_count": null,
      "outputs": []
    },
    {
      "cell_type": "code",
      "source": [
        "'i' in 'Shilpa'"
      ],
      "metadata": {
        "colab": {
          "base_uri": "https://localhost:8080/"
        },
        "id": "0axOHJ8bboPL",
        "outputId": "bb1fe46c-0929-467a-8586-d5c5f4f96dd9"
      },
      "execution_count": null,
      "outputs": [
        {
          "output_type": "execute_result",
          "data": {
            "text/plain": [
              "True"
            ]
          },
          "metadata": {},
          "execution_count": 37
        }
      ]
    },
    {
      "cell_type": "code",
      "source": [
        "'k' in 'Shilpa'"
      ],
      "metadata": {
        "colab": {
          "base_uri": "https://localhost:8080/"
        },
        "id": "-zW2DQO4cSxF",
        "outputId": "12b5e89f-3461-4f89-f004-3e5bdb2558a7"
      },
      "execution_count": null,
      "outputs": [
        {
          "output_type": "execute_result",
          "data": {
            "text/plain": [
              "False"
            ]
          },
          "metadata": {},
          "execution_count": 41
        }
      ]
    },
    {
      "cell_type": "code",
      "source": [
        "'hil' in 'Shilpa'"
      ],
      "metadata": {
        "colab": {
          "base_uri": "https://localhost:8080/"
        },
        "id": "aq_O3vTHboR1",
        "outputId": "0457f952-3a41-45e0-f707-5a7d90c7cbcc"
      },
      "execution_count": null,
      "outputs": [
        {
          "output_type": "execute_result",
          "data": {
            "text/plain": [
              "True"
            ]
          },
          "metadata": {},
          "execution_count": 38
        }
      ]
    },
    {
      "cell_type": "code",
      "source": [
        "'dfdfgd' in 'Shilpa'"
      ],
      "metadata": {
        "colab": {
          "base_uri": "https://localhost:8080/"
        },
        "id": "a3ecojmXcXJC",
        "outputId": "2d71f536-a0b7-41af-988f-0585dd5eb8c4"
      },
      "execution_count": null,
      "outputs": [
        {
          "output_type": "execute_result",
          "data": {
            "text/plain": [
              "False"
            ]
          },
          "metadata": {},
          "execution_count": 42
        }
      ]
    },
    {
      "cell_type": "code",
      "source": [
        "list1 = [5,6,7,8,5,3]\n",
        "8 in list1"
      ],
      "metadata": {
        "colab": {
          "base_uri": "https://localhost:8080/"
        },
        "id": "TqgPeH5Ub_jL",
        "outputId": "ef661dc0-5533-45f0-dc51-ecef0baf3789"
      },
      "execution_count": null,
      "outputs": [
        {
          "output_type": "execute_result",
          "data": {
            "text/plain": [
              "True"
            ]
          },
          "metadata": {},
          "execution_count": 40
        }
      ]
    },
    {
      "cell_type": "code",
      "source": [
        "'dfdfgd' not in 'Shilpa'"
      ],
      "metadata": {
        "colab": {
          "base_uri": "https://localhost:8080/"
        },
        "id": "S_asjww-caoo",
        "outputId": "a1811427-aeaf-45ff-a7c9-31708dc6685f"
      },
      "execution_count": null,
      "outputs": [
        {
          "output_type": "execute_result",
          "data": {
            "text/plain": [
              "True"
            ]
          },
          "metadata": {},
          "execution_count": 43
        }
      ]
    },
    {
      "cell_type": "code",
      "source": [
        "# identity operators are used to chekc with the same memory location\n",
        "# is\n",
        "# is not\n",
        "x = [1,2,3]\n",
        "y= [1,2,3]\n",
        "z = x"
      ],
      "metadata": {
        "id": "gMlj-7Pcb_mc"
      },
      "execution_count": null,
      "outputs": []
    },
    {
      "cell_type": "code",
      "source": [
        "x is y"
      ],
      "metadata": {
        "colab": {
          "base_uri": "https://localhost:8080/"
        },
        "id": "EIois_Qxb_pU",
        "outputId": "ea958a41-327d-4cce-917e-0f73925966fa"
      },
      "execution_count": null,
      "outputs": [
        {
          "output_type": "execute_result",
          "data": {
            "text/plain": [
              "False"
            ]
          },
          "metadata": {},
          "execution_count": 45
        }
      ]
    },
    {
      "cell_type": "code",
      "source": [
        "x is not y"
      ],
      "metadata": {
        "id": "cKKoPikVdXI0",
        "outputId": "5071cde6-0927-4b78-bdec-763af48ab54a",
        "colab": {
          "base_uri": "https://localhost:8080/"
        }
      },
      "execution_count": null,
      "outputs": [
        {
          "output_type": "execute_result",
          "data": {
            "text/plain": [
              "True"
            ]
          },
          "metadata": {},
          "execution_count": 50
        }
      ]
    },
    {
      "cell_type": "code",
      "source": [
        "# if you want to check memory address id()\n",
        "id(x)"
      ],
      "metadata": {
        "colab": {
          "base_uri": "https://localhost:8080/"
        },
        "id": "9VyKiuz9c6GT",
        "outputId": "62d05880-65b3-4619-c846-15083c84e184"
      },
      "execution_count": null,
      "outputs": [
        {
          "output_type": "execute_result",
          "data": {
            "text/plain": [
              "140066391411712"
            ]
          },
          "metadata": {},
          "execution_count": 46
        }
      ]
    },
    {
      "cell_type": "code",
      "source": [
        "id(y)"
      ],
      "metadata": {
        "colab": {
          "base_uri": "https://localhost:8080/"
        },
        "id": "zYExAyRCdDR9",
        "outputId": "8970c996-289e-4e5a-8724-7be3c385b0e7"
      },
      "execution_count": null,
      "outputs": [
        {
          "output_type": "execute_result",
          "data": {
            "text/plain": [
              "140066390107968"
            ]
          },
          "metadata": {},
          "execution_count": 47
        }
      ]
    },
    {
      "cell_type": "code",
      "source": [
        "x is z"
      ],
      "metadata": {
        "colab": {
          "base_uri": "https://localhost:8080/"
        },
        "id": "OtGw1BY9dEwh",
        "outputId": "b6bff76e-f8d3-40a3-c0ea-cf8927e81d0c"
      },
      "execution_count": null,
      "outputs": [
        {
          "output_type": "execute_result",
          "data": {
            "text/plain": [
              "True"
            ]
          },
          "metadata": {},
          "execution_count": 48
        }
      ]
    },
    {
      "cell_type": "code",
      "source": [
        "id(z)"
      ],
      "metadata": {
        "colab": {
          "base_uri": "https://localhost:8080/"
        },
        "id": "aAVEzMTEdK6A",
        "outputId": "09de302c-a008-4a59-8624-55c72656a16f"
      },
      "execution_count": null,
      "outputs": [
        {
          "output_type": "execute_result",
          "data": {
            "text/plain": [
              "140066391411712"
            ]
          },
          "metadata": {},
          "execution_count": 49
        }
      ]
    },
    {
      "cell_type": "code",
      "source": [],
      "metadata": {
        "id": "oNaHOkJ2dNkB"
      },
      "execution_count": null,
      "outputs": []
    }
  ]
}